{
 "cells": [
  {
   "cell_type": "markdown",
   "id": "86b1ef60-0f3c-4d6e-9c3c-54b7e183fb3b",
   "metadata": {},
   "source": [
    "When describing the planets of our solar system we often highlight how unique each one is. From the sunscathed surface of Mercury to the deep blue colors of Neptune, each planet has some interesting quality not seen in the others. \\\n",
    "It makes you wonder! \\\n",
    "        - If each planet in our system is charming in their own way, what sets planets of other systems apart from them? \\\n",
    "        - These exo-planets, are they all especially unique? \\\n",
    "        - Do their characteristics eventually fall into some trends? What are those characteristics? \\\n",
    "Unfortunately, some of these questions can't be answered with the technology we possess now, but we can learn some things! \\\n",
    "For years, scientists have observed exo-planets using a variety of techniques to help discern as much as they could about them. \\\n",
    "And in this workbook I'll be showcasing some analysis on the data they've collected."
   ]
  },
  {
   "cell_type": "code",
   "execution_count": 1,
   "id": "f434c466-4e0a-4681-9286-912eb9788257",
   "metadata": {
    "tags": []
   },
   "outputs": [
    {
     "data": {
      "text/html": [
       "\n",
       "    <div class=\"bk-root\">\n",
       "        <a href=\"https://bokeh.org\" target=\"_blank\" class=\"bk-logo bk-logo-small bk-logo-notebook\"></a>\n",
       "        <span id=\"1002\">Loading BokehJS ...</span>\n",
       "    </div>"
      ]
     },
     "metadata": {},
     "output_type": "display_data"
    },
    {
     "data": {
      "application/javascript": [
       "\n",
       "(function(root) {\n",
       "  function now() {\n",
       "    return new Date();\n",
       "  }\n",
       "\n",
       "  var force = true;\n",
       "\n",
       "  if (typeof root._bokeh_onload_callbacks === \"undefined\" || force === true) {\n",
       "    root._bokeh_onload_callbacks = [];\n",
       "    root._bokeh_is_loading = undefined;\n",
       "  }\n",
       "\n",
       "  var JS_MIME_TYPE = 'application/javascript';\n",
       "  var HTML_MIME_TYPE = 'text/html';\n",
       "  var EXEC_MIME_TYPE = 'application/vnd.bokehjs_exec.v0+json';\n",
       "  var CLASS_NAME = 'output_bokeh rendered_html';\n",
       "\n",
       "  /**\n",
       "   * Render data to the DOM node\n",
       "   */\n",
       "  function render(props, node) {\n",
       "    var script = document.createElement(\"script\");\n",
       "    node.appendChild(script);\n",
       "  }\n",
       "\n",
       "  /**\n",
       "   * Handle when an output is cleared or removed\n",
       "   */\n",
       "  function handleClearOutput(event, handle) {\n",
       "    var cell = handle.cell;\n",
       "\n",
       "    var id = cell.output_area._bokeh_element_id;\n",
       "    var server_id = cell.output_area._bokeh_server_id;\n",
       "    // Clean up Bokeh references\n",
       "    if (id != null && id in Bokeh.index) {\n",
       "      Bokeh.index[id].model.document.clear();\n",
       "      delete Bokeh.index[id];\n",
       "    }\n",
       "\n",
       "    if (server_id !== undefined) {\n",
       "      // Clean up Bokeh references\n",
       "      var cmd = \"from bokeh.io.state import curstate; print(curstate().uuid_to_server['\" + server_id + \"'].get_sessions()[0].document.roots[0]._id)\";\n",
       "      cell.notebook.kernel.execute(cmd, {\n",
       "        iopub: {\n",
       "          output: function(msg) {\n",
       "            var id = msg.content.text.trim();\n",
       "            if (id in Bokeh.index) {\n",
       "              Bokeh.index[id].model.document.clear();\n",
       "              delete Bokeh.index[id];\n",
       "            }\n",
       "          }\n",
       "        }\n",
       "      });\n",
       "      // Destroy server and session\n",
       "      var cmd = \"import bokeh.io.notebook as ion; ion.destroy_server('\" + server_id + \"')\";\n",
       "      cell.notebook.kernel.execute(cmd);\n",
       "    }\n",
       "  }\n",
       "\n",
       "  /**\n",
       "   * Handle when a new output is added\n",
       "   */\n",
       "  function handleAddOutput(event, handle) {\n",
       "    var output_area = handle.output_area;\n",
       "    var output = handle.output;\n",
       "\n",
       "    // limit handleAddOutput to display_data with EXEC_MIME_TYPE content only\n",
       "    if ((output.output_type != \"display_data\") || (!Object.prototype.hasOwnProperty.call(output.data, EXEC_MIME_TYPE))) {\n",
       "      return\n",
       "    }\n",
       "\n",
       "    var toinsert = output_area.element.find(\".\" + CLASS_NAME.split(' ')[0]);\n",
       "\n",
       "    if (output.metadata[EXEC_MIME_TYPE][\"id\"] !== undefined) {\n",
       "      toinsert[toinsert.length - 1].firstChild.textContent = output.data[JS_MIME_TYPE];\n",
       "      // store reference to embed id on output_area\n",
       "      output_area._bokeh_element_id = output.metadata[EXEC_MIME_TYPE][\"id\"];\n",
       "    }\n",
       "    if (output.metadata[EXEC_MIME_TYPE][\"server_id\"] !== undefined) {\n",
       "      var bk_div = document.createElement(\"div\");\n",
       "      bk_div.innerHTML = output.data[HTML_MIME_TYPE];\n",
       "      var script_attrs = bk_div.children[0].attributes;\n",
       "      for (var i = 0; i < script_attrs.length; i++) {\n",
       "        toinsert[toinsert.length - 1].firstChild.setAttribute(script_attrs[i].name, script_attrs[i].value);\n",
       "        toinsert[toinsert.length - 1].firstChild.textContent = bk_div.children[0].textContent\n",
       "      }\n",
       "      // store reference to server id on output_area\n",
       "      output_area._bokeh_server_id = output.metadata[EXEC_MIME_TYPE][\"server_id\"];\n",
       "    }\n",
       "  }\n",
       "\n",
       "  function register_renderer(events, OutputArea) {\n",
       "\n",
       "    function append_mime(data, metadata, element) {\n",
       "      // create a DOM node to render to\n",
       "      var toinsert = this.create_output_subarea(\n",
       "        metadata,\n",
       "        CLASS_NAME,\n",
       "        EXEC_MIME_TYPE\n",
       "      );\n",
       "      this.keyboard_manager.register_events(toinsert);\n",
       "      // Render to node\n",
       "      var props = {data: data, metadata: metadata[EXEC_MIME_TYPE]};\n",
       "      render(props, toinsert[toinsert.length - 1]);\n",
       "      element.append(toinsert);\n",
       "      return toinsert\n",
       "    }\n",
       "\n",
       "    /* Handle when an output is cleared or removed */\n",
       "    events.on('clear_output.CodeCell', handleClearOutput);\n",
       "    events.on('delete.Cell', handleClearOutput);\n",
       "\n",
       "    /* Handle when a new output is added */\n",
       "    events.on('output_added.OutputArea', handleAddOutput);\n",
       "\n",
       "    /**\n",
       "     * Register the mime type and append_mime function with output_area\n",
       "     */\n",
       "    OutputArea.prototype.register_mime_type(EXEC_MIME_TYPE, append_mime, {\n",
       "      /* Is output safe? */\n",
       "      safe: true,\n",
       "      /* Index of renderer in `output_area.display_order` */\n",
       "      index: 0\n",
       "    });\n",
       "  }\n",
       "\n",
       "  // register the mime type if in Jupyter Notebook environment and previously unregistered\n",
       "  if (root.Jupyter !== undefined) {\n",
       "    var events = require('base/js/events');\n",
       "    var OutputArea = require('notebook/js/outputarea').OutputArea;\n",
       "\n",
       "    if (OutputArea.prototype.mime_types().indexOf(EXEC_MIME_TYPE) == -1) {\n",
       "      register_renderer(events, OutputArea);\n",
       "    }\n",
       "  }\n",
       "\n",
       "  \n",
       "  if (typeof (root._bokeh_timeout) === \"undefined\" || force === true) {\n",
       "    root._bokeh_timeout = Date.now() + 5000;\n",
       "    root._bokeh_failed_load = false;\n",
       "  }\n",
       "\n",
       "  var NB_LOAD_WARNING = {'data': {'text/html':\n",
       "     \"<div style='background-color: #fdd'>\\n\"+\n",
       "     \"<p>\\n\"+\n",
       "     \"BokehJS does not appear to have successfully loaded. If loading BokehJS from CDN, this \\n\"+\n",
       "     \"may be due to a slow or bad network connection. Possible fixes:\\n\"+\n",
       "     \"</p>\\n\"+\n",
       "     \"<ul>\\n\"+\n",
       "     \"<li>re-rerun `output_notebook()` to attempt to load from CDN again, or</li>\\n\"+\n",
       "     \"<li>use INLINE resources instead, as so:</li>\\n\"+\n",
       "     \"</ul>\\n\"+\n",
       "     \"<code>\\n\"+\n",
       "     \"from bokeh.resources import INLINE\\n\"+\n",
       "     \"output_notebook(resources=INLINE)\\n\"+\n",
       "     \"</code>\\n\"+\n",
       "     \"</div>\"}};\n",
       "\n",
       "  function display_loaded() {\n",
       "    var el = document.getElementById(\"1002\");\n",
       "    if (el != null) {\n",
       "      el.textContent = \"BokehJS is loading...\";\n",
       "    }\n",
       "    if (root.Bokeh !== undefined) {\n",
       "      if (el != null) {\n",
       "        el.textContent = \"BokehJS \" + root.Bokeh.version + \" successfully loaded.\";\n",
       "      }\n",
       "    } else if (Date.now() < root._bokeh_timeout) {\n",
       "      setTimeout(display_loaded, 100)\n",
       "    }\n",
       "  }\n",
       "\n",
       "\n",
       "  function run_callbacks() {\n",
       "    try {\n",
       "      root._bokeh_onload_callbacks.forEach(function(callback) {\n",
       "        if (callback != null)\n",
       "          callback();\n",
       "      });\n",
       "    } finally {\n",
       "      delete root._bokeh_onload_callbacks\n",
       "    }\n",
       "    console.debug(\"Bokeh: all callbacks have finished\");\n",
       "  }\n",
       "\n",
       "  function load_libs(css_urls, js_urls, callback) {\n",
       "    if (css_urls == null) css_urls = [];\n",
       "    if (js_urls == null) js_urls = [];\n",
       "\n",
       "    root._bokeh_onload_callbacks.push(callback);\n",
       "    if (root._bokeh_is_loading > 0) {\n",
       "      console.debug(\"Bokeh: BokehJS is being loaded, scheduling callback at\", now());\n",
       "      return null;\n",
       "    }\n",
       "    if (js_urls == null || js_urls.length === 0) {\n",
       "      run_callbacks();\n",
       "      return null;\n",
       "    }\n",
       "    console.debug(\"Bokeh: BokehJS not loaded, scheduling load and callback at\", now());\n",
       "    root._bokeh_is_loading = css_urls.length + js_urls.length;\n",
       "\n",
       "    function on_load() {\n",
       "      root._bokeh_is_loading--;\n",
       "      if (root._bokeh_is_loading === 0) {\n",
       "        console.debug(\"Bokeh: all BokehJS libraries/stylesheets loaded\");\n",
       "        run_callbacks()\n",
       "      }\n",
       "    }\n",
       "\n",
       "    function on_error(url) {\n",
       "      console.error(\"failed to load \" + url);\n",
       "    }\n",
       "\n",
       "    for (let i = 0; i < css_urls.length; i++) {\n",
       "      const url = css_urls[i];\n",
       "      const element = document.createElement(\"link\");\n",
       "      element.onload = on_load;\n",
       "      element.onerror = on_error.bind(null, url);\n",
       "      element.rel = \"stylesheet\";\n",
       "      element.type = \"text/css\";\n",
       "      element.href = url;\n",
       "      console.debug(\"Bokeh: injecting link tag for BokehJS stylesheet: \", url);\n",
       "      document.body.appendChild(element);\n",
       "    }\n",
       "\n",
       "    const hashes = {\"https://cdn.bokeh.org/bokeh/release/bokeh-2.3.2.min.js\": \"XypntL49z55iwGVUW4qsEu83zKL3XEcz0MjuGOQ9SlaaQ68X/g+k1FcioZi7oQAc\", \"https://cdn.bokeh.org/bokeh/release/bokeh-tables-2.3.2.min.js\": \"bEsM86IHGDTLCS0Zod8a8WM6Y4+lafAL/eSiyQcuPzinmWNgNO2/olUF0Z2Dkn5i\", \"https://cdn.bokeh.org/bokeh/release/bokeh-widgets-2.3.2.min.js\": \"TX0gSQTdXTTeScqxj6PVQxTiRW8DOoGVwinyi1D3kxv7wuxQ02XkOxv0xwiypcAH\"};\n",
       "\n",
       "    for (let i = 0; i < js_urls.length; i++) {\n",
       "      const url = js_urls[i];\n",
       "      const element = document.createElement('script');\n",
       "      element.onload = on_load;\n",
       "      element.onerror = on_error.bind(null, url);\n",
       "      element.async = false;\n",
       "      element.src = url;\n",
       "      if (url in hashes) {\n",
       "        element.crossOrigin = \"anonymous\";\n",
       "        element.integrity = \"sha384-\" + hashes[url];\n",
       "      }\n",
       "      console.debug(\"Bokeh: injecting script tag for BokehJS library: \", url);\n",
       "      document.head.appendChild(element);\n",
       "    }\n",
       "  };\n",
       "\n",
       "  function inject_raw_css(css) {\n",
       "    const element = document.createElement(\"style\");\n",
       "    element.appendChild(document.createTextNode(css));\n",
       "    document.body.appendChild(element);\n",
       "  }\n",
       "\n",
       "  \n",
       "  var js_urls = [\"https://cdn.bokeh.org/bokeh/release/bokeh-2.3.2.min.js\", \"https://cdn.bokeh.org/bokeh/release/bokeh-widgets-2.3.2.min.js\", \"https://cdn.bokeh.org/bokeh/release/bokeh-tables-2.3.2.min.js\"];\n",
       "  var css_urls = [];\n",
       "  \n",
       "\n",
       "  var inline_js = [\n",
       "    function(Bokeh) {\n",
       "      Bokeh.set_log_level(\"info\");\n",
       "    },\n",
       "    function(Bokeh) {\n",
       "    \n",
       "    \n",
       "    }\n",
       "  ];\n",
       "\n",
       "  function run_inline_js() {\n",
       "    \n",
       "    if (root.Bokeh !== undefined || force === true) {\n",
       "      \n",
       "    for (var i = 0; i < inline_js.length; i++) {\n",
       "      inline_js[i].call(root, root.Bokeh);\n",
       "    }\n",
       "    if (force === true) {\n",
       "        display_loaded();\n",
       "      }} else if (Date.now() < root._bokeh_timeout) {\n",
       "      setTimeout(run_inline_js, 100);\n",
       "    } else if (!root._bokeh_failed_load) {\n",
       "      console.log(\"Bokeh: BokehJS failed to load within specified timeout.\");\n",
       "      root._bokeh_failed_load = true;\n",
       "    } else if (force !== true) {\n",
       "      var cell = $(document.getElementById(\"1002\")).parents('.cell').data().cell;\n",
       "      cell.output_area.append_execute_result(NB_LOAD_WARNING)\n",
       "    }\n",
       "\n",
       "  }\n",
       "\n",
       "  if (root._bokeh_is_loading === 0) {\n",
       "    console.debug(\"Bokeh: BokehJS loaded, going straight to plotting\");\n",
       "    run_inline_js();\n",
       "  } else {\n",
       "    load_libs(css_urls, js_urls, function() {\n",
       "      console.debug(\"Bokeh: BokehJS plotting callback run at\", now());\n",
       "      run_inline_js();\n",
       "    });\n",
       "  }\n",
       "}(window));"
      ],
      "application/vnd.bokehjs_load.v0+json": "\n(function(root) {\n  function now() {\n    return new Date();\n  }\n\n  var force = true;\n\n  if (typeof root._bokeh_onload_callbacks === \"undefined\" || force === true) {\n    root._bokeh_onload_callbacks = [];\n    root._bokeh_is_loading = undefined;\n  }\n\n  \n\n  \n  if (typeof (root._bokeh_timeout) === \"undefined\" || force === true) {\n    root._bokeh_timeout = Date.now() + 5000;\n    root._bokeh_failed_load = false;\n  }\n\n  var NB_LOAD_WARNING = {'data': {'text/html':\n     \"<div style='background-color: #fdd'>\\n\"+\n     \"<p>\\n\"+\n     \"BokehJS does not appear to have successfully loaded. If loading BokehJS from CDN, this \\n\"+\n     \"may be due to a slow or bad network connection. Possible fixes:\\n\"+\n     \"</p>\\n\"+\n     \"<ul>\\n\"+\n     \"<li>re-rerun `output_notebook()` to attempt to load from CDN again, or</li>\\n\"+\n     \"<li>use INLINE resources instead, as so:</li>\\n\"+\n     \"</ul>\\n\"+\n     \"<code>\\n\"+\n     \"from bokeh.resources import INLINE\\n\"+\n     \"output_notebook(resources=INLINE)\\n\"+\n     \"</code>\\n\"+\n     \"</div>\"}};\n\n  function display_loaded() {\n    var el = document.getElementById(\"1002\");\n    if (el != null) {\n      el.textContent = \"BokehJS is loading...\";\n    }\n    if (root.Bokeh !== undefined) {\n      if (el != null) {\n        el.textContent = \"BokehJS \" + root.Bokeh.version + \" successfully loaded.\";\n      }\n    } else if (Date.now() < root._bokeh_timeout) {\n      setTimeout(display_loaded, 100)\n    }\n  }\n\n\n  function run_callbacks() {\n    try {\n      root._bokeh_onload_callbacks.forEach(function(callback) {\n        if (callback != null)\n          callback();\n      });\n    } finally {\n      delete root._bokeh_onload_callbacks\n    }\n    console.debug(\"Bokeh: all callbacks have finished\");\n  }\n\n  function load_libs(css_urls, js_urls, callback) {\n    if (css_urls == null) css_urls = [];\n    if (js_urls == null) js_urls = [];\n\n    root._bokeh_onload_callbacks.push(callback);\n    if (root._bokeh_is_loading > 0) {\n      console.debug(\"Bokeh: BokehJS is being loaded, scheduling callback at\", now());\n      return null;\n    }\n    if (js_urls == null || js_urls.length === 0) {\n      run_callbacks();\n      return null;\n    }\n    console.debug(\"Bokeh: BokehJS not loaded, scheduling load and callback at\", now());\n    root._bokeh_is_loading = css_urls.length + js_urls.length;\n\n    function on_load() {\n      root._bokeh_is_loading--;\n      if (root._bokeh_is_loading === 0) {\n        console.debug(\"Bokeh: all BokehJS libraries/stylesheets loaded\");\n        run_callbacks()\n      }\n    }\n\n    function on_error(url) {\n      console.error(\"failed to load \" + url);\n    }\n\n    for (let i = 0; i < css_urls.length; i++) {\n      const url = css_urls[i];\n      const element = document.createElement(\"link\");\n      element.onload = on_load;\n      element.onerror = on_error.bind(null, url);\n      element.rel = \"stylesheet\";\n      element.type = \"text/css\";\n      element.href = url;\n      console.debug(\"Bokeh: injecting link tag for BokehJS stylesheet: \", url);\n      document.body.appendChild(element);\n    }\n\n    const hashes = {\"https://cdn.bokeh.org/bokeh/release/bokeh-2.3.2.min.js\": \"XypntL49z55iwGVUW4qsEu83zKL3XEcz0MjuGOQ9SlaaQ68X/g+k1FcioZi7oQAc\", \"https://cdn.bokeh.org/bokeh/release/bokeh-tables-2.3.2.min.js\": \"bEsM86IHGDTLCS0Zod8a8WM6Y4+lafAL/eSiyQcuPzinmWNgNO2/olUF0Z2Dkn5i\", \"https://cdn.bokeh.org/bokeh/release/bokeh-widgets-2.3.2.min.js\": \"TX0gSQTdXTTeScqxj6PVQxTiRW8DOoGVwinyi1D3kxv7wuxQ02XkOxv0xwiypcAH\"};\n\n    for (let i = 0; i < js_urls.length; i++) {\n      const url = js_urls[i];\n      const element = document.createElement('script');\n      element.onload = on_load;\n      element.onerror = on_error.bind(null, url);\n      element.async = false;\n      element.src = url;\n      if (url in hashes) {\n        element.crossOrigin = \"anonymous\";\n        element.integrity = \"sha384-\" + hashes[url];\n      }\n      console.debug(\"Bokeh: injecting script tag for BokehJS library: \", url);\n      document.head.appendChild(element);\n    }\n  };\n\n  function inject_raw_css(css) {\n    const element = document.createElement(\"style\");\n    element.appendChild(document.createTextNode(css));\n    document.body.appendChild(element);\n  }\n\n  \n  var js_urls = [\"https://cdn.bokeh.org/bokeh/release/bokeh-2.3.2.min.js\", \"https://cdn.bokeh.org/bokeh/release/bokeh-widgets-2.3.2.min.js\", \"https://cdn.bokeh.org/bokeh/release/bokeh-tables-2.3.2.min.js\"];\n  var css_urls = [];\n  \n\n  var inline_js = [\n    function(Bokeh) {\n      Bokeh.set_log_level(\"info\");\n    },\n    function(Bokeh) {\n    \n    \n    }\n  ];\n\n  function run_inline_js() {\n    \n    if (root.Bokeh !== undefined || force === true) {\n      \n    for (var i = 0; i < inline_js.length; i++) {\n      inline_js[i].call(root, root.Bokeh);\n    }\n    if (force === true) {\n        display_loaded();\n      }} else if (Date.now() < root._bokeh_timeout) {\n      setTimeout(run_inline_js, 100);\n    } else if (!root._bokeh_failed_load) {\n      console.log(\"Bokeh: BokehJS failed to load within specified timeout.\");\n      root._bokeh_failed_load = true;\n    } else if (force !== true) {\n      var cell = $(document.getElementById(\"1002\")).parents('.cell').data().cell;\n      cell.output_area.append_execute_result(NB_LOAD_WARNING)\n    }\n\n  }\n\n  if (root._bokeh_is_loading === 0) {\n    console.debug(\"Bokeh: BokehJS loaded, going straight to plotting\");\n    run_inline_js();\n  } else {\n    load_libs(css_urls, js_urls, function() {\n      console.debug(\"Bokeh: BokehJS plotting callback run at\", now());\n      run_inline_js();\n    });\n  }\n}(window));"
     },
     "metadata": {},
     "output_type": "display_data"
    }
   ],
   "source": [
    "import astroquery\n",
    "from astroquery.mast import Catalogs, Observations\n",
    "from astropy import units as u\n",
    "from astropy.coordinates import SkyCoord\n",
    "from astroquery import open_exoplanet_catalogue as oec\n",
    "from astroquery.open_exoplanet_catalogue import findvalue\n",
    "import numpy as np\n",
    "import pandas as pd\n",
    "from time import time\n",
    "from astroquery.exoplanet_orbit_database import ExoplanetOrbitDatabase\n",
    "from astroquery.ipac.nexsci.nasa_exoplanet_archive import NasaExoplanetArchive\n",
    "\n",
    "from bokeh.plotting import figure, output_file, show\n",
    "from bokeh.models import ColumnDataSource, Label, LabelSet, Range1d, Span\n",
    "from bokeh.io import output_notebook\n",
    "output_notebook()\n",
    "\n",
    "from functools import wraps\n",
    "\n",
    "def measure(func):\n",
    "    @wraps(func)\n",
    "    def _time_it(*args, **kwargs):\n",
    "        start = int(round(time() * 1000))\n",
    "        try:\n",
    "            return func(*args, **kwargs)\n",
    "        finally:\n",
    "            end_ = int(round(time() * 1000)) - start\n",
    "            print(f\"Total execution time: {end_ if end_ > 0 else 0} ms\")\n",
    "    return _time_it"
   ]
  },
  {
   "cell_type": "markdown",
   "id": "d2d171ea-0707-456b-adf8-0b316771805c",
   "metadata": {},
   "source": [
    "To do analysis I'll be using Python. \\\n",
    "The main portion of the data will come from the Open Exoplanet Catalogue. \\\n",
    "And I'll extract the data using the Astropy/Astroquery Python libraries"
   ]
  },
  {
   "cell_type": "code",
   "execution_count": 2,
   "id": "2e077303-66b4-431d-bce8-34ddb0550fe4",
   "metadata": {
    "tags": []
   },
   "outputs": [],
   "source": [
    "data = oec.get_catalogue()"
   ]
  },
  {
   "cell_type": "markdown",
   "id": "5fb8ffe5-bdff-413b-b432-c2560a6b917c",
   "metadata": {},
   "source": [
    "We're all familiar with our solar system, so let's take a look at another one. \\\n",
    "One of the most notable and interesting systems discovered to data: TRAPPIST-1"
   ]
  },
  {
   "cell_type": "code",
   "execution_count": 3,
   "id": "3a031452-b47f-4c25-9187-e36a3801dd2b",
   "metadata": {
    "tags": []
   },
   "outputs": [
    {
     "name": "stdout",
     "output_type": "stream",
     "text": [
      "STAR:\n",
      "\tname:TRAPPIST-1\n",
      "\tname:2MASS J23062928-0502285\n",
      "\tname:K2-112\n",
      "\tname:EPIC 246199087\n",
      "\tname:Gaia DR2 2635476908753563008\n",
      "\tmagV:18.798\n",
      "\tmagR:16.401\n",
      "\tmagI:13.966\n",
      "\tmagJ:11.35\n",
      "\tmagH:10.72\n",
      "\tmagK:10.30\n",
      "\tspectraltype:M8 V\n",
      "\ttemperature:2516\n",
      "\tmetallicity:0.04\n",
      "\tradius:0.121\n",
      "\tmass:0.089\n",
      "\tage:7.6\n",
      "\t# of planets: 7\n"
     ]
    }
   ],
   "source": [
    "exo_planet_count = 0\n",
    "print('STAR:')\n",
    "for properties in data.findall(\".//star[name='TRAPPIST-1']/*\"):\n",
    "    if properties.tag == 'planet':\n",
    "        exo_planet_count += 1\n",
    "    else:\n",
    "        print('\\t{}:{}'.format(properties.tag, properties.text))\n",
    "print('\\t' + '# of planets: {}'.format(exo_planet_count))"
   ]
  },
  {
   "cell_type": "markdown",
   "id": "1b826658-b4a8-4ce3-b4cf-4db4cbc90af3",
   "metadata": {},
   "source": [
    "This is information about the system's star: TRAPPIST-1!"
   ]
  },
  {
   "cell_type": "code",
   "execution_count": 4,
   "id": "3fd5be1f-b08b-4f15-a4e8-0585aa820449",
   "metadata": {
    "tags": []
   },
   "outputs": [
    {
     "name": "stdout",
     "output_type": "stream",
     "text": [
      "name:TRAPPIST-1\n",
      "name:2MASS J23062928-0502285\n",
      "name:K2-112\n",
      "name:EPIC 246199087\n",
      "name:Gaia DR2 2635476908753563008\n",
      "magV:18.798\n",
      "magR:16.401\n",
      "magI:13.966\n",
      "magJ:11.35\n",
      "magH:10.72\n",
      "magK:10.30\n",
      "spectraltype:M8 V\n",
      "temperature:2516\n",
      "metallicity:0.04\n",
      "radius:0.121\n",
      "mass:0.089\n",
      "age:7.6\n",
      "PLANETS:\n",
      "\tNAME:  TRAPPIST-1 b\n",
      "\tMASS MEASURES:  0.0032\t0.000485\t4.5e-05\tNone\tNone\n",
      "\tRADIUS MESASURES:  0.121\t0.003\t0.003\tNone\tNone\n",
      "\tNAME:  TRAPPIST-1 c\n",
      "\tMASS MEASURES:  0.003637\t0.000447\t0.000412\tNone\tNone\n",
      "\tRADIUS MESASURES:  0.121\t0.003\t0.003\tNone\tNone\n",
      "\tNAME:  TRAPPIST-1 d\n",
      "\tMASS MEASURES:  0.000934\t0.000122\t0.00011\tNone\tNone\n",
      "\tRADIUS MESASURES:  0.121\t0.003\t0.003\tNone\tNone\n",
      "\tNAME:  TRAPPIST-1 e\n",
      "\tMASS MEASURES:  0.002429\t0.000249\t0.000236\tNone\tNone\n",
      "\tRADIUS MESASURES:  0.121\t0.003\t0.003\tNone\tNone\n",
      "\tNAME:  TRAPPIST-1 f\n",
      "\tMASS MEASURES:  0.002939\t0.000252\t0.000245\tNone\tNone\n",
      "\tRADIUS MESASURES:  0.121\t0.003\t0.003\tNone\tNone\n",
      "\tNAME:  TRAPPIST-1 g\n",
      "\tMASS MEASURES:  0.003612\t0.000308\t0.000299\tNone\tNone\n",
      "\tRADIUS MESASURES:  0.121\t0.003\t0.003\tNone\tNone\n",
      "\tNAME:  TRAPPIST-1 h\n",
      "\tMASS MEASURES:  0.001041\t0.000176\t0.000154\tNone\tNone\n",
      "\tRADIUS MESASURES:  0.121\t0.003\t0.003\tNone\tNone\n"
     ]
    }
   ],
   "source": [
    "#Let's get the trappist-1 system's data!\n",
    "for star in data.findall(\".//star[name='TRAPPIST-1']\"):\n",
    "    for properties in star.findall('*'):\n",
    "        if properties.tag != 'planet':\n",
    "            print('{}:{}'.format(properties.tag, properties.text))\n",
    "    print('PLANETS:')\n",
    "    for planet in star.findall(\".//planet\"):\n",
    "        for properties in planet.findall('*'):\n",
    "            #print('{}:{}'.format(properties.tag, properties.text))\n",
    "            pass\n",
    "        if findvalue(planet, 'mass') != None and findvalue(star, 'mass') != None:\n",
    "            print('\\tNAME: ', findvalue(planet, 'name'))\n",
    "            print('\\tMASS MEASURES: ', findvalue(planet, 'mass').machine_readable())\n",
    "            print('\\tRADIUS MESASURES: ', findvalue(star, 'radius').machine_readable())\n",
    "            pass\n",
    "        else:\n",
    "            #print('Null')\n",
    "            pass"
   ]
  },
  {
   "cell_type": "markdown",
   "id": "0e132946-acb4-438f-91d4-435374e0a056",
   "metadata": {},
   "source": [
    "This is information on each planet: name, mass, equitorial radius"
   ]
  },
  {
   "cell_type": "code",
   "execution_count": 5,
   "id": "596e2c22-f9bc-4b8b-bb62-ad56ce11e921",
   "metadata": {
    "tags": []
   },
   "outputs": [
    {
     "data": {
      "text/html": [
       "<div>\n",
       "<style scoped>\n",
       "    .dataframe tbody tr th:only-of-type {\n",
       "        vertical-align: middle;\n",
       "    }\n",
       "\n",
       "    .dataframe tbody tr th {\n",
       "        vertical-align: top;\n",
       "    }\n",
       "\n",
       "    .dataframe thead th {\n",
       "        text-align: right;\n",
       "    }\n",
       "</style>\n",
       "<table border=\"1\" class=\"dataframe\">\n",
       "  <thead>\n",
       "    <tr style=\"text-align: right;\">\n",
       "      <th></th>\n",
       "      <th>name</th>\n",
       "      <th>transittime</th>\n",
       "      <th>radius</th>\n",
       "      <th>semimajoraxis</th>\n",
       "      <th>temperature</th>\n",
       "      <th>mass</th>\n",
       "      <th>lastupdate</th>\n",
       "    </tr>\n",
       "  </thead>\n",
       "  <tbody>\n",
       "    <tr>\n",
       "      <th>0</th>\n",
       "      <td>TRAPPIST-1 b</td>\n",
       "      <td>2457606.56117</td>\n",
       "      <td>0.10001</td>\n",
       "      <td>0.01154775</td>\n",
       "      <td>400.1</td>\n",
       "      <td>0.003200</td>\n",
       "      <td>18/09/18</td>\n",
       "    </tr>\n",
       "    <tr>\n",
       "      <th>1</th>\n",
       "      <td>TRAPPIST-1 c</td>\n",
       "      <td>2457568.58230</td>\n",
       "      <td>0.09769</td>\n",
       "      <td>0.01581512</td>\n",
       "      <td>341.9</td>\n",
       "      <td>0.003637</td>\n",
       "      <td>18/09/18</td>\n",
       "    </tr>\n",
       "    <tr>\n",
       "      <th>2</th>\n",
       "      <td>TRAPPIST-1 d</td>\n",
       "      <td>2457682.2921</td>\n",
       "      <td>0.06994</td>\n",
       "      <td>0.02228038</td>\n",
       "      <td>288.0</td>\n",
       "      <td>0.000934</td>\n",
       "      <td>18/09/18</td>\n",
       "    </tr>\n",
       "    <tr>\n",
       "      <th>3</th>\n",
       "      <td>TRAPPIST-1 e</td>\n",
       "      <td>2457574.9829</td>\n",
       "      <td>0.08118</td>\n",
       "      <td>0.02928285</td>\n",
       "      <td>251.3</td>\n",
       "      <td>0.002429</td>\n",
       "      <td>18/09/18</td>\n",
       "    </tr>\n",
       "    <tr>\n",
       "      <th>4</th>\n",
       "      <td>TRAPPIST-1 f</td>\n",
       "      <td>2457616.1548</td>\n",
       "      <td>0.09332</td>\n",
       "      <td>0.03853361</td>\n",
       "      <td>219.0</td>\n",
       "      <td>0.002939</td>\n",
       "      <td>18/09/18</td>\n",
       "    </tr>\n",
       "    <tr>\n",
       "      <th>5</th>\n",
       "      <td>TRAPPIST-1 g</td>\n",
       "      <td>2457529.4724</td>\n",
       "      <td>0.10242</td>\n",
       "      <td>0.04687692</td>\n",
       "      <td>198.6</td>\n",
       "      <td>0.003612</td>\n",
       "      <td>18/09/18</td>\n",
       "    </tr>\n",
       "    <tr>\n",
       "      <th>6</th>\n",
       "      <td>TRAPPIST-1 h</td>\n",
       "      <td>2457700.0875</td>\n",
       "      <td>0.06896</td>\n",
       "      <td>0.06193488</td>\n",
       "      <td>167</td>\n",
       "      <td>0.001041</td>\n",
       "      <td>18/09/18</td>\n",
       "    </tr>\n",
       "  </tbody>\n",
       "</table>\n",
       "</div>"
      ],
      "text/plain": [
       "           name    transittime   radius semimajoraxis temperature      mass  \\\n",
       "0  TRAPPIST-1 b  2457606.56117  0.10001    0.01154775       400.1  0.003200   \n",
       "1  TRAPPIST-1 c  2457568.58230  0.09769    0.01581512       341.9  0.003637   \n",
       "2  TRAPPIST-1 d   2457682.2921  0.06994    0.02228038       288.0  0.000934   \n",
       "3  TRAPPIST-1 e   2457574.9829  0.08118    0.02928285       251.3  0.002429   \n",
       "4  TRAPPIST-1 f   2457616.1548  0.09332    0.03853361       219.0  0.002939   \n",
       "5  TRAPPIST-1 g   2457529.4724  0.10242    0.04687692       198.6  0.003612   \n",
       "6  TRAPPIST-1 h   2457700.0875  0.06896    0.06193488         167  0.001041   \n",
       "\n",
       "  lastupdate  \n",
       "0   18/09/18  \n",
       "1   18/09/18  \n",
       "2   18/09/18  \n",
       "3   18/09/18  \n",
       "4   18/09/18  \n",
       "5   18/09/18  \n",
       "6   18/09/18  "
      ]
     },
     "execution_count": 5,
     "metadata": {},
     "output_type": "execute_result"
    }
   ],
   "source": [
    "trappist_data = []\n",
    "cols =  ['name', 'transittime', 'radius', 'semimajoraxis', 'temperature', 'mass', 'lastupdate']\n",
    "for star in data.findall(\".//star[name='TRAPPIST-1']\"):\n",
    "    for planet in star.findall(\".//planet\"):\n",
    "        temp = []\n",
    "        for column in cols:\n",
    "            temp.append(planet.find(column).text)\n",
    "        trappist_data.append(temp)\n",
    "trappist_data = pd.DataFrame(trappist_data, columns = cols)\n",
    "trappist_data"
   ]
  },
  {
   "cell_type": "code",
   "execution_count": 6,
   "id": "d9704e7b-6a9c-4742-be73-ff6970104db4",
   "metadata": {
    "tags": []
   },
   "outputs": [
    {
     "name": "stdout",
     "output_type": "stream",
     "text": [
      "317.82760121898133 11.209\n"
     ]
    }
   ],
   "source": [
    "#Let's convert jupiter mass to earth!\n",
    "j_to_e_ratio_mass = (1.89813*10**27) / (5.9722*10**24)\n",
    "j_to_e_ratio_radi = 11.209\n",
    "print(j_to_e_ratio_mass, j_to_e_ratio_radi)\n",
    "trappist_data['mass'] = trappist_data['mass'].astype(float).multiply(other = j_to_e_ratio_mass)\n",
    "trappist_data['radius'] = trappist_data['radius'].astype(float).multiply(other = j_to_e_ratio_radi)"
   ]
  },
  {
   "cell_type": "code",
   "execution_count": 7,
   "id": "0d3910b0-2a6e-40de-aecc-da5f9249bba1",
   "metadata": {
    "tags": []
   },
   "outputs": [
    {
     "data": {
      "text/html": [
       "<div>\n",
       "<style scoped>\n",
       "    .dataframe tbody tr th:only-of-type {\n",
       "        vertical-align: middle;\n",
       "    }\n",
       "\n",
       "    .dataframe tbody tr th {\n",
       "        vertical-align: top;\n",
       "    }\n",
       "\n",
       "    .dataframe thead th {\n",
       "        text-align: right;\n",
       "    }\n",
       "</style>\n",
       "<table border=\"1\" class=\"dataframe\">\n",
       "  <thead>\n",
       "    <tr style=\"text-align: right;\">\n",
       "      <th></th>\n",
       "      <th>name</th>\n",
       "      <th>transittime</th>\n",
       "      <th>radius</th>\n",
       "      <th>semimajoraxis</th>\n",
       "      <th>temperature</th>\n",
       "      <th>mass</th>\n",
       "      <th>lastupdate</th>\n",
       "    </tr>\n",
       "  </thead>\n",
       "  <tbody>\n",
       "    <tr>\n",
       "      <th>0</th>\n",
       "      <td>TRAPPIST-1 b</td>\n",
       "      <td>2457606.56117</td>\n",
       "      <td>1.121012</td>\n",
       "      <td>0.01154775</td>\n",
       "      <td>400.1</td>\n",
       "      <td>1.017048</td>\n",
       "      <td>18/09/18</td>\n",
       "    </tr>\n",
       "    <tr>\n",
       "      <th>1</th>\n",
       "      <td>TRAPPIST-1 c</td>\n",
       "      <td>2457568.58230</td>\n",
       "      <td>1.095007</td>\n",
       "      <td>0.01581512</td>\n",
       "      <td>341.9</td>\n",
       "      <td>1.155939</td>\n",
       "      <td>18/09/18</td>\n",
       "    </tr>\n",
       "    <tr>\n",
       "      <th>2</th>\n",
       "      <td>TRAPPIST-1 d</td>\n",
       "      <td>2457682.2921</td>\n",
       "      <td>0.783957</td>\n",
       "      <td>0.02228038</td>\n",
       "      <td>288.0</td>\n",
       "      <td>0.296851</td>\n",
       "      <td>18/09/18</td>\n",
       "    </tr>\n",
       "    <tr>\n",
       "      <th>3</th>\n",
       "      <td>TRAPPIST-1 e</td>\n",
       "      <td>2457574.9829</td>\n",
       "      <td>0.909947</td>\n",
       "      <td>0.02928285</td>\n",
       "      <td>251.3</td>\n",
       "      <td>0.772003</td>\n",
       "      <td>18/09/18</td>\n",
       "    </tr>\n",
       "    <tr>\n",
       "      <th>4</th>\n",
       "      <td>TRAPPIST-1 f</td>\n",
       "      <td>2457616.1548</td>\n",
       "      <td>1.046024</td>\n",
       "      <td>0.03853361</td>\n",
       "      <td>219.0</td>\n",
       "      <td>0.934095</td>\n",
       "      <td>18/09/18</td>\n",
       "    </tr>\n",
       "    <tr>\n",
       "      <th>5</th>\n",
       "      <td>TRAPPIST-1 g</td>\n",
       "      <td>2457529.4724</td>\n",
       "      <td>1.148026</td>\n",
       "      <td>0.04687692</td>\n",
       "      <td>198.6</td>\n",
       "      <td>1.147993</td>\n",
       "      <td>18/09/18</td>\n",
       "    </tr>\n",
       "    <tr>\n",
       "      <th>6</th>\n",
       "      <td>TRAPPIST-1 h</td>\n",
       "      <td>2457700.0875</td>\n",
       "      <td>0.772973</td>\n",
       "      <td>0.06193488</td>\n",
       "      <td>167</td>\n",
       "      <td>0.330859</td>\n",
       "      <td>18/09/18</td>\n",
       "    </tr>\n",
       "  </tbody>\n",
       "</table>\n",
       "</div>"
      ],
      "text/plain": [
       "           name    transittime    radius semimajoraxis temperature      mass  \\\n",
       "0  TRAPPIST-1 b  2457606.56117  1.121012    0.01154775       400.1  1.017048   \n",
       "1  TRAPPIST-1 c  2457568.58230  1.095007    0.01581512       341.9  1.155939   \n",
       "2  TRAPPIST-1 d   2457682.2921  0.783957    0.02228038       288.0  0.296851   \n",
       "3  TRAPPIST-1 e   2457574.9829  0.909947    0.02928285       251.3  0.772003   \n",
       "4  TRAPPIST-1 f   2457616.1548  1.046024    0.03853361       219.0  0.934095   \n",
       "5  TRAPPIST-1 g   2457529.4724  1.148026    0.04687692       198.6  1.147993   \n",
       "6  TRAPPIST-1 h   2457700.0875  0.772973    0.06193488         167  0.330859   \n",
       "\n",
       "  lastupdate  \n",
       "0   18/09/18  \n",
       "1   18/09/18  \n",
       "2   18/09/18  \n",
       "3   18/09/18  \n",
       "4   18/09/18  \n",
       "5   18/09/18  \n",
       "6   18/09/18  "
      ]
     },
     "execution_count": 7,
     "metadata": {},
     "output_type": "execute_result"
    }
   ],
   "source": [
    "trappist_data"
   ]
  },
  {
   "cell_type": "code",
   "execution_count": 8,
   "id": "2aa159b3-53c3-4d2a-93de-ca5d33f4f09a",
   "metadata": {
    "tags": []
   },
   "outputs": [
    {
     "data": {
      "text/html": [
       "\n",
       "\n",
       "\n",
       "\n",
       "\n",
       "\n",
       "  <div class=\"bk-root\" id=\"6e79a552-9410-4263-ab7f-216c8e2c6eff\" data-root-id=\"1005\"></div>\n"
      ]
     },
     "metadata": {},
     "output_type": "display_data"
    },
    {
     "data": {
      "application/javascript": [
       "(function(root) {\n",
       "  function embed_document(root) {\n",
       "    \n",
       "  var docs_json = {\"f0a50edb-49e4-4ecd-a9be-34def9f517a4\":{\"defs\":[],\"roots\":{\"references\":[{\"attributes\":{\"below\":[{\"id\":\"1015\"}],\"center\":[{\"id\":\"1018\"},{\"id\":\"1022\"},{\"id\":\"1042\"}],\"height\":500,\"left\":[{\"id\":\"1019\"}],\"renderers\":[{\"id\":\"1040\"}],\"title\":{\"id\":\"1006\"},\"toolbar\":{\"id\":\"1030\"},\"width\":1000,\"x_range\":{\"id\":\"1004\"},\"x_scale\":{\"id\":\"1011\"},\"y_range\":{\"id\":\"1009\"},\"y_scale\":{\"id\":\"1013\"}},\"id\":\"1005\",\"subtype\":\"Figure\",\"type\":\"Plot\"},{\"attributes\":{\"fill_alpha\":{\"value\":0.1},\"fill_color\":{\"value\":\"#1f77b4\"},\"line_alpha\":{\"value\":0.1},\"line_color\":{\"value\":\"#1f77b4\"},\"size\":{\"value\":10},\"x\":{\"field\":\"semi_major\"},\"y\":{\"field\":\"mass\"}},\"id\":\"1039\",\"type\":\"Scatter\"},{\"attributes\":{\"data_source\":{\"id\":\"1003\"},\"glyph\":{\"id\":\"1038\"},\"hover_glyph\":null,\"muted_glyph\":null,\"nonselection_glyph\":{\"id\":\"1039\"},\"view\":{\"id\":\"1041\"}},\"id\":\"1040\",\"type\":\"GlyphRenderer\"},{\"attributes\":{\"data\":{\"mass\":{\"__ndarray__\":\"Sq+ZdtRF8D/neLfguX7yP7DTOUCb/9I/O4NUJUC06D/nf1XeG+TtP4lFyjcuXvI/DZWRRMks1T8=\",\"dtype\":\"float64\",\"order\":\"little\",\"shape\":[7]},\"name\":[\"TRAPPIST-1 b\",\"TRAPPIST-1 c\",\"TRAPPIST-1 d\",\"TRAPPIST-1 e\",\"TRAPPIST-1 f\",\"TRAPPIST-1 g\",\"TRAPPIST-1 h\"],\"semi_major\":[0.01154775,0.01581512,0.02228038,0.02928285,0.03853361,0.04687692,0.06193488]},\"selected\":{\"id\":\"1051\"},\"selection_policy\":{\"id\":\"1052\"}},\"id\":\"1003\",\"type\":\"ColumnDataSource\"},{\"attributes\":{},\"id\":\"1027\",\"type\":\"ResetTool\"},{\"attributes\":{},\"id\":\"1052\",\"type\":\"UnionRenderers\"},{\"attributes\":{},\"id\":\"1013\",\"type\":\"LinearScale\"},{\"attributes\":{\"bottom_units\":\"screen\",\"fill_alpha\":0.5,\"fill_color\":\"lightgrey\",\"left_units\":\"screen\",\"level\":\"overlay\",\"line_alpha\":1.0,\"line_color\":\"black\",\"line_dash\":[4,4],\"line_width\":2,\"right_units\":\"screen\",\"syncable\":false,\"top_units\":\"screen\"},\"id\":\"1029\",\"type\":\"BoxAnnotation\"},{\"attributes\":{\"fill_color\":{\"value\":\"#1f77b4\"},\"line_color\":{\"value\":\"#1f77b4\"},\"size\":{\"value\":10},\"x\":{\"field\":\"semi_major\"},\"y\":{\"field\":\"mass\"}},\"id\":\"1038\",\"type\":\"Scatter\"},{\"attributes\":{\"text\":\"TRAPPIST-1 System\"},\"id\":\"1006\",\"type\":\"Title\"},{\"attributes\":{\"axis_label\":\"Mass (Earth Masses)\",\"formatter\":{\"id\":\"1048\"},\"major_label_policy\":{\"id\":\"1050\"},\"ticker\":{\"id\":\"1020\"}},\"id\":\"1019\",\"type\":\"LinearAxis\"},{\"attributes\":{},\"id\":\"1016\",\"type\":\"BasicTicker\"},{\"attributes\":{},\"id\":\"1009\",\"type\":\"DataRange1d\"},{\"attributes\":{},\"id\":\"1028\",\"type\":\"HelpTool\"},{\"attributes\":{},\"id\":\"1045\",\"type\":\"BasicTickFormatter\"},{\"attributes\":{\"axis_label\":\"Semi-Major Axis (AU)\",\"formatter\":{\"id\":\"1045\"},\"major_label_policy\":{\"id\":\"1047\"},\"ticker\":{\"id\":\"1016\"}},\"id\":\"1015\",\"type\":\"LinearAxis\"},{\"attributes\":{},\"id\":\"1047\",\"type\":\"AllLabels\"},{\"attributes\":{},\"id\":\"1011\",\"type\":\"LinearScale\"},{\"attributes\":{\"axis\":{\"id\":\"1015\"},\"ticker\":null},\"id\":\"1018\",\"type\":\"Grid\"},{\"attributes\":{},\"id\":\"1048\",\"type\":\"BasicTickFormatter\"},{\"attributes\":{\"axis\":{\"id\":\"1019\"},\"dimension\":1,\"ticker\":null},\"id\":\"1022\",\"type\":\"Grid\"},{\"attributes\":{},\"id\":\"1050\",\"type\":\"AllLabels\"},{\"attributes\":{},\"id\":\"1020\",\"type\":\"BasicTicker\"},{\"attributes\":{\"active_multi\":null,\"tools\":[{\"id\":\"1023\"},{\"id\":\"1024\"},{\"id\":\"1025\"},{\"id\":\"1026\"},{\"id\":\"1027\"},{\"id\":\"1028\"}]},\"id\":\"1030\",\"type\":\"Toolbar\"},{\"attributes\":{},\"id\":\"1024\",\"type\":\"WheelZoomTool\"},{\"attributes\":{},\"id\":\"1023\",\"type\":\"PanTool\"},{\"attributes\":{\"overlay\":{\"id\":\"1029\"}},\"id\":\"1025\",\"type\":\"BoxZoomTool\"},{\"attributes\":{\"end\":0.08},\"id\":\"1004\",\"type\":\"Range1d\"},{\"attributes\":{},\"id\":\"1026\",\"type\":\"SaveTool\"},{\"attributes\":{\"source\":{\"id\":\"1003\"}},\"id\":\"1041\",\"type\":\"CDSView\"},{\"attributes\":{},\"id\":\"1051\",\"type\":\"Selection\"},{\"attributes\":{\"source\":{\"id\":\"1003\"},\"text\":{\"field\":\"name\"},\"x\":{\"field\":\"semi_major\"},\"x_offset\":{\"value\":10},\"y\":{\"field\":\"mass\"}},\"id\":\"1042\",\"type\":\"LabelSet\"}],\"root_ids\":[\"1005\"]},\"title\":\"Bokeh Application\",\"version\":\"2.3.2\"}};\n",
       "  var render_items = [{\"docid\":\"f0a50edb-49e4-4ecd-a9be-34def9f517a4\",\"root_ids\":[\"1005\"],\"roots\":{\"1005\":\"6e79a552-9410-4263-ab7f-216c8e2c6eff\"}}];\n",
       "  root.Bokeh.embed.embed_items_notebook(docs_json, render_items);\n",
       "\n",
       "  }\n",
       "  if (root.Bokeh !== undefined) {\n",
       "    embed_document(root);\n",
       "  } else {\n",
       "    var attempts = 0;\n",
       "    var timer = setInterval(function(root) {\n",
       "      if (root.Bokeh !== undefined) {\n",
       "        clearInterval(timer);\n",
       "        embed_document(root);\n",
       "      } else {\n",
       "        attempts++;\n",
       "        if (attempts > 100) {\n",
       "          clearInterval(timer);\n",
       "          console.log(\"Bokeh: ERROR: Unable to run BokehJS code because BokehJS library is missing\");\n",
       "        }\n",
       "      }\n",
       "    }, 10, root)\n",
       "  }\n",
       "})(window);"
      ],
      "application/vnd.bokehjs_exec.v0+json": ""
     },
     "metadata": {
      "application/vnd.bokehjs_exec.v0+json": {
       "id": "1005"
      }
     },
     "output_type": "display_data"
    }
   ],
   "source": [
    "source = ColumnDataSource(data = dict(semi_major = trappist_data['semimajoraxis'].astype(float).tolist(),\n",
    "                                             mass = trappist_data['mass'],\n",
    "                                             name = trappist_data['name'].tolist()))\n",
    "\n",
    "p = figure(title = 'TRAPPIST-1 System', width = 1000, height = 500, x_range=Range1d(0, 0.08))\n",
    "p.scatter(x = 'semi_major', y = 'mass', source = source, size = 10)\n",
    "p.xaxis[0].axis_label = 'Semi-Major Axis (AU)'\n",
    "p.yaxis[0].axis_label = 'Mass (Earth Masses)'\n",
    "labels = LabelSet(x = 'semi_major', y = 'mass', text = 'name', x_offset=10, y_offset=0, source = source, render_mode = 'canvas')\n",
    "p.add_layout(labels)\n",
    "\n",
    "\n",
    "show(p)"
   ]
  },
  {
   "cell_type": "code",
   "execution_count": 9,
   "id": "cd95d3ba-b4f0-4f60-bd59-3f06379a4b3c",
   "metadata": {
    "tags": []
   },
   "outputs": [],
   "source": [
    "#~~~~~~~~~~~~~~~~~~\n",
    "#~~~~Old method~~~~\n",
    "#~~~~~~~~~~~~~~~~~~\n",
    "\n",
    "# c = SkyCoord('23 06 29.383 -05 02 28.59', unit = (u.hourangle, u.deg))\n",
    "# trappist_data = Catalogs.query_region(c, catalog = 'TIC')\n",
    "# trappist_data[np.where(trappist_data['TWOMASS'].astype(str) == '23062928-0502285')[0]]\n",
    "\n",
    "# #Get data off of wikipedia because not all the info is on catalog:\n",
    "# trappist_lum = trappist_data['lum'][0]\n",
    "# print(trappist_lum)\n",
    "\n",
    "# #0.0 will not fly when we try to calculate habitable zones...\n",
    "# trappist_lum = trappist_lum + .001\n",
    "\n",
    "# R_inner = 0.75*np.sqrt(trappist_lum)\n",
    "# R_outer = 1.00*np.sqrt(trappist_lum)\n",
    "# print(R_inner, R_outer)"
   ]
  },
  {
   "cell_type": "code",
   "execution_count": 10,
   "id": "2c645e45-f197-4364-b369-31b1e7845aef",
   "metadata": {
    "tags": []
   },
   "outputs": [
    {
     "name": "stdout",
     "output_type": "stream",
     "text": [
      "name:TRAPPIST-1\n",
      "name:2MASS J23062928-0502285\n",
      "name:K2-112\n",
      "name:EPIC 246199087\n",
      "name:Gaia DR2 2635476908753563008\n",
      "magV:18.798\n",
      "magR:16.401\n",
      "magI:13.966\n",
      "magJ:11.35\n",
      "magH:10.72\n",
      "magK:10.30\n",
      "spectraltype:M8 V\n",
      "temperature:2516\n",
      "metallicity:0.04\n",
      "radius:0.121\n",
      "mass:0.089\n",
      "age:7.6\n"
     ]
    }
   ],
   "source": [
    "#Let's take a look at the habitable zone of the trappist system!\n",
    "for star in data.findall(\".//star[name='TRAPPIST-1']\"):\n",
    "    for properties in star.findall('*'):\n",
    "        if properties.tag != 'planet':\n",
    "            print('{}:{}'.format(properties.tag, properties.text))"
   ]
  },
  {
   "cell_type": "code",
   "execution_count": 27,
   "id": "3217dd50-e032-4e61-a309-79ab86967628",
   "metadata": {
    "tags": []
   },
   "outputs": [
    {
     "name": "stdout",
     "output_type": "stream",
     "text": [
      "TRAPPIST-1:\n",
      "\tAbsolute visual luminosity: 0.0005285766790681068\n",
      "\tInner habitable zone: 0.0172430966469428\n",
      "\tOuter habitable zone: 0.04069370808678501\n"
     ]
    }
   ],
   "source": [
    "#https://en.wikipedia.org/wiki/Sun\n",
    "#https://en.wikipedia.org/wiki/Luminosity\n",
    "#https://en.wikipedia.org/wiki/TRAPPIST-1#cite_note-6\n",
    "#https://exoplanetarchive.ipac.caltech.edu/docs/poet_calculations.html\n",
    "for star in data.findall(\".//star[name='TRAPPIST-1']\"):\n",
    "    trap_temp = float(star.find('temperature').text)\n",
    "    trap_rad = float(star.find('radius').text)\n",
    "trap_lum = ((trap_temp / 5772) **4) * trap_rad**2\n",
    "R_inner = 0.75*np.sqrt(trap_lum)\n",
    "R_outer = 1.77*np.sqrt(trap_lum)\n",
    "print('TRAPPIST-1:\\n\\tAbsolute visual luminosity: {}\\n\\tInner habitable zone: {}\\n\\tOuter habitable zone: {}'.format(trap_lum, R_inner, R_outer))"
   ]
  },
  {
   "cell_type": "code",
   "execution_count": 12,
   "id": "5cdadd65-d38f-4053-8431-e0582a2811b7",
   "metadata": {
    "tags": []
   },
   "outputs": [
    {
     "data": {
      "text/html": [
       "\n",
       "\n",
       "\n",
       "\n",
       "\n",
       "\n",
       "  <div class=\"bk-root\" id=\"38eeb82f-64b2-45bb-9451-12c060a3184d\" data-root-id=\"1005\"></div>\n"
      ]
     },
     "metadata": {},
     "output_type": "display_data"
    },
    {
     "data": {
      "application/javascript": [
       "(function(root) {\n",
       "  function embed_document(root) {\n",
       "    \n",
       "  var docs_json = {\"f9ee3ed3-a231-453f-89ba-6718fcf40e5a\":{\"defs\":[],\"roots\":{\"references\":[{\"attributes\":{\"below\":[{\"id\":\"1015\"}],\"center\":[{\"id\":\"1018\"},{\"id\":\"1022\"},{\"id\":\"1042\"}],\"height\":500,\"left\":[{\"id\":\"1019\"}],\"renderers\":[{\"id\":\"1040\"},{\"id\":\"1104\"},{\"id\":\"1105\"}],\"title\":{\"id\":\"1006\"},\"toolbar\":{\"id\":\"1030\"},\"width\":1000,\"x_range\":{\"id\":\"1004\"},\"x_scale\":{\"id\":\"1011\"},\"y_range\":{\"id\":\"1009\"},\"y_scale\":{\"id\":\"1013\"}},\"id\":\"1005\",\"subtype\":\"Figure\",\"type\":\"Plot\"},{\"attributes\":{\"fill_alpha\":{\"value\":0.1},\"fill_color\":{\"value\":\"#1f77b4\"},\"line_alpha\":{\"value\":0.1},\"line_color\":{\"value\":\"#1f77b4\"},\"size\":{\"value\":10},\"x\":{\"field\":\"semi_major\"},\"y\":{\"field\":\"mass\"}},\"id\":\"1039\",\"type\":\"Scatter\"},{\"attributes\":{\"data_source\":{\"id\":\"1003\"},\"glyph\":{\"id\":\"1038\"},\"hover_glyph\":null,\"muted_glyph\":null,\"nonselection_glyph\":{\"id\":\"1039\"},\"view\":{\"id\":\"1041\"}},\"id\":\"1040\",\"type\":\"GlyphRenderer\"},{\"attributes\":{\"data\":{\"mass\":{\"__ndarray__\":\"Sq+ZdtRF8D/neLfguX7yP7DTOUCb/9I/O4NUJUC06D/nf1XeG+TtP4lFyjcuXvI/DZWRRMks1T8=\",\"dtype\":\"float64\",\"order\":\"little\",\"shape\":[7]},\"name\":[\"TRAPPIST-1 b\",\"TRAPPIST-1 c\",\"TRAPPIST-1 d\",\"TRAPPIST-1 e\",\"TRAPPIST-1 f\",\"TRAPPIST-1 g\",\"TRAPPIST-1 h\"],\"semi_major\":[0.01154775,0.01581512,0.02228038,0.02928285,0.03853361,0.04687692,0.06193488]},\"selected\":{\"id\":\"1051\"},\"selection_policy\":{\"id\":\"1052\"}},\"id\":\"1003\",\"type\":\"ColumnDataSource\"},{\"attributes\":{},\"id\":\"1027\",\"type\":\"ResetTool\"},{\"attributes\":{},\"id\":\"1052\",\"type\":\"UnionRenderers\"},{\"attributes\":{},\"id\":\"1013\",\"type\":\"LinearScale\"},{\"attributes\":{\"bottom_units\":\"screen\",\"fill_alpha\":0.5,\"fill_color\":\"lightgrey\",\"left_units\":\"screen\",\"level\":\"overlay\",\"line_alpha\":1.0,\"line_color\":\"black\",\"line_dash\":[4,4],\"line_width\":2,\"right_units\":\"screen\",\"syncable\":false,\"top_units\":\"screen\"},\"id\":\"1029\",\"type\":\"BoxAnnotation\"},{\"attributes\":{\"fill_color\":{\"value\":\"#1f77b4\"},\"line_color\":{\"value\":\"#1f77b4\"},\"size\":{\"value\":10},\"x\":{\"field\":\"semi_major\"},\"y\":{\"field\":\"mass\"}},\"id\":\"1038\",\"type\":\"Scatter\"},{\"attributes\":{\"text\":\"TRAPPIST-1 System\"},\"id\":\"1006\",\"type\":\"Title\"},{\"attributes\":{\"axis_label\":\"Mass (Earth Masses)\",\"formatter\":{\"id\":\"1048\"},\"major_label_policy\":{\"id\":\"1050\"},\"ticker\":{\"id\":\"1020\"}},\"id\":\"1019\",\"type\":\"LinearAxis\"},{\"attributes\":{\"dimension\":\"height\",\"line_color\":\"green\",\"line_width\":3,\"location\":0.0172430966469428},\"id\":\"1104\",\"type\":\"Span\"},{\"attributes\":{},\"id\":\"1016\",\"type\":\"BasicTicker\"},{\"attributes\":{},\"id\":\"1009\",\"type\":\"DataRange1d\"},{\"attributes\":{},\"id\":\"1028\",\"type\":\"HelpTool\"},{\"attributes\":{},\"id\":\"1045\",\"type\":\"BasicTickFormatter\"},{\"attributes\":{\"axis_label\":\"Semi-Major Axis (AU)\",\"formatter\":{\"id\":\"1045\"},\"major_label_policy\":{\"id\":\"1047\"},\"ticker\":{\"id\":\"1016\"}},\"id\":\"1015\",\"type\":\"LinearAxis\"},{\"attributes\":{\"dimension\":\"height\",\"line_color\":\"green\",\"line_width\":3,\"location\":0.04069370808678501},\"id\":\"1105\",\"type\":\"Span\"},{\"attributes\":{},\"id\":\"1047\",\"type\":\"AllLabels\"},{\"attributes\":{},\"id\":\"1011\",\"type\":\"LinearScale\"},{\"attributes\":{\"axis\":{\"id\":\"1015\"},\"ticker\":null},\"id\":\"1018\",\"type\":\"Grid\"},{\"attributes\":{},\"id\":\"1048\",\"type\":\"BasicTickFormatter\"},{\"attributes\":{\"axis\":{\"id\":\"1019\"},\"dimension\":1,\"ticker\":null},\"id\":\"1022\",\"type\":\"Grid\"},{\"attributes\":{},\"id\":\"1050\",\"type\":\"AllLabels\"},{\"attributes\":{},\"id\":\"1020\",\"type\":\"BasicTicker\"},{\"attributes\":{\"active_multi\":null,\"tools\":[{\"id\":\"1023\"},{\"id\":\"1024\"},{\"id\":\"1025\"},{\"id\":\"1026\"},{\"id\":\"1027\"},{\"id\":\"1028\"}]},\"id\":\"1030\",\"type\":\"Toolbar\"},{\"attributes\":{},\"id\":\"1024\",\"type\":\"WheelZoomTool\"},{\"attributes\":{},\"id\":\"1023\",\"type\":\"PanTool\"},{\"attributes\":{\"overlay\":{\"id\":\"1029\"}},\"id\":\"1025\",\"type\":\"BoxZoomTool\"},{\"attributes\":{\"end\":0.08},\"id\":\"1004\",\"type\":\"Range1d\"},{\"attributes\":{},\"id\":\"1026\",\"type\":\"SaveTool\"},{\"attributes\":{\"source\":{\"id\":\"1003\"}},\"id\":\"1041\",\"type\":\"CDSView\"},{\"attributes\":{},\"id\":\"1051\",\"type\":\"Selection\"},{\"attributes\":{\"source\":{\"id\":\"1003\"},\"text\":{\"field\":\"name\"},\"x\":{\"field\":\"semi_major\"},\"x_offset\":{\"value\":10},\"y\":{\"field\":\"mass\"}},\"id\":\"1042\",\"type\":\"LabelSet\"}],\"root_ids\":[\"1005\"]},\"title\":\"Bokeh Application\",\"version\":\"2.3.2\"}};\n",
       "  var render_items = [{\"docid\":\"f9ee3ed3-a231-453f-89ba-6718fcf40e5a\",\"root_ids\":[\"1005\"],\"roots\":{\"1005\":\"38eeb82f-64b2-45bb-9451-12c060a3184d\"}}];\n",
       "  root.Bokeh.embed.embed_items_notebook(docs_json, render_items);\n",
       "\n",
       "  }\n",
       "  if (root.Bokeh !== undefined) {\n",
       "    embed_document(root);\n",
       "  } else {\n",
       "    var attempts = 0;\n",
       "    var timer = setInterval(function(root) {\n",
       "      if (root.Bokeh !== undefined) {\n",
       "        clearInterval(timer);\n",
       "        embed_document(root);\n",
       "      } else {\n",
       "        attempts++;\n",
       "        if (attempts > 100) {\n",
       "          clearInterval(timer);\n",
       "          console.log(\"Bokeh: ERROR: Unable to run BokehJS code because BokehJS library is missing\");\n",
       "        }\n",
       "      }\n",
       "    }, 10, root)\n",
       "  }\n",
       "})(window);"
      ],
      "application/vnd.bokehjs_exec.v0+json": ""
     },
     "metadata": {
      "application/vnd.bokehjs_exec.v0+json": {
       "id": "1005"
      }
     },
     "output_type": "display_data"
    }
   ],
   "source": [
    "p2 = p\n",
    "r_in_plot  = Span(location = R_inner, dimension = 'height', line_color = 'green', line_width = 3)\n",
    "r_out_plot = Span(location = R_outer, dimension = 'height', line_color = 'green', line_width = 3)\n",
    "\n",
    "p2.renderers.extend([r_in_plot, r_out_plot])\n",
    "show(p2)"
   ]
  },
  {
   "cell_type": "code",
   "execution_count": 13,
   "id": "5d8726f2-105e-4698-ae52-09e641e9aaff",
   "metadata": {
    "tags": []
   },
   "outputs": [
    {
     "data": {
      "text/html": [
       "<div>\n",
       "<style scoped>\n",
       "    .dataframe tbody tr th:only-of-type {\n",
       "        vertical-align: middle;\n",
       "    }\n",
       "\n",
       "    .dataframe tbody tr th {\n",
       "        vertical-align: top;\n",
       "    }\n",
       "\n",
       "    .dataframe thead th {\n",
       "        text-align: right;\n",
       "    }\n",
       "</style>\n",
       "<table border=\"1\" class=\"dataframe\">\n",
       "  <thead>\n",
       "    <tr style=\"text-align: right;\">\n",
       "      <th></th>\n",
       "      <th>name</th>\n",
       "      <th>transittime</th>\n",
       "      <th>radius</th>\n",
       "      <th>semimajoraxis</th>\n",
       "      <th>temperature</th>\n",
       "      <th>mass</th>\n",
       "      <th>lastupdate</th>\n",
       "    </tr>\n",
       "  </thead>\n",
       "  <tbody>\n",
       "    <tr>\n",
       "      <th>0</th>\n",
       "      <td>TRAPPIST-1 b</td>\n",
       "      <td>2457606.56117</td>\n",
       "      <td>1.121012</td>\n",
       "      <td>0.01154775</td>\n",
       "      <td>400.1</td>\n",
       "      <td>1.017048</td>\n",
       "      <td>18/09/18</td>\n",
       "    </tr>\n",
       "    <tr>\n",
       "      <th>1</th>\n",
       "      <td>TRAPPIST-1 c</td>\n",
       "      <td>2457568.58230</td>\n",
       "      <td>1.095007</td>\n",
       "      <td>0.01581512</td>\n",
       "      <td>341.9</td>\n",
       "      <td>1.155939</td>\n",
       "      <td>18/09/18</td>\n",
       "    </tr>\n",
       "    <tr>\n",
       "      <th>2</th>\n",
       "      <td>TRAPPIST-1 d</td>\n",
       "      <td>2457682.2921</td>\n",
       "      <td>0.783957</td>\n",
       "      <td>0.02228038</td>\n",
       "      <td>288.0</td>\n",
       "      <td>0.296851</td>\n",
       "      <td>18/09/18</td>\n",
       "    </tr>\n",
       "    <tr>\n",
       "      <th>3</th>\n",
       "      <td>TRAPPIST-1 e</td>\n",
       "      <td>2457574.9829</td>\n",
       "      <td>0.909947</td>\n",
       "      <td>0.02928285</td>\n",
       "      <td>251.3</td>\n",
       "      <td>0.772003</td>\n",
       "      <td>18/09/18</td>\n",
       "    </tr>\n",
       "    <tr>\n",
       "      <th>4</th>\n",
       "      <td>TRAPPIST-1 f</td>\n",
       "      <td>2457616.1548</td>\n",
       "      <td>1.046024</td>\n",
       "      <td>0.03853361</td>\n",
       "      <td>219.0</td>\n",
       "      <td>0.934095</td>\n",
       "      <td>18/09/18</td>\n",
       "    </tr>\n",
       "    <tr>\n",
       "      <th>5</th>\n",
       "      <td>TRAPPIST-1 g</td>\n",
       "      <td>2457529.4724</td>\n",
       "      <td>1.148026</td>\n",
       "      <td>0.04687692</td>\n",
       "      <td>198.6</td>\n",
       "      <td>1.147993</td>\n",
       "      <td>18/09/18</td>\n",
       "    </tr>\n",
       "    <tr>\n",
       "      <th>6</th>\n",
       "      <td>TRAPPIST-1 h</td>\n",
       "      <td>2457700.0875</td>\n",
       "      <td>0.772973</td>\n",
       "      <td>0.06193488</td>\n",
       "      <td>167</td>\n",
       "      <td>0.330859</td>\n",
       "      <td>18/09/18</td>\n",
       "    </tr>\n",
       "  </tbody>\n",
       "</table>\n",
       "</div>"
      ],
      "text/plain": [
       "           name    transittime    radius semimajoraxis temperature      mass  \\\n",
       "0  TRAPPIST-1 b  2457606.56117  1.121012    0.01154775       400.1  1.017048   \n",
       "1  TRAPPIST-1 c  2457568.58230  1.095007    0.01581512       341.9  1.155939   \n",
       "2  TRAPPIST-1 d   2457682.2921  0.783957    0.02228038       288.0  0.296851   \n",
       "3  TRAPPIST-1 e   2457574.9829  0.909947    0.02928285       251.3  0.772003   \n",
       "4  TRAPPIST-1 f   2457616.1548  1.046024    0.03853361       219.0  0.934095   \n",
       "5  TRAPPIST-1 g   2457529.4724  1.148026    0.04687692       198.6  1.147993   \n",
       "6  TRAPPIST-1 h   2457700.0875  0.772973    0.06193488         167  0.330859   \n",
       "\n",
       "  lastupdate  \n",
       "0   18/09/18  \n",
       "1   18/09/18  \n",
       "2   18/09/18  \n",
       "3   18/09/18  \n",
       "4   18/09/18  \n",
       "5   18/09/18  \n",
       "6   18/09/18  "
      ]
     },
     "execution_count": 13,
     "metadata": {},
     "output_type": "execute_result"
    }
   ],
   "source": [
    "trappist_data"
   ]
  },
  {
   "cell_type": "code",
   "execution_count": 14,
   "id": "f1e3057e-5273-4ba0-95ea-b7dee474d957",
   "metadata": {
    "tags": []
   },
   "outputs": [
    {
     "data": {
      "text/html": [
       "\n",
       "\n",
       "\n",
       "\n",
       "\n",
       "\n",
       "  <div class=\"bk-root\" id=\"02376d3e-daa9-4f23-8731-3e6b3a858228\" data-root-id=\"1168\"></div>\n"
      ]
     },
     "metadata": {},
     "output_type": "display_data"
    },
    {
     "data": {
      "application/javascript": [
       "(function(root) {\n",
       "  function embed_document(root) {\n",
       "    \n",
       "  var docs_json = {\"5f9c90a1-00b8-438d-9a16-b205fe8e3f99\":{\"defs\":[],\"roots\":{\"references\":[{\"attributes\":{\"below\":[{\"id\":\"1178\"}],\"center\":[{\"id\":\"1181\"},{\"id\":\"1185\"},{\"id\":\"1205\"}],\"height\":500,\"left\":[{\"id\":\"1182\"}],\"renderers\":[{\"id\":\"1203\"},{\"id\":\"1207\"},{\"id\":\"1208\"}],\"title\":{\"id\":\"1169\"},\"toolbar\":{\"id\":\"1193\"},\"width\":2500,\"x_range\":{\"id\":\"1167\"},\"x_scale\":{\"id\":\"1174\"},\"y_range\":{\"id\":\"1172\"},\"y_scale\":{\"id\":\"1176\"}},\"id\":\"1168\",\"subtype\":\"Figure\",\"type\":\"Plot\"},{\"attributes\":{\"data_source\":{\"id\":\"1166\"},\"glyph\":{\"id\":\"1201\"},\"hover_glyph\":null,\"muted_glyph\":null,\"nonselection_glyph\":{\"id\":\"1202\"},\"view\":{\"id\":\"1204\"}},\"id\":\"1203\",\"type\":\"GlyphRenderer\"},{\"attributes\":{\"source\":{\"id\":\"1166\"},\"text\":{\"field\":\"name\"},\"x\":{\"field\":\"semi_major\"},\"x_offset\":{\"value\":20},\"y\":{\"field\":\"mass\"}},\"id\":\"1205\",\"type\":\"LabelSet\"},{\"attributes\":{\"bottom_units\":\"screen\",\"fill_alpha\":0.5,\"fill_color\":\"lightgrey\",\"left_units\":\"screen\",\"level\":\"overlay\",\"line_alpha\":1.0,\"line_color\":\"black\",\"line_dash\":[4,4],\"line_width\":2,\"right_units\":\"screen\",\"syncable\":false,\"top_units\":\"screen\"},\"id\":\"1192\",\"type\":\"BoxAnnotation\"},{\"attributes\":{\"fill_color\":{\"value\":\"#1f77b4\"},\"line_color\":{\"value\":\"#1f77b4\"},\"radius\":{\"field\":\"radius\"},\"x\":{\"field\":\"semi_major\"},\"y\":{\"field\":\"mass\"}},\"id\":\"1201\",\"type\":\"Circle\"},{\"attributes\":{\"axis_label\":\"Mass (Earth Masses)\",\"formatter\":{\"id\":\"1223\"},\"major_label_policy\":{\"id\":\"1225\"},\"ticker\":{\"id\":\"1183\"}},\"id\":\"1182\",\"type\":\"LinearAxis\"},{\"attributes\":{},\"id\":\"1179\",\"type\":\"BasicTicker\"},{\"attributes\":{},\"id\":\"1172\",\"type\":\"DataRange1d\"},{\"attributes\":{\"text\":\"TRAPPIST-1 System & Earth\"},\"id\":\"1169\",\"type\":\"Title\"},{\"attributes\":{\"axis_label\":\"Semi-Major Axis (AU)\",\"formatter\":{\"id\":\"1220\"},\"major_label_policy\":{\"id\":\"1222\"},\"ticker\":{\"id\":\"1179\"}},\"id\":\"1178\",\"type\":\"LinearAxis\"},{\"attributes\":{},\"id\":\"1174\",\"type\":\"LinearScale\"},{\"attributes\":{},\"id\":\"1191\",\"type\":\"HelpTool\"},{\"attributes\":{},\"id\":\"1176\",\"type\":\"LinearScale\"},{\"attributes\":{\"axis\":{\"id\":\"1178\"},\"ticker\":null},\"id\":\"1181\",\"type\":\"Grid\"},{\"attributes\":{},\"id\":\"1220\",\"type\":\"BasicTickFormatter\"},{\"attributes\":{\"axis\":{\"id\":\"1182\"},\"dimension\":1,\"ticker\":null},\"id\":\"1185\",\"type\":\"Grid\"},{\"attributes\":{},\"id\":\"1183\",\"type\":\"BasicTicker\"},{\"attributes\":{\"fill_alpha\":{\"value\":0.1},\"fill_color\":{\"value\":\"#1f77b4\"},\"line_alpha\":{\"value\":0.1},\"line_color\":{\"value\":\"#1f77b4\"},\"radius\":{\"field\":\"radius\"},\"x\":{\"field\":\"semi_major\"},\"y\":{\"field\":\"mass\"}},\"id\":\"1202\",\"type\":\"Circle\"},{\"attributes\":{},\"id\":\"1222\",\"type\":\"AllLabels\"},{\"attributes\":{\"active_multi\":null,\"tools\":[{\"id\":\"1186\"},{\"id\":\"1187\"},{\"id\":\"1188\"},{\"id\":\"1189\"},{\"id\":\"1190\"},{\"id\":\"1191\"}]},\"id\":\"1193\",\"type\":\"Toolbar\"},{\"attributes\":{},\"id\":\"1187\",\"type\":\"WheelZoomTool\"},{\"attributes\":{},\"id\":\"1223\",\"type\":\"BasicTickFormatter\"},{\"attributes\":{},\"id\":\"1186\",\"type\":\"PanTool\"},{\"attributes\":{\"overlay\":{\"id\":\"1192\"}},\"id\":\"1188\",\"type\":\"BoxZoomTool\"},{\"attributes\":{},\"id\":\"1189\",\"type\":\"SaveTool\"},{\"attributes\":{},\"id\":\"1225\",\"type\":\"AllLabels\"},{\"attributes\":{},\"id\":\"1190\",\"type\":\"ResetTool\"},{\"attributes\":{\"dimension\":\"height\",\"line_color\":\"green\",\"line_width\":3,\"location\":0.04069370808678501},\"id\":\"1208\",\"type\":\"Span\"},{\"attributes\":{\"source\":{\"id\":\"1166\"}},\"id\":\"1204\",\"type\":\"CDSView\"},{\"attributes\":{\"dimension\":\"height\",\"line_color\":\"green\",\"line_width\":3,\"location\":0.0172430966469428},\"id\":\"1207\",\"type\":\"Span\"},{\"attributes\":{\"end\":1.2},\"id\":\"1167\",\"type\":\"Range1d\"},{\"attributes\":{},\"id\":\"1226\",\"type\":\"Selection\"},{\"attributes\":{\"data\":{\"mass\":[1.0170483239007404,1.155938985633435,0.29685097953852857,0.7720032433609058,0.9340953199825862,1.1479932956029606,0.33085853286895955,1],\"name\":[\"b\",\"c\",\"d\",\"e\",\"f\",\"g\",\"h\",\"Earth\"],\"radius\":[0.007473413933333333,0.007300048066666666,0.005226383066666666,0.0060663108,0.006973492533333333,0.0076535052,0.005153150933333333,0.006666666666666667],\"semi_major\":[0.01154775,0.01581512,0.02228038,0.02928285,0.03853361,0.04687692,0.06193488,1]},\"selected\":{\"id\":\"1226\"},\"selection_policy\":{\"id\":\"1227\"}},\"id\":\"1166\",\"type\":\"ColumnDataSource\"},{\"attributes\":{},\"id\":\"1227\",\"type\":\"UnionRenderers\"}],\"root_ids\":[\"1168\"]},\"title\":\"Bokeh Application\",\"version\":\"2.3.2\"}};\n",
       "  var render_items = [{\"docid\":\"5f9c90a1-00b8-438d-9a16-b205fe8e3f99\",\"root_ids\":[\"1168\"],\"roots\":{\"1168\":\"02376d3e-daa9-4f23-8731-3e6b3a858228\"}}];\n",
       "  root.Bokeh.embed.embed_items_notebook(docs_json, render_items);\n",
       "\n",
       "  }\n",
       "  if (root.Bokeh !== undefined) {\n",
       "    embed_document(root);\n",
       "  } else {\n",
       "    var attempts = 0;\n",
       "    var timer = setInterval(function(root) {\n",
       "      if (root.Bokeh !== undefined) {\n",
       "        clearInterval(timer);\n",
       "        embed_document(root);\n",
       "      } else {\n",
       "        attempts++;\n",
       "        if (attempts > 100) {\n",
       "          clearInterval(timer);\n",
       "          console.log(\"Bokeh: ERROR: Unable to run BokehJS code because BokehJS library is missing\");\n",
       "        }\n",
       "      }\n",
       "    }, 10, root)\n",
       "  }\n",
       "})(window);"
      ],
      "application/vnd.bokehjs_exec.v0+json": ""
     },
     "metadata": {
      "application/vnd.bokehjs_exec.v0+json": {
       "id": "1168"
      }
     },
     "output_type": "display_data"
    }
   ],
   "source": [
    "#Adding in Earth for reference. We know Earth is habitable, but we're so far away from TRAPPIST-1's. Why is that?\n",
    "source = ColumnDataSource(data = dict(semi_major = trappist_data['semimajoraxis'].astype(float).tolist() + [1],\n",
    "                                             mass = trappist_data['mass'].tolist() + [1],\n",
    "                                             name = [planet[-1] for planet in trappist_data['name'].tolist()] + ['Earth'],\n",
    "                                             radius = [i/150 for i in trappist_data['radius'].tolist() + [1]]))\n",
    "p3 = figure(title = 'TRAPPIST-1 System & Earth', width = 2500, height = 500, x_range=Range1d(0, 1.2))\n",
    "p3.circle(x = 'semi_major', y = 'mass', radius = 'radius', source = source)\n",
    "p3.xaxis[0].axis_label = 'Semi-Major Axis (AU)'\n",
    "p3.yaxis[0].axis_label = 'Mass (Earth Masses)'\n",
    "labels = LabelSet(x = 'semi_major', y = 'mass', text = 'name', x_offset=20, y_offset=0, source = source, render_mode = 'canvas')\n",
    "p3.add_layout(labels)\n",
    "\n",
    "r_in_plot  = Span(location = R_inner, dimension = 'height', line_color = 'green', line_width = 3)\n",
    "r_out_plot = Span(location = R_outer, dimension = 'height', line_color = 'green', line_width = 3)\n",
    "\n",
    "p3.renderers.extend([r_in_plot, r_out_plot])\n",
    "\n",
    "show(p3)"
   ]
  },
  {
   "cell_type": "code",
   "execution_count": 28,
   "id": "ab29533e-6f99-4d58-a060-ea16cf751647",
   "metadata": {
    "tags": []
   },
   "outputs": [
    {
     "name": "stdout",
     "output_type": "stream",
     "text": [
      "Sol:\n",
      "\tAbsolute visual luminosity: 1\n",
      "\tInner habitable zone: 0.75\n",
      "\tOuter habitable zone: 1.77\n",
      "TRAPPIST-1:\n",
      "\tAbsolute visual luminosity: 0.0005285766790681068\n",
      "\tInner habitable zone: 0.0172430966469428\n",
      "\tOuter habitable zone: 0.04069370808678501\n"
     ]
    }
   ],
   "source": [
    "#https://en.wikipedia.org/wiki/Sun\n",
    "#https://en.wikipedia.org/wiki/Luminosity\n",
    "#https://en.wikipedia.org/wiki/TRAPPIST-1#cite_note-6\n",
    "#https://exoplanetarchive.ipac.caltech.edu/docs/poet_calculations.html\n",
    "sun_lum = 1 # Unit of Sol Luminosity\n",
    "R_inner_sol = 0.75*np.sqrt(sun_lum)\n",
    "R_outer_sol = 1.77*np.sqrt(sun_lum)\n",
    "print('Sol:\\n\\tAbsolute visual luminosity: {}\\n\\tInner habitable zone: {}\\n\\tOuter habitable zone: {}'.format(sun_lum, R_inner_sol, R_outer_sol))\n",
    "print('TRAPPIST-1:\\n\\tAbsolute visual luminosity: {}\\n\\tInner habitable zone: {}\\n\\tOuter habitable zone: {}'.format(trap_lum, R_inner, R_outer))"
   ]
  },
  {
   "cell_type": "code",
   "execution_count": 29,
   "id": "93a49d3c-5577-49ca-a097-6bc8b3bda4cb",
   "metadata": {
    "tags": []
   },
   "outputs": [
    {
     "data": {
      "text/html": [
       "\n",
       "\n",
       "\n",
       "\n",
       "\n",
       "\n",
       "  <div class=\"bk-root\" id=\"62cdf4b7-7f8b-403f-b747-b08a5b01bd41\" data-root-id=\"1168\"></div>\n"
      ]
     },
     "metadata": {},
     "output_type": "display_data"
    },
    {
     "data": {
      "application/javascript": [
       "(function(root) {\n",
       "  function embed_document(root) {\n",
       "    \n",
       "  var docs_json = {\"5daf3722-d8a9-4352-9fa4-84672c1755ff\":{\"defs\":[],\"roots\":{\"references\":[{\"attributes\":{\"below\":[{\"id\":\"1178\"}],\"center\":[{\"id\":\"1181\"},{\"id\":\"1185\"},{\"id\":\"1205\"}],\"height\":500,\"left\":[{\"id\":\"1182\"}],\"renderers\":[{\"id\":\"1203\"},{\"id\":\"1207\"},{\"id\":\"1208\"},{\"id\":\"1279\"},{\"id\":\"1280\"},{\"id\":\"1373\"},{\"id\":\"1374\"}],\"title\":{\"id\":\"1169\"},\"toolbar\":{\"id\":\"1193\"},\"width\":2500,\"x_range\":{\"id\":\"1395\"},\"x_scale\":{\"id\":\"1174\"},\"y_range\":{\"id\":\"1172\"},\"y_scale\":{\"id\":\"1176\"}},\"id\":\"1168\",\"subtype\":\"Figure\",\"type\":\"Plot\"},{\"attributes\":{\"data_source\":{\"id\":\"1166\"},\"glyph\":{\"id\":\"1201\"},\"hover_glyph\":null,\"muted_glyph\":null,\"nonselection_glyph\":{\"id\":\"1202\"},\"view\":{\"id\":\"1204\"}},\"id\":\"1203\",\"type\":\"GlyphRenderer\"},{\"attributes\":{\"source\":{\"id\":\"1166\"},\"text\":{\"field\":\"name\"},\"x\":{\"field\":\"semi_major\"},\"x_offset\":{\"value\":20},\"y\":{\"field\":\"mass\"}},\"id\":\"1205\",\"type\":\"LabelSet\"},{\"attributes\":{\"bottom_units\":\"screen\",\"fill_alpha\":0.5,\"fill_color\":\"lightgrey\",\"left_units\":\"screen\",\"level\":\"overlay\",\"line_alpha\":1.0,\"line_color\":\"black\",\"line_dash\":[4,4],\"line_width\":2,\"right_units\":\"screen\",\"syncable\":false,\"top_units\":\"screen\"},\"id\":\"1192\",\"type\":\"BoxAnnotation\"},{\"attributes\":{\"fill_color\":{\"value\":\"#1f77b4\"},\"line_color\":{\"value\":\"#1f77b4\"},\"radius\":{\"field\":\"radius\"},\"x\":{\"field\":\"semi_major\"},\"y\":{\"field\":\"mass\"}},\"id\":\"1201\",\"type\":\"Circle\"},{\"attributes\":{\"axis_label\":\"Mass (Earth Masses)\",\"formatter\":{\"id\":\"1223\"},\"major_label_policy\":{\"id\":\"1225\"},\"ticker\":{\"id\":\"1183\"}},\"id\":\"1182\",\"type\":\"LinearAxis\"},{\"attributes\":{},\"id\":\"1179\",\"type\":\"BasicTicker\"},{\"attributes\":{},\"id\":\"1172\",\"type\":\"DataRange1d\"},{\"attributes\":{\"text\":\"TRAPPIST-1 System & Earth\"},\"id\":\"1169\",\"type\":\"Title\"},{\"attributes\":{\"axis_label\":\"Semi-Major Axis (AU)\",\"formatter\":{\"id\":\"1220\"},\"major_label_policy\":{\"id\":\"1222\"},\"ticker\":{\"id\":\"1179\"}},\"id\":\"1178\",\"type\":\"LinearAxis\"},{\"attributes\":{\"dimension\":\"height\",\"line_color\":\"green\",\"line_dash\":[6],\"line_width\":3,\"location\":1.77},\"id\":\"1280\",\"type\":\"Span\"},{\"attributes\":{},\"id\":\"1174\",\"type\":\"LinearScale\"},{\"attributes\":{},\"id\":\"1191\",\"type\":\"HelpTool\"},{\"attributes\":{},\"id\":\"1176\",\"type\":\"LinearScale\"},{\"attributes\":{\"axis\":{\"id\":\"1178\"},\"ticker\":null},\"id\":\"1181\",\"type\":\"Grid\"},{\"attributes\":{\"dimension\":\"height\",\"line_color\":\"green\",\"line_dash\":[6],\"line_width\":3,\"location\":0.75},\"id\":\"1279\",\"type\":\"Span\"},{\"attributes\":{},\"id\":\"1220\",\"type\":\"BasicTickFormatter\"},{\"attributes\":{\"axis\":{\"id\":\"1182\"},\"dimension\":1,\"ticker\":null},\"id\":\"1185\",\"type\":\"Grid\"},{\"attributes\":{},\"id\":\"1183\",\"type\":\"BasicTicker\"},{\"attributes\":{\"fill_alpha\":{\"value\":0.1},\"fill_color\":{\"value\":\"#1f77b4\"},\"line_alpha\":{\"value\":0.1},\"line_color\":{\"value\":\"#1f77b4\"},\"radius\":{\"field\":\"radius\"},\"x\":{\"field\":\"semi_major\"},\"y\":{\"field\":\"mass\"}},\"id\":\"1202\",\"type\":\"Circle\"},{\"attributes\":{},\"id\":\"1222\",\"type\":\"AllLabels\"},{\"attributes\":{\"active_multi\":null,\"tools\":[{\"id\":\"1186\"},{\"id\":\"1187\"},{\"id\":\"1188\"},{\"id\":\"1189\"},{\"id\":\"1190\"},{\"id\":\"1191\"}]},\"id\":\"1193\",\"type\":\"Toolbar\"},{\"attributes\":{},\"id\":\"1187\",\"type\":\"WheelZoomTool\"},{\"attributes\":{},\"id\":\"1223\",\"type\":\"BasicTickFormatter\"},{\"attributes\":{},\"id\":\"1186\",\"type\":\"PanTool\"},{\"attributes\":{\"overlay\":{\"id\":\"1192\"}},\"id\":\"1188\",\"type\":\"BoxZoomTool\"},{\"attributes\":{\"dimension\":\"height\",\"line_color\":\"green\",\"line_dash\":[6],\"line_width\":3,\"location\":0.75},\"id\":\"1373\",\"type\":\"Span\"},{\"attributes\":{},\"id\":\"1189\",\"type\":\"SaveTool\"},{\"attributes\":{},\"id\":\"1225\",\"type\":\"AllLabels\"},{\"attributes\":{},\"id\":\"1190\",\"type\":\"ResetTool\"},{\"attributes\":{\"dimension\":\"height\",\"line_color\":\"green\",\"line_width\":3,\"location\":0.04069370808678501},\"id\":\"1208\",\"type\":\"Span\"},{\"attributes\":{\"source\":{\"id\":\"1166\"}},\"id\":\"1204\",\"type\":\"CDSView\"},{\"attributes\":{\"dimension\":\"height\",\"line_color\":\"green\",\"line_width\":3,\"location\":0.0172430966469428},\"id\":\"1207\",\"type\":\"Span\"},{\"attributes\":{\"end\":2},\"id\":\"1395\",\"type\":\"Range1d\"},{\"attributes\":{\"dimension\":\"height\",\"line_color\":\"green\",\"line_dash\":[6],\"line_width\":3,\"location\":1.77},\"id\":\"1374\",\"type\":\"Span\"},{\"attributes\":{},\"id\":\"1226\",\"type\":\"Selection\"},{\"attributes\":{\"data\":{\"mass\":[1.0170483239007404,1.155938985633435,0.29685097953852857,0.7720032433609058,0.9340953199825862,1.1479932956029606,0.33085853286895955,1],\"name\":[\"b\",\"c\",\"d\",\"e\",\"f\",\"g\",\"h\",\"Earth\"],\"radius\":[0.007473413933333333,0.007300048066666666,0.005226383066666666,0.0060663108,0.006973492533333333,0.0076535052,0.005153150933333333,0.006666666666666667],\"semi_major\":[0.01154775,0.01581512,0.02228038,0.02928285,0.03853361,0.04687692,0.06193488,1]},\"selected\":{\"id\":\"1226\"},\"selection_policy\":{\"id\":\"1227\"}},\"id\":\"1166\",\"type\":\"ColumnDataSource\"},{\"attributes\":{},\"id\":\"1227\",\"type\":\"UnionRenderers\"}],\"root_ids\":[\"1168\"]},\"title\":\"Bokeh Application\",\"version\":\"2.3.2\"}};\n",
       "  var render_items = [{\"docid\":\"5daf3722-d8a9-4352-9fa4-84672c1755ff\",\"root_ids\":[\"1168\"],\"roots\":{\"1168\":\"62cdf4b7-7f8b-403f-b747-b08a5b01bd41\"}}];\n",
       "  root.Bokeh.embed.embed_items_notebook(docs_json, render_items);\n",
       "\n",
       "  }\n",
       "  if (root.Bokeh !== undefined) {\n",
       "    embed_document(root);\n",
       "  } else {\n",
       "    var attempts = 0;\n",
       "    var timer = setInterval(function(root) {\n",
       "      if (root.Bokeh !== undefined) {\n",
       "        clearInterval(timer);\n",
       "        embed_document(root);\n",
       "      } else {\n",
       "        attempts++;\n",
       "        if (attempts > 100) {\n",
       "          clearInterval(timer);\n",
       "          console.log(\"Bokeh: ERROR: Unable to run BokehJS code because BokehJS library is missing\");\n",
       "        }\n",
       "      }\n",
       "    }, 10, root)\n",
       "  }\n",
       "})(window);"
      ],
      "application/vnd.bokehjs_exec.v0+json": ""
     },
     "metadata": {
      "application/vnd.bokehjs_exec.v0+json": {
       "id": "1168"
      }
     },
     "output_type": "display_data"
    }
   ],
   "source": [
    "r_in_plot  = Span(location = R_inner_sol, dimension = 'height', line_color = 'green', line_width = 3, line_dash = 'dashed')\n",
    "r_out_plot = Span(location = R_outer_sol, dimension = 'height', line_color = 'green', line_width = 3, line_dash = 'dashed')\n",
    "\n",
    "p3.renderers.extend([r_in_plot, r_out_plot])\n",
    "p3.x_range = Range1d(0, 2)\n",
    "\n",
    "show(p3)"
   ]
  },
  {
   "cell_type": "markdown",
   "id": "de509fdc-464f-450c-a37d-e9205cf8f07f",
   "metadata": {},
   "source": [
    "### Why is our system's HZ different than TRAPPIST-1's?\n",
    "The habitable zone of a star, at a basic level, is dictated by its star's luminosity (or how much energy it radiates per interval of time). \\\n",
    "Our sun is ~2000x brighter than TRAPPIST-1, so it makes sense that ours looks much different! \\\n",
    "There are other factors that go into calculating a HZ, but this is a good start. With this knowledge let's look at other HZs!"
   ]
  },
  {
   "cell_type": "code",
   "execution_count": 20,
   "id": "95ebf8f2-4329-4519-9892-4dce111396e2",
   "metadata": {
    "tags": []
   },
   "outputs": [],
   "source": [
    "def hz_calc(star_name):\n",
    "    star_data = data.findall(\".//star[name='{}']\".format(star_name))[0]\n",
    "    star_temp = float(findvalue(star_data, 'temperature').value)\n",
    "    star_rad = float(findvalue(star_data, 'radius').value)\n",
    "    star_lum = ((star_temp / 5772)**4) * star_rad**2\n",
    "    return [0.75*np.sqrt(star_lum), 1.77*np.sqrt(star_lum)]"
   ]
  },
  {
   "cell_type": "code",
   "execution_count": 45,
   "id": "79600bdd-774d-464f-9f16-7d4fe5351db2",
   "metadata": {
    "tags": []
   },
   "outputs": [
    {
     "name": "stdout",
     "output_type": "stream",
     "text": [
      "Couldn't calculate HZ for 2977 planets or planet did not have semimajoraxis. Stored as fail_HZ_df\n",
      "Calculated HZ for 1849/4826 planets!\n"
     ]
    }
   ],
   "source": [
    "all_exo_data = []\n",
    "cols =  ['star', 'hz_in', 'hz_out', 'name',  'transittime', 'radius', 'semimajoraxis', 'temperature', 'mass', 'lastupdate']\n",
    "count = 0\n",
    "for star in data.findall(\".//star\"):\n",
    "    for planet in star.findall(\".//planet\"):\n",
    "        count += 1\n",
    "        temp = []\n",
    "        temp.append(findvalue(star, 'name'))\n",
    "        try:\n",
    "            hz_info = hz_calc(findvalue(star, 'name'))\n",
    "            temp.append(hz_info[0]); temp.append(hz_info[1])\n",
    "        except AttributeError:\n",
    "            temp.append(None); temp.append(None)\n",
    "        for column in cols[3:]:\n",
    "            try:\n",
    "                temp.append(planet.find(column).text)\n",
    "            except AttributeError:\n",
    "                temp.append(None)\n",
    "        all_exo_data.append(temp)\n",
    "all_exo_data = pd.DataFrame(all_exo_data, columns = cols)\n",
    "all_exo_data['mass'] = all_exo_data['mass'].astype(float).multiply(other = j_to_e_ratio_mass)\n",
    "all_exo_data['radius'] = all_exo_data['radius'].astype(float).multiply(other = j_to_e_ratio_radi)\n",
    "fail_HZ_df = all_exo_data[all_exo_data['hz_in'].isna() | all_exo_data['semimajoraxis'].isna()]\n",
    "print('Couldn\\'t calculate HZ for {} planets or planet did not have semimajoraxis. Stored as fail_HZ_df'.format(len(fail_HZ_df)))\n",
    "all_exo_data = all_exo_data[~all_exo_data['hz_in'].isna() & ~all_exo_data['semimajoraxis'].isna()]\n",
    "print('Calculated HZ for {}/{} planets!'.format(len(all_exo_data), count))\n",
    "all_exo_data['hz_bool'] = all_exo_data.apply(lambda row: row['hz_in'] <= float(row['semimajoraxis']) <= row['hz_out'], axis = 1)"
   ]
  },
  {
   "cell_type": "code",
   "execution_count": 55,
   "id": "2e1e007d-a913-4aa1-848d-9216db54dbf4",
   "metadata": {
    "tags": []
   },
   "outputs": [
    {
     "data": {
      "text/html": [
       "\n",
       "\n",
       "\n",
       "\n",
       "\n",
       "\n",
       "  <div class=\"bk-root\" id=\"8905eb14-d4ce-4fb5-9f57-d3fb756129b2\" data-root-id=\"3608\"></div>\n"
      ]
     },
     "metadata": {},
     "output_type": "display_data"
    },
    {
     "data": {
      "application/javascript": [
       "(function(root) {\n",
       "  function embed_document(root) {\n",
       "    \n",
       "  var docs_json = {\"eff6c712-80df-458a-ae6e-ac21530cd643\":{\"defs\":[],\"roots\":{\"references\":[{\"attributes\":{\"below\":[{\"id\":\"3619\"}],\"center\":[{\"id\":\"3622\"},{\"id\":\"3626\"}],\"height\":1000,\"left\":[{\"id\":\"3623\"}],\"renderers\":[{\"id\":\"3644\"}],\"title\":{\"id\":\"3609\"},\"toolbar\":{\"id\":\"3634\"},\"width\":1500,\"x_range\":{\"id\":\"3611\"},\"x_scale\":{\"id\":\"3615\"},\"y_range\":{\"id\":\"3613\"},\"y_scale\":{\"id\":\"3617\"}},\"id\":\"3608\",\"subtype\":\"Figure\",\"type\":\"Plot\"},{\"attributes\":{\"axis_label\":\"Semi-Major Axis (AU)\",\"formatter\":{\"id\":\"3787\"},\"major_label_policy\":{\"id\":\"3789\"},\"ticker\":{\"id\":\"3620\"}},\"id\":\"3619\",\"type\":\"LogAxis\"},{\"attributes\":{\"overlay\":{\"id\":\"3633\"}},\"id\":\"3629\",\"type\":\"BoxZoomTool\"},{\"attributes\":{\"end\":10000,\"start\":0.001},\"id\":\"3611\",\"type\":\"Range1d\"},{\"attributes\":{\"end\":100000,\"start\":0.001},\"id\":\"3613\",\"type\":\"Range1d\"},{\"attributes\":{},\"id\":\"3615\",\"type\":\"LogScale\"},{\"attributes\":{\"num_minor_ticks\":10},\"id\":\"3620\",\"type\":\"LogTicker\"},{\"attributes\":{},\"id\":\"3628\",\"type\":\"WheelZoomTool\"},{\"attributes\":{\"axis_label\":\"Mass (Earth Masses)\",\"formatter\":{\"id\":\"3790\"},\"major_label_policy\":{\"id\":\"3792\"},\"ticker\":{\"id\":\"3624\"}},\"id\":\"3623\",\"type\":\"LogAxis\"},{\"attributes\":{\"axis\":{\"id\":\"3623\"},\"dimension\":1,\"ticker\":null},\"id\":\"3626\",\"type\":\"Grid\"},{\"attributes\":{\"fill_alpha\":{\"value\":0.1},\"fill_color\":{\"field\":\"color\"},\"line_alpha\":{\"value\":0.1},\"line_color\":{\"field\":\"color\"},\"size\":{\"value\":3},\"x\":{\"field\":\"semi_major\"},\"y\":{\"field\":\"mass\"}},\"id\":\"3643\",\"type\":\"Scatter\"},{\"attributes\":{\"num_minor_ticks\":10},\"id\":\"3624\",\"type\":\"LogTicker\"},{\"attributes\":{\"active_multi\":null,\"tools\":[{\"id\":\"3627\"},{\"id\":\"3628\"},{\"id\":\"3629\"},{\"id\":\"3630\"},{\"id\":\"3631\"},{\"id\":\"3632\"}]},\"id\":\"3634\",\"type\":\"Toolbar\"},{\"attributes\":{\"text\":\"Exoplanets & HZs\"},\"id\":\"3609\",\"type\":\"Title\"},{\"attributes\":{},\"id\":\"3632\",\"type\":\"HelpTool\"},{\"attributes\":{},\"id\":\"3627\",\"type\":\"PanTool\"},{\"attributes\":{},\"id\":\"3630\",\"type\":\"SaveTool\"},{\"attributes\":{\"ticker\":null},\"id\":\"3787\",\"type\":\"LogTickFormatter\"},{\"attributes\":{},\"id\":\"3631\",\"type\":\"ResetTool\"},{\"attributes\":{},\"id\":\"3789\",\"type\":\"AllLabels\"},{\"attributes\":{\"ticker\":null},\"id\":\"3790\",\"type\":\"LogTickFormatter\"},{\"attributes\":{\"source\":{\"id\":\"3607\"}},\"id\":\"3645\",\"type\":\"CDSView\"},{\"attributes\":{\"data\":{\"color\":[\"royalblue\",\"royalblue\",\"royalblue\",\"royalblue\",\"royalblue\",\"crimson\",\"royalblue\",\"royalblue\",\"royalblue\",\"royalblue\",\"royalblue\",\"royalblue\",\"royalblue\",\"royalblue\",\"royalblue\",\"royalblue\",\"crimson\",\"royalblue\",\"crimson\",\"royalblue\",\"royalblue\",\"royalblue\",\"royalblue\",\"royalblue\",\"royalblue\",\"royalblue\",\"royalblue\",\"crimson\",\"royalblue\",\"royalblue\",\"royalblue\",\"royalblue\",\"royalblue\",\"royalblue\",\"royalblue\",\"royalblue\",\"royalblue\",\"royalblue\",\"royalblue\",\"royalblue\",\"royalblue\",\"royalblue\",\"royalblue\",\"crimson\",\"crimson\",\"royalblue\",\"royalblue\",\"royalblue\",\"royalblue\",\"royalblue\",\"royalblue\",\"crimson\",\"royalblue\",\"royalblue\",\"royalblue\",\"royalblue\",\"royalblue\",\"crimson\",\"royalblue\",\"royalblue\",\"crimson\",\"crimson\",\"royalblue\",\"royalblue\",\"royalblue\",\"royalblue\",\"royalblue\",\"royalblue\",\"royalblue\",\"royalblue\",\"royalblue\",\"royalblue\",\"royalblue\",\"royalblue\",\"royalblue\",\"royalblue\",\"royalblue\",\"royalblue\",\"royalblue\",\"royalblue\",\"royalblue\",\"royalblue\",\"royalblue\",\"royalblue\",\"royalblue\",\"royalblue\",\"royalblue\",\"royalblue\",\"royalblue\",\"royalblue\",\"royalblue\",\"royalblue\",\"royalblue\",\"royalblue\",\"royalblue\",\"royalblue\",\"royalblue\",\"royalblue\",\"royalblue\",\"royalblue\",\"royalblue\",\"royalblue\",\"royalblue\",\"royalblue\",\"royalblue\",\"royalblue\",\"royalblue\",\"royalblue\",\"royalblue\",\"royalblue\",\"royalblue\",\"royalblue\",\"royalblue\",\"royalblue\",\"royalblue\",\"royalblue\",\"royalblue\",\"crimson\",\"royalblue\",\"royalblue\",\"royalblue\",\"royalblue\",\"royalblue\",\"royalblue\",\"royalblue\",\"royalblue\",\"royalblue\",\"royalblue\",\"royalblue\",\"royalblue\",\"royalblue\",\"royalblue\",\"royalblue\",\"royalblue\",\"royalblue\",\"crimson\",\"royalblue\",\"crimson\",\"royalblue\",\"royalblue\",\"royalblue\",\"royalblue\",\"royalblue\",\"royalblue\",\"royalblue\",\"royalblue\",\"royalblue\",\"royalblue\",\"royalblue\",\"royalblue\",\"royalblue\",\"royalblue\",\"royalblue\",\"royalblue\",\"royalblue\",\"royalblue\",\"royalblue\",\"royalblue\",\"royalblue\",\"royalblue\",\"royalblue\",\"royalblue\",\"royalblue\",\"royalblue\",\"royalblue\",\"royalblue\",\"royalblue\",\"royalblue\",\"royalblue\",\"royalblue\",\"royalblue\",\"royalblue\",\"royalblue\",\"royalblue\",\"royalblue\",\"royalblue\",\"royalblue\",\"royalblue\",\"royalblue\",\"royalblue\",\"royalblue\",\"royalblue\",\"royalblue\",\"royalblue\",\"royalblue\",\"crimson\",\"crimson\",\"royalblue\",\"crimson\",\"crimson\",\"royalblue\",\"royalblue\",\"royalblue\",\"crimson\",\"royalblue\",\"royalblue\",\"royalblue\",\"royalblue\",\"royalblue\",\"crimson\",\"royalblue\",\"royalblue\",\"royalblue\",\"royalblue\",\"crimson\",\"royalblue\",\"royalblue\",\"royalblue\",\"royalblue\",\"royalblue\",\"royalblue\",\"royalblue\",\"crimson\",\"royalblue\",\"royalblue\",\"royalblue\",\"royalblue\",\"royalblue\",\"royalblue\",\"royalblue\",\"royalblue\",\"royalblue\",\"royalblue\",\"royalblue\",\"royalblue\",\"royalblue\",\"royalblue\",\"royalblue\",\"royalblue\",\"royalblue\",\"royalblue\",\"royalblue\",\"royalblue\",\"royalblue\",\"royalblue\",\"royalblue\",\"royalblue\",\"royalblue\",\"royalblue\",\"royalblue\",\"royalblue\",\"royalblue\",\"royalblue\",\"royalblue\",\"royalblue\",\"crimson\",\"royalblue\",\"crimson\",\"royalblue\",\"royalblue\",\"royalblue\",\"royalblue\",\"royalblue\",\"royalblue\",\"royalblue\",\"royalblue\",\"royalblue\",\"royalblue\",\"crimson\",\"royalblue\",\"royalblue\",\"crimson\",\"crimson\",\"crimson\",\"royalblue\",\"royalblue\",\"royalblue\",\"royalblue\",\"royalblue\",\"royalblue\",\"crimson\",\"royalblue\",\"royalblue\",\"royalblue\",\"royalblue\",\"royalblue\",\"royalblue\",\"crimson\",\"royalblue\",\"royalblue\",\"royalblue\",\"royalblue\",\"royalblue\",\"royalblue\",\"royalblue\",\"royalblue\",\"royalblue\",\"royalblue\",\"royalblue\",\"royalblue\",\"royalblue\",\"royalblue\",\"royalblue\",\"royalblue\",\"royalblue\",\"royalblue\",\"royalblue\",\"royalblue\",\"royalblue\",\"royalblue\",\"royalblue\",\"royalblue\",\"royalblue\",\"royalblue\",\"royalblue\",\"royalblue\",\"royalblue\",\"royalblue\",\"royalblue\",\"royalblue\",\"royalblue\",\"royalblue\",\"royalblue\",\"crimson\",\"royalblue\",\"royalblue\",\"royalblue\",\"royalblue\",\"royalblue\",\"royalblue\",\"royalblue\",\"royalblue\",\"royalblue\",\"royalblue\",\"royalblue\",\"royalblue\",\"royalblue\",\"royalblue\",\"royalblue\",\"royalblue\",\"royalblue\",\"royalblue\",\"royalblue\",\"royalblue\",\"royalblue\",\"royalblue\",\"royalblue\",\"royalblue\",\"royalblue\",\"royalblue\",\"royalblue\",\"royalblue\",\"royalblue\",\"royalblue\",\"royalblue\",\"royalblue\",\"royalblue\",\"royalblue\",\"royalblue\",\"royalblue\",\"royalblue\",\"royalblue\",\"royalblue\",\"royalblue\",\"royalblue\",\"royalblue\",\"royalblue\",\"royalblue\",\"royalblue\",\"royalblue\",\"royalblue\",\"royalblue\",\"royalblue\",\"royalblue\",\"royalblue\",\"royalblue\",\"royalblue\",\"royalblue\",\"royalblue\",\"royalblue\",\"royalblue\",\"royalblue\",\"royalblue\",\"royalblue\",\"royalblue\",\"royalblue\",\"royalblue\",\"royalblue\",\"royalblue\",\"royalblue\",\"royalblue\",\"royalblue\",\"royalblue\",\"royalblue\",\"royalblue\",\"royalblue\",\"royalblue\",\"royalblue\",\"royalblue\",\"royalblue\",\"royalblue\",\"royalblue\",\"royalblue\",\"royalblue\",\"royalblue\",\"royalblue\",\"royalblue\",\"royalblue\",\"royalblue\",\"royalblue\",\"royalblue\",\"royalblue\",\"royalblue\",\"royalblue\",\"royalblue\",\"royalblue\",\"royalblue\",\"royalblue\",\"royalblue\",\"royalblue\",\"royalblue\",\"royalblue\",\"royalblue\",\"royalblue\",\"royalblue\",\"royalblue\",\"royalblue\",\"royalblue\",\"royalblue\",\"royalblue\",\"royalblue\",\"royalblue\",\"royalblue\",\"royalblue\",\"royalblue\",\"royalblue\",\"royalblue\",\"royalblue\",\"royalblue\",\"royalblue\",\"royalblue\",\"royalblue\",\"crimson\",\"royalblue\",\"royalblue\",\"royalblue\",\"royalblue\",\"royalblue\",\"royalblue\",\"royalblue\",\"royalblue\",\"royalblue\",\"crimson\",\"royalblue\",\"royalblue\",\"royalblue\",\"crimson\",\"royalblue\",\"royalblue\",\"crimson\",\"crimson\",\"royalblue\",\"royalblue\",\"royalblue\",\"royalblue\",\"royalblue\",\"royalblue\",\"royalblue\",\"royalblue\",\"royalblue\",\"royalblue\",\"crimson\",\"royalblue\",\"royalblue\",\"crimson\",\"royalblue\",\"royalblue\",\"royalblue\",\"royalblue\",\"royalblue\",\"royalblue\",\"royalblue\",\"royalblue\",\"royalblue\",\"royalblue\",\"royalblue\",\"royalblue\",\"royalblue\",\"royalblue\",\"royalblue\",\"royalblue\",\"royalblue\",\"royalblue\",\"royalblue\",\"royalblue\",\"royalblue\",\"crimson\",\"royalblue\",\"royalblue\",\"royalblue\",\"royalblue\",\"royalblue\",\"crimson\",\"royalblue\",\"royalblue\",\"royalblue\",\"royalblue\",\"royalblue\",\"royalblue\",\"crimson\",\"royalblue\",\"royalblue\",\"royalblue\",\"royalblue\",\"royalblue\",\"royalblue\",\"royalblue\",\"royalblue\",\"royalblue\",\"crimson\",\"royalblue\",\"crimson\",\"royalblue\",\"royalblue\",\"royalblue\",\"royalblue\",\"royalblue\",\"royalblue\",\"crimson\",\"royalblue\",\"crimson\",\"royalblue\",\"royalblue\",\"crimson\",\"royalblue\",\"royalblue\",\"royalblue\",\"royalblue\",\"royalblue\",\"royalblue\",\"crimson\",\"royalblue\",\"crimson\",\"royalblue\",\"royalblue\",\"royalblue\",\"crimson\",\"royalblue\",\"royalblue\",\"royalblue\",\"royalblue\",\"royalblue\",\"royalblue\",\"royalblue\",\"royalblue\",\"royalblue\",\"royalblue\",\"royalblue\",\"crimson\",\"royalblue\",\"royalblue\",\"royalblue\",\"royalblue\",\"royalblue\",\"crimson\",\"royalblue\",\"royalblue\",\"royalblue\",\"royalblue\",\"royalblue\",\"royalblue\",\"royalblue\",\"royalblue\",\"crimson\",\"royalblue\",\"crimson\",\"royalblue\",\"royalblue\",\"crimson\",\"crimson\",\"royalblue\",\"royalblue\",\"royalblue\",\"royalblue\",\"crimson\",\"royalblue\",\"royalblue\",\"royalblue\",\"royalblue\",\"royalblue\",\"royalblue\",\"royalblue\",\"crimson\",\"royalblue\",\"royalblue\",\"royalblue\",\"royalblue\",\"royalblue\",\"royalblue\",\"crimson\",\"royalblue\",\"royalblue\",\"royalblue\",\"royalblue\",\"royalblue\",\"royalblue\",\"crimson\",\"royalblue\",\"royalblue\",\"royalblue\",\"royalblue\",\"royalblue\",\"crimson\",\"royalblue\",\"royalblue\",\"royalblue\",\"royalblue\",\"royalblue\",\"royalblue\",\"royalblue\",\"royalblue\",\"royalblue\",\"royalblue\",\"royalblue\",\"royalblue\",\"royalblue\",\"royalblue\",\"royalblue\",\"royalblue\",\"royalblue\",\"crimson\",\"royalblue\",\"royalblue\",\"crimson\",\"royalblue\",\"royalblue\",\"royalblue\",\"royalblue\",\"royalblue\",\"crimson\",\"crimson\",\"royalblue\",\"royalblue\",\"royalblue\",\"crimson\",\"royalblue\",\"royalblue\",\"royalblue\",\"royalblue\",\"royalblue\",\"crimson\",\"royalblue\",\"royalblue\",\"crimson\",\"royalblue\",\"royalblue\",\"royalblue\",\"royalblue\",\"royalblue\",\"royalblue\",\"royalblue\",\"royalblue\",\"royalblue\",\"royalblue\",\"crimson\",\"royalblue\",\"royalblue\",\"crimson\",\"royalblue\",\"royalblue\",\"royalblue\",\"royalblue\",\"crimson\",\"royalblue\",\"crimson\",\"royalblue\",\"royalblue\",\"royalblue\",\"royalblue\",\"royalblue\",\"royalblue\",\"royalblue\",\"royalblue\",\"crimson\",\"royalblue\",\"royalblue\",\"royalblue\",\"royalblue\",\"royalblue\",\"royalblue\",\"royalblue\",\"royalblue\",\"royalblue\",\"crimson\",\"royalblue\",\"royalblue\",\"royalblue\",\"crimson\",\"royalblue\",\"royalblue\",\"royalblue\",\"crimson\",\"royalblue\",\"royalblue\",\"royalblue\",\"royalblue\",\"crimson\",\"royalblue\",\"royalblue\",\"royalblue\",\"royalblue\",\"royalblue\",\"royalblue\",\"royalblue\",\"crimson\",\"royalblue\",\"royalblue\",\"royalblue\",\"crimson\",\"crimson\",\"royalblue\",\"royalblue\",\"royalblue\",\"royalblue\",\"royalblue\",\"royalblue\",\"royalblue\",\"crimson\",\"royalblue\",\"royalblue\",\"royalblue\",\"royalblue\",\"royalblue\",\"royalblue\",\"royalblue\",\"crimson\",\"royalblue\",\"royalblue\",\"royalblue\",\"royalblue\",\"crimson\",\"royalblue\",\"royalblue\",\"crimson\",\"royalblue\",\"royalblue\",\"royalblue\",\"royalblue\",\"royalblue\",\"crimson\",\"royalblue\",\"royalblue\",\"royalblue\",\"royalblue\",\"royalblue\",\"royalblue\",\"crimson\",\"royalblue\",\"royalblue\",\"royalblue\",\"royalblue\",\"royalblue\",\"crimson\",\"crimson\",\"crimson\",\"royalblue\",\"royalblue\",\"crimson\",\"royalblue\",\"royalblue\",\"royalblue\",\"royalblue\",\"royalblue\",\"royalblue\",\"royalblue\",\"royalblue\",\"royalblue\",\"royalblue\",\"royalblue\",\"royalblue\",\"royalblue\",\"crimson\",\"royalblue\",\"royalblue\",\"royalblue\",\"crimson\",\"royalblue\",\"royalblue\",\"royalblue\",\"royalblue\",\"royalblue\",\"royalblue\",\"royalblue\",\"royalblue\",\"royalblue\",\"royalblue\",\"royalblue\",\"royalblue\",\"royalblue\",\"royalblue\",\"royalblue\",\"royalblue\",\"royalblue\",\"royalblue\",\"crimson\",\"royalblue\",\"crimson\",\"royalblue\",\"royalblue\",\"royalblue\",\"royalblue\",\"royalblue\",\"royalblue\",\"royalblue\",\"crimson\",\"royalblue\",\"royalblue\",\"royalblue\",\"royalblue\",\"royalblue\",\"royalblue\",\"royalblue\",\"royalblue\",\"royalblue\",\"royalblue\",\"royalblue\",\"royalblue\",\"royalblue\",\"royalblue\",\"royalblue\",\"royalblue\",\"royalblue\",\"royalblue\",\"royalblue\",\"royalblue\",\"royalblue\",\"crimson\",\"royalblue\",\"royalblue\",\"royalblue\",\"royalblue\",\"royalblue\",\"royalblue\",\"royalblue\",\"crimson\",\"crimson\",\"royalblue\",\"royalblue\",\"royalblue\",\"royalblue\",\"royalblue\",\"royalblue\",\"crimson\",\"crimson\",\"royalblue\",\"royalblue\",\"royalblue\",\"royalblue\",\"crimson\",\"royalblue\",\"crimson\",\"royalblue\",\"royalblue\",\"royalblue\",\"royalblue\",\"royalblue\",\"royalblue\",\"royalblue\",\"royalblue\",\"royalblue\",\"royalblue\",\"royalblue\",\"royalblue\",\"royalblue\",\"royalblue\",\"royalblue\",\"crimson\",\"royalblue\",\"royalblue\",\"royalblue\",\"royalblue\",\"royalblue\",\"royalblue\",\"royalblue\",\"crimson\",\"royalblue\",\"royalblue\",\"royalblue\",\"royalblue\",\"royalblue\",\"royalblue\",\"crimson\",\"royalblue\",\"crimson\",\"royalblue\",\"royalblue\",\"royalblue\",\"royalblue\",\"royalblue\",\"royalblue\",\"royalblue\",\"royalblue\",\"royalblue\",\"royalblue\",\"royalblue\",\"royalblue\",\"royalblue\",\"royalblue\",\"royalblue\",\"royalblue\",\"royalblue\",\"royalblue\",\"royalblue\",\"royalblue\",\"royalblue\",\"royalblue\",\"royalblue\",\"royalblue\",\"royalblue\",\"royalblue\",\"royalblue\",\"royalblue\",\"royalblue\",\"royalblue\",\"royalblue\",\"royalblue\",\"crimson\",\"royalblue\",\"royalblue\",\"royalblue\",\"royalblue\",\"royalblue\",\"royalblue\",\"royalblue\",\"royalblue\",\"royalblue\",\"royalblue\",\"royalblue\",\"royalblue\",\"royalblue\",\"royalblue\",\"royalblue\",\"royalblue\",\"royalblue\",\"royalblue\",\"royalblue\",\"royalblue\",\"royalblue\",\"royalblue\",\"royalblue\",\"royalblue\",\"royalblue\",\"royalblue\",\"royalblue\",\"royalblue\",\"royalblue\",\"royalblue\",\"royalblue\",\"royalblue\",\"royalblue\",\"royalblue\",\"royalblue\",\"royalblue\",\"royalblue\",\"royalblue\",\"royalblue\",\"royalblue\",\"royalblue\",\"royalblue\",\"royalblue\",\"royalblue\",\"royalblue\",\"royalblue\",\"royalblue\",\"royalblue\",\"royalblue\",\"royalblue\",\"royalblue\",\"royalblue\",\"royalblue\",\"royalblue\",\"royalblue\",\"royalblue\",\"royalblue\",\"royalblue\",\"royalblue\",\"royalblue\",\"royalblue\",\"royalblue\",\"royalblue\",\"royalblue\",\"royalblue\",\"royalblue\",\"royalblue\",\"royalblue\",\"royalblue\",\"royalblue\",\"royalblue\",\"royalblue\",\"royalblue\",\"royalblue\",\"royalblue\",\"royalblue\",\"royalblue\",\"royalblue\",\"royalblue\",\"royalblue\",\"royalblue\",\"royalblue\",\"royalblue\",\"royalblue\",\"royalblue\",\"royalblue\",\"royalblue\",\"royalblue\",\"royalblue\",\"royalblue\",\"royalblue\",\"royalblue\",\"royalblue\",\"royalblue\",\"royalblue\",\"royalblue\",\"royalblue\",\"royalblue\",\"royalblue\",\"crimson\",\"royalblue\",\"royalblue\",\"royalblue\",\"royalblue\",\"royalblue\",\"royalblue\",\"royalblue\",\"royalblue\",\"royalblue\",\"royalblue\",\"royalblue\",\"royalblue\",\"royalblue\",\"royalblue\",\"royalblue\",\"royalblue\",\"royalblue\",\"royalblue\",\"royalblue\",\"royalblue\",\"royalblue\",\"royalblue\",\"royalblue\",\"royalblue\",\"royalblue\",\"royalblue\",\"royalblue\",\"royalblue\",\"royalblue\",\"royalblue\",\"royalblue\",\"royalblue\",\"royalblue\",\"royalblue\",\"royalblue\",\"royalblue\",\"royalblue\",\"royalblue\",\"royalblue\",\"royalblue\",\"royalblue\",\"royalblue\",\"royalblue\",\"royalblue\",\"royalblue\",\"royalblue\",\"royalblue\",\"royalblue\",\"royalblue\",\"crimson\",\"royalblue\",\"royalblue\",\"royalblue\",\"royalblue\",\"royalblue\",\"royalblue\",\"royalblue\",\"royalblue\",\"royalblue\",\"royalblue\",\"royalblue\",\"crimson\",\"crimson\",\"royalblue\",\"royalblue\",\"royalblue\",\"royalblue\",\"royalblue\",\"royalblue\",\"royalblue\",\"royalblue\",\"royalblue\",\"royalblue\",\"royalblue\",\"royalblue\",\"royalblue\",\"royalblue\",\"royalblue\",\"crimson\",\"royalblue\",\"royalblue\",\"royalblue\",\"royalblue\",\"royalblue\",\"royalblue\",\"royalblue\",\"royalblue\",\"royalblue\",\"royalblue\",\"royalblue\",\"royalblue\",\"royalblue\",\"royalblue\",\"royalblue\",\"royalblue\",\"royalblue\",\"royalblue\",\"royalblue\",\"royalblue\",\"royalblue\",\"royalblue\",\"royalblue\",\"royalblue\",\"royalblue\",\"royalblue\",\"royalblue\",\"royalblue\",\"royalblue\",\"royalblue\",\"royalblue\",\"royalblue\",\"royalblue\",\"royalblue\",\"royalblue\",\"royalblue\",\"royalblue\",\"royalblue\",\"royalblue\",\"royalblue\",\"royalblue\",\"royalblue\",\"royalblue\",\"royalblue\",\"royalblue\",\"crimson\",\"crimson\",\"royalblue\",\"royalblue\",\"royalblue\",\"royalblue\",\"crimson\",\"royalblue\",\"royalblue\",\"royalblue\",\"royalblue\",\"crimson\",\"royalblue\",\"royalblue\",\"crimson\",\"royalblue\",\"royalblue\",\"royalblue\",\"royalblue\",\"royalblue\",\"royalblue\",\"crimson\",\"royalblue\",\"royalblue\",\"royalblue\",\"royalblue\",\"royalblue\",\"royalblue\",\"royalblue\",\"royalblue\",\"royalblue\",\"royalblue\",\"royalblue\",\"royalblue\",\"royalblue\",\"royalblue\",\"royalblue\",\"crimson\",\"royalblue\",\"royalblue\",\"royalblue\",\"royalblue\",\"royalblue\",\"royalblue\",\"royalblue\",\"royalblue\",\"royalblue\",\"royalblue\",\"royalblue\",\"royalblue\",\"royalblue\",\"royalblue\",\"crimson\",\"crimson\",\"royalblue\",\"royalblue\",\"royalblue\",\"royalblue\",\"royalblue\",\"royalblue\",\"royalblue\",\"royalblue\",\"royalblue\",\"royalblue\",\"royalblue\",\"royalblue\",\"royalblue\",\"royalblue\",\"royalblue\",\"royalblue\",\"royalblue\",\"royalblue\",\"royalblue\",\"royalblue\",\"royalblue\",\"royalblue\",\"royalblue\",\"royalblue\",\"royalblue\",\"royalblue\",\"royalblue\",\"crimson\",\"royalblue\",\"royalblue\",\"royalblue\",\"royalblue\",\"royalblue\",\"royalblue\",\"royalblue\",\"royalblue\",\"crimson\",\"royalblue\",\"crimson\",\"royalblue\",\"crimson\",\"crimson\",\"royalblue\",\"royalblue\",\"royalblue\",\"royalblue\",\"royalblue\",\"crimson\",\"royalblue\",\"royalblue\",\"crimson\",\"crimson\",\"royalblue\",\"royalblue\",\"royalblue\",\"royalblue\",\"royalblue\",\"crimson\",\"royalblue\",\"crimson\",\"royalblue\",\"royalblue\",\"royalblue\",\"royalblue\",\"royalblue\",\"royalblue\",\"royalblue\",\"royalblue\",\"royalblue\",\"royalblue\",\"royalblue\",\"royalblue\",\"royalblue\",\"royalblue\",\"royalblue\",\"royalblue\",\"royalblue\",\"royalblue\",\"royalblue\",\"royalblue\",\"royalblue\",\"royalblue\",\"crimson\",\"crimson\",\"royalblue\",\"royalblue\",\"royalblue\",\"royalblue\",\"royalblue\",\"royalblue\",\"royalblue\",\"royalblue\",\"crimson\",\"royalblue\",\"royalblue\",\"royalblue\",\"royalblue\",\"royalblue\",\"royalblue\",\"royalblue\",\"royalblue\",\"royalblue\",\"royalblue\",\"royalblue\",\"royalblue\",\"royalblue\",\"royalblue\",\"royalblue\",\"royalblue\",\"royalblue\",\"royalblue\",\"royalblue\",\"royalblue\",\"royalblue\",\"royalblue\",\"crimson\",\"royalblue\",\"royalblue\",\"royalblue\",\"royalblue\",\"royalblue\",\"royalblue\",\"royalblue\",\"royalblue\",\"royalblue\",\"royalblue\",\"royalblue\",\"royalblue\",\"royalblue\",\"royalblue\",\"royalblue\",\"royalblue\",\"royalblue\",\"royalblue\",\"royalblue\",\"royalblue\",\"royalblue\",\"royalblue\",\"royalblue\",\"royalblue\",\"royalblue\",\"royalblue\",\"royalblue\",\"royalblue\",\"crimson\",\"royalblue\",\"royalblue\",\"royalblue\",\"royalblue\",\"royalblue\",\"royalblue\",\"royalblue\",\"royalblue\",\"royalblue\",\"royalblue\",\"royalblue\",\"royalblue\",\"royalblue\",\"royalblue\",\"royalblue\",\"royalblue\",\"royalblue\",\"royalblue\",\"royalblue\",\"royalblue\",\"royalblue\",\"royalblue\",\"royalblue\",\"royalblue\",\"royalblue\",\"royalblue\",\"royalblue\",\"royalblue\",\"royalblue\",\"crimson\",\"royalblue\",\"royalblue\",\"royalblue\",\"royalblue\",\"royalblue\",\"royalblue\",\"royalblue\",\"royalblue\",\"royalblue\",\"royalblue\",\"royalblue\",\"royalblue\",\"royalblue\",\"royalblue\",\"crimson\",\"royalblue\",\"royalblue\",\"royalblue\",\"royalblue\",\"royalblue\",\"royalblue\",\"royalblue\",\"royalblue\",\"royalblue\",\"royalblue\",\"royalblue\",\"royalblue\",\"royalblue\",\"royalblue\",\"royalblue\",\"royalblue\",\"royalblue\",\"royalblue\",\"royalblue\",\"royalblue\",\"crimson\",\"royalblue\",\"crimson\",\"royalblue\",\"royalblue\",\"royalblue\",\"royalblue\",\"royalblue\",\"royalblue\",\"royalblue\",\"royalblue\",\"royalblue\",\"royalblue\",\"royalblue\",\"royalblue\",\"royalblue\",\"royalblue\",\"royalblue\",\"royalblue\",\"royalblue\",\"royalblue\",\"royalblue\",\"royalblue\",\"royalblue\",\"royalblue\",\"royalblue\",\"royalblue\",\"royalblue\",\"royalblue\",\"royalblue\",\"royalblue\",\"royalblue\",\"royalblue\",\"royalblue\",\"royalblue\",\"crimson\",\"royalblue\",\"royalblue\",\"royalblue\",\"royalblue\",\"royalblue\",\"royalblue\",\"royalblue\",\"royalblue\",\"royalblue\",\"royalblue\",\"royalblue\",\"royalblue\",\"royalblue\",\"royalblue\",\"royalblue\",\"royalblue\",\"crimson\",\"crimson\",\"royalblue\",\"royalblue\",\"crimson\",\"crimson\",\"royalblue\",\"royalblue\",\"royalblue\",\"royalblue\",\"royalblue\",\"royalblue\",\"royalblue\",\"royalblue\",\"royalblue\",\"crimson\",\"royalblue\",\"royalblue\",\"royalblue\",\"royalblue\",\"royalblue\",\"royalblue\",\"royalblue\",\"royalblue\",\"royalblue\",\"royalblue\",\"royalblue\",\"royalblue\",\"royalblue\",\"royalblue\",\"royalblue\",\"royalblue\",\"royalblue\",\"royalblue\",\"royalblue\",\"royalblue\",\"royalblue\",\"royalblue\",\"royalblue\",\"royalblue\",\"royalblue\",\"royalblue\",\"royalblue\",\"royalblue\",\"royalblue\",\"royalblue\",\"royalblue\",\"royalblue\",\"royalblue\",\"royalblue\",\"royalblue\",\"royalblue\",\"royalblue\",\"royalblue\",\"royalblue\",\"royalblue\",\"royalblue\",\"royalblue\",\"royalblue\",\"royalblue\",\"royalblue\",\"royalblue\",\"royalblue\",\"royalblue\",\"royalblue\",\"royalblue\",\"royalblue\",\"royalblue\",\"royalblue\",\"royalblue\",\"royalblue\",\"royalblue\",\"royalblue\",\"royalblue\",\"royalblue\",\"royalblue\",\"royalblue\",\"royalblue\",\"royalblue\",\"royalblue\",\"royalblue\",\"royalblue\",\"royalblue\",\"royalblue\",\"royalblue\",\"royalblue\",\"royalblue\",\"royalblue\",\"royalblue\",\"royalblue\",\"royalblue\",\"royalblue\",\"royalblue\",\"royalblue\",\"royalblue\",\"royalblue\",\"royalblue\",\"royalblue\",\"royalblue\",\"royalblue\",\"royalblue\",\"royalblue\",\"crimson\",\"royalblue\",\"crimson\",\"royalblue\",\"royalblue\",\"royalblue\",\"royalblue\",\"royalblue\",\"royalblue\",\"royalblue\",\"royalblue\",\"royalblue\",\"royalblue\",\"royalblue\",\"royalblue\",\"royalblue\",\"royalblue\",\"royalblue\",\"royalblue\",\"royalblue\",\"royalblue\",\"royalblue\",\"royalblue\",\"royalblue\",\"royalblue\",\"royalblue\",\"royalblue\",\"royalblue\",\"royalblue\",\"royalblue\",\"royalblue\",\"royalblue\",\"royalblue\",\"royalblue\",\"royalblue\",\"royalblue\",\"royalblue\",\"royalblue\",\"royalblue\",\"royalblue\",\"royalblue\",\"royalblue\",\"royalblue\",\"royalblue\",\"royalblue\",\"royalblue\",\"royalblue\",\"royalblue\",\"royalblue\",\"royalblue\",\"royalblue\",\"royalblue\",\"crimson\",\"royalblue\",\"royalblue\",\"crimson\",\"royalblue\",\"royalblue\",\"royalblue\",\"royalblue\",\"royalblue\",\"royalblue\",\"royalblue\",\"royalblue\",\"royalblue\",\"royalblue\",\"royalblue\",\"royalblue\",\"royalblue\",\"royalblue\",\"royalblue\",\"crimson\",\"crimson\",\"crimson\",\"royalblue\",\"royalblue\",\"royalblue\",\"royalblue\",\"royalblue\",\"royalblue\",\"royalblue\",\"royalblue\",\"royalblue\",\"royalblue\",\"royalblue\",\"royalblue\",\"royalblue\",\"royalblue\",\"royalblue\",\"royalblue\",\"crimson\",\"royalblue\",\"royalblue\",\"royalblue\",\"royalblue\",\"royalblue\",\"royalblue\",\"royalblue\",\"royalblue\",\"royalblue\",\"royalblue\",\"royalblue\",\"royalblue\",\"royalblue\",\"royalblue\",\"royalblue\",\"royalblue\",\"royalblue\",\"royalblue\",\"royalblue\",\"royalblue\",\"royalblue\",\"royalblue\",\"royalblue\",\"royalblue\",\"royalblue\",\"royalblue\",\"royalblue\",\"royalblue\",\"royalblue\",\"royalblue\",\"royalblue\",\"royalblue\",\"royalblue\",\"royalblue\",\"royalblue\",\"royalblue\",\"royalblue\",\"royalblue\",\"royalblue\",\"royalblue\",\"royalblue\",\"royalblue\",\"royalblue\",\"royalblue\",\"royalblue\",\"royalblue\",\"royalblue\",\"royalblue\",\"royalblue\",\"royalblue\",\"royalblue\",\"royalblue\",\"royalblue\",\"royalblue\",\"royalblue\",\"royalblue\",\"royalblue\",\"royalblue\",\"royalblue\",\"royalblue\",\"royalblue\",\"royalblue\",\"royalblue\",\"royalblue\",\"royalblue\",\"royalblue\",\"royalblue\",\"royalblue\",\"royalblue\",\"royalblue\",\"royalblue\",\"royalblue\",\"royalblue\",\"royalblue\",\"royalblue\",\"royalblue\",\"royalblue\",\"royalblue\",\"royalblue\",\"royalblue\",\"royalblue\",\"royalblue\",\"royalblue\",\"royalblue\",\"royalblue\",\"royalblue\",\"royalblue\",\"royalblue\",\"royalblue\",\"royalblue\",\"royalblue\",\"royalblue\",\"royalblue\",\"royalblue\",\"royalblue\",\"royalblue\",\"royalblue\",\"royalblue\",\"royalblue\",\"royalblue\",\"royalblue\",\"royalblue\",\"royalblue\",\"royalblue\",\"royalblue\",\"royalblue\",\"royalblue\",\"royalblue\",\"crimson\",\"royalblue\",\"royalblue\",\"royalblue\",\"royalblue\",\"royalblue\",\"royalblue\",\"royalblue\",\"royalblue\",\"crimson\",\"royalblue\",\"royalblue\",\"royalblue\",\"royalblue\",\"royalblue\",\"royalblue\",\"royalblue\",\"royalblue\",\"royalblue\",\"royalblue\",\"royalblue\",\"royalblue\",\"royalblue\",\"royalblue\",\"royalblue\",\"royalblue\",\"royalblue\",\"royalblue\",\"royalblue\",\"royalblue\",\"royalblue\",\"royalblue\",\"royalblue\",\"royalblue\",\"royalblue\",\"royalblue\",\"royalblue\",\"royalblue\",\"royalblue\",\"royalblue\",\"royalblue\",\"royalblue\",\"royalblue\",\"royalblue\",\"royalblue\",\"royalblue\",\"royalblue\",\"royalblue\",\"royalblue\",\"royalblue\",\"royalblue\",\"royalblue\",\"royalblue\",\"royalblue\",\"royalblue\",\"royalblue\",\"royalblue\",\"royalblue\",\"royalblue\",\"royalblue\",\"royalblue\",\"royalblue\",\"royalblue\",\"royalblue\",\"royalblue\",\"royalblue\",\"royalblue\",\"royalblue\",\"royalblue\",\"royalblue\",\"royalblue\",\"royalblue\",\"crimson\",\"royalblue\",\"royalblue\",\"royalblue\",\"royalblue\",\"royalblue\",\"royalblue\",\"royalblue\",\"royalblue\",\"royalblue\",\"royalblue\",\"royalblue\",\"royalblue\",\"royalblue\",\"royalblue\",\"royalblue\",\"royalblue\",\"royalblue\",\"royalblue\"],\"mass\":{\"__ndarray__\":\"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\",\"dtype\":\"float64\",\"order\":\"little\",\"shape\":[1849]},\"name\":[\"11 Com b\",\"11 UMi b\",\"14 And b\",\"14 Her b\",\"14 Her c\",\"16 Cygni B b\",\"18 Del b\",\"24 Boo b\",\"24 Sex b\",\"24 Sex c\",\"2M0437 b\",\"2M 0746+20 b\",\"2M 2140+16 b\",\"2M 2206-20 b\",\"KOI-7368 b\",\"30 Ari B b\",\"38 Vir b\",\"42 Dra b\",\"47 UMa b\",\"47 UMa c\",\"47 UMa d\",\"4 UMa b\",\"51 Peg b\",\"55 Cancri b\",\"55 Cancri c\",\"55 Cancri d\",\"55 Cancri e\",\"55 Cancri f\",\"61 Vir b\",\"61 Vir c\",\"61 Vir d\",\"6 Lyn b\",\"70 Vir b\",\"75 Cet b\",\"7 CMa b\",\"7 CMa c\",\"81 Cet b\",\"83 Leonis B b\",\"83 Leonis B c\",\"8 Ursae Minoris b\",\"91 Aquarii A b\",\"alf Ari b\",\"alf Tau b\",\"Proxima Centauri b\",\"Proxima Centauri d\",\"Alpha Centauri B b\",\"AU Mic b\",\"BD+02.3313 b\",\"BD+03 2562 b\",\"BD-10 3166 b\",\"BD-11 4672 b\",\"BD-11 4672 c\",\"BD+15 2375 b\",\"BD+15 2940 b\",\"BD-17 63 b\",\"BD+20 274 b\",\"BD+20 594 b\",\"BD+45 564 b\",\"BD+48 738 b\",\"BD+48 740 b\",\"BD+49 828 b\",\"BD+55 362 b\",\"BD+60 1417 b\",\"BD+63 1405 b\",\"beta Cancri b\",\"beta Ursae Minoris b\",\"CFHTWIR-Oph 98 A b\",\"COCONUTS-2 b\",\"CoRoT-10 b\",\"CoRoT-11 b\",\"CoRoT-12 b\",\"CoRoT-13 b\",\"CoRoT-14 b\",\"CoRoT-16 b\",\"CoRoT-17 b\",\"CoRoT-18 b\",\"CoRoT-19 b\",\"CoRoT-1 b\",\"CoRoT-20 b\",\"CoRoT-20 c\",\"CoRoT-21 b\",\"CoRoT-22 b\",\"CoRoT-23 b\",\"CoRoT-24 b\",\"CoRoT-24 c\",\"CoRoT-25 b\",\"CoRoT-26 b\",\"CoRoT-27 b\",\"CoRoT-28 b\",\"CoRoT-29 b\",\"CoRoT-2 b\",\"CoRoT-30 b\",\"CoRoT-31 b\",\"CoRoT-3 b\",\"CoRoT-4 b\",\"CoRoT-5 b\",\"CoRoT-6 b\",\"CoRoT-7 b\",\"CoRoT-7 c\",\"CoRoT-8 b\",\"CoRoT-9 b\",\"CoRoTID 223977153 b\",\"DMPP-1 b\",\"DMPP-1 c\",\"DMPP-1 d\",\"DMPP-1 e\",\"DMPP-2 b\",\"DMPP-3 A b\",\"EPIC 201170410 b\",\"EPIC 201208431 b\",\"EPIC 201338508 c\",\"EPIC 201338508 b\",\"EPIC 201384232 b\",\"EPIC 201393098 b\",\"EPIC 201403446 b\",\"EPIC 201445392 b\",\"EPIC 201445392 c\",\"EPIC 201465501 b\",\"EPIC 201505350 c\",\"EPIC 201505350 b\",\"EPIC 201505350 d\",\"EPIC 201549860 b\",\"EPIC 201549860 c\",\"EPIC 201565013 b\",\"EPIC 201596316 b\",\"EPIC 201613023 b\",\"EPIC 201617985 b\",\"EPIC 201629650 b\",\"EPIC 201635569 b\",\"EPIC 201637175 b\",\"EPIC 201702477 b\",\"EPIC 201736247 b\",\"EPIC 201757695 b\",\"EPIC 201828749 b\",\"EPIC 201855371 b\",\"EPIC 201912552 b\",\"K2-18 c\",\"EPIC 203311200 b\",\"EPIC 203771098 b\",\"EPIC 203771098 c\",\"EPIC 203826436 b\",\"EPIC 203826436 c\",\"EPIC 203826436 d\",\"EPIC 204129699 b\",\"EPIC 204221263 b\",\"EPIC 204221263 c\",\"K2-33 b\",\"EPIC 206011691 b\",\"EPIC 206011691 c\",\"EPIC 206318379 b\",\"EPIC 211391664 b\",\"EPIC 211916756 b\",\"EPIC 211945201 b\",\"EPIC 212737443 b\",\"EPIC 212737443 c\",\"K2-99 b\",\"EPIC 216468514 b\",\"EPIC 218916923 b\",\"EPIC 220504338 b\",\"EPIC 220674823 b\",\"EPIC 220674823 c\",\"EPIC 228735255 b\",\"EPIC 228754001 b\",\"EPIC 22881391 b\",\"EPIC 246193072 b\",\"EPIC 246851721 b\",\"EPIC 248847494 b\",\"EPIC 249893012 b\",\"EPIC 249893012 c\",\"EPIC 249893012 d\",\"eps Coronae Borealis b\",\"eps Eridani b\",\"Epsilon Indi A b\",\"eps Tau b\",\"eta Cet b\",\"eta Cet c\",\"Fomalhaut b\",\"G 264-012 b\",\"G 264-012 c\",\"G 9-40 b\",\"Gaia-2 b\",\"Gamma Cephei b\",\"Gamma Leonis b\",\"gamma Libra b\",\"gamma Librai c\",\"GAT 1370 b\",\"GAT 1370 c\",\"GJ 1061 b\",\"GJ 1061 c\",\"GJ 1061 d\",\"GJ 1132 b\",\"GJ 1132 c\",\"GJ 1148 c\",\"GJ 1148 b\",\"GJ 1252 b\",\"GJ 1265 b\",\"GJ 143 b\",\"GJ 143 c\",\"GJ 251 b\",\"GJ 273 b\",\"GJ 273 c\",\"GJ 3138 b\",\"GJ 3138 c\",\"GJ 3138 d\",\"GJ 3323 b\",\"GJ 3323 c\",\"GJ 338 B b\",\"GJ 3473 b\",\"GJ 3473 c\",\"GJ 3512 b\",\"GJ 357 b\",\"GJ 357 c\",\"GJ 357 d\",\"GJ 3779 b\",\"GJ 3929 b\",\"GJ 3929 c\",\"GJ 393 b\",\"GJ 3942 b\",\"GJ 3998 b\",\"GJ 3998 c\",\"GJ 411 b\",\"GJ 411 c\",\"GJ 414 A b\",\"GJ 414 A c\",\"GJ 4276 b\",\"GJ 486 b\",\"GJ 536 b\",\"GJ 625 b\",\"GJ 685 b\",\"GJ 720 A b\",\"GJ 887 b\",\"GJ 887 c\",\"GJ 9689 b\",\"GJ 9827 b\",\"GJ 9827 c\",\"GJ 9827 d\",\"Gl 378 b\",\"Gl 514 b\",\"Gl 686 b\",\"Gliese 1214 b\",\"GJ 15 A b\",\"GJ 15 A c\",\"Gliese 176 b\",\"Gliese 179 b\",\"Gliese 3021 A b\",\"Gliese 3293 b\",\"Gliese 3293 d\",\"Gliese 3293 c\",\"Gliese 3341 b\",\"Gliese 3470 b\",\"Gliese 3634 b\",\"Gliese 436 b\",\"Gliese 49 b\",\"Gliese 581 b\",\"Gliese 581 c\",\"Gliese 581 d\",\"Gliese 581 e\",\"Gliese 581 f\",\"Gliese 581 g\",\"Gliese 667 C b\",\"Gliese 667 C h\",\"Gliese 667 C c\",\"Gliese 667 C f\",\"Gliese 667 C e\",\"Gliese 667 C d\",\"Gliese 667 C g\",\"Gliese 849 b\",\"Gliese 849 c\",\"Gliese 86 b\",\"Gliese 876 b\",\"Gliese 876 c\",\"Gliese 876 d\",\"Gliese 876 e\",\"HAT-P-11 b\",\"HAT-P-11 c\",\"HAT-P-12 b\",\"HAT-P-13 b\",\"HAT-P-13 c\",\"HAT-P-14 b\",\"HAT-P-15 b\",\"HAT-P-16 b\",\"HAT-P-17 b\",\"HAT-P-17 c\",\"HAT-P-18 b\",\"HAT-P-19 b\",\"HAT-P-1 b\",\"HAT-P-20 b\",\"HAT-P-21 b\",\"HAT-P-22 b\",\"HAT-P-23 b\",\"HAT-P-24 b\",\"HAT-P-25 b\",\"HAT-P-26 b\",\"HAT-P-27 b\",\"HAT-P-28 b\",\"HAT-P-29 b\",\"HAT-P-2 b\",\"HAT-P-30 b\",\"HAT-P-31 b\",\"HAT-P-32 b\",\"HAT-P-33 b\",\"HAT-P-34 b\",\"HAT-P-35 b\",\"HAT-P-36 b\",\"HAT-P-37 b\",\"HAT-P-38 b\",\"HAT-P-39 b\",\"HAT-P-3 b\",\"HAT-P-40 b\",\"HAT-P-41 b\",\"HAT-P-42 b\",\"HAT-P-43 b\",\"HAT-P-44 b\",\"HAT-P-44 c\",\"HAT-P-45 b\",\"HAT-P-46 b\",\"HAT-P-46 c\",\"HAT-P-47 b\",\"HAT-P-48 b\",\"HAT-P-49 b\",\"HAT-P-4 b\",\"HAT-P-50 b\",\"HAT-P-51 b\",\"HAT-P-52 b\",\"HAT-P-53 b\",\"HAT-P-54 b\",\"HAT-P-55 b\",\"HAT-P-56 b\",\"HAT-P-57 b\",\"HAT-P-58 b\",\"HAT-P-59 b\",\"HAT-P-5 b\",\"HAT-P-60 b\",\"HAT-P-61 b\",\"HAT-P-62 b\",\"HAT-P-63 b\",\"HAT-P-64 b\",\"HAT-P-65 b\",\"HAT-P-66 b\",\"HAT-P-67 b\",\"HAT-P-68 b\",\"HAT-P-69 b\",\"HAT-P-6 b\",\"HAT-P-70 b\",\"HAT-P-7 b\",\"HAT-P-8 b\",\"HAT-P-9 b\",\"HATS-10 b\",\"HATS-11 b\",\"HATS-12 b\",\"HATS-13 b\",\"HATS-14 b\",\"HATS-15 b\",\"HATS-16 b\",\"HATS-17 b\",\"HATS-18 b\",\"HATS-19 b\",\"HATS-1 b\",\"HATS-20 b\",\"HATS-21 b\",\"HATS-22 b\",\"HATS-23 b\",\"HATS-24 b\",\"HATS-25 b\",\"HATS-26 b\",\"HATS-27 b\",\"HATS-28 b\",\"HATS-29 b\",\"HATS-2 b\",\"HATS-30 b\",\"HATS-31 b\",\"HATS-32 b\",\"HATS-33 b\",\"HATS-34 b\",\"HATS-35 b\",\"HATS-36 b\",\"HATS-37 A b\",\"HATS-38 b\",\"HATS-39 b\",\"HATS-3 b\",\"HATS-40 b\",\"HATS-41 b\",\"HATS-42 b\",\"HATS-43 b\",\"HATS-44 b\",\"HATS-45 b\",\"HATS-46 b\",\"HATS-47 b\",\"HATS-48 A b\",\"HATS-49 b\",\"HATS-4 b\",\"HATS-50 b\",\"HATS-51 b\",\"HATS-52 b\",\"HATS-53 b\",\"HATS-54 b\",\"HATS-55 b\",\"HATS-56 b\",\"HATS-57 b\",\"HATS-58 A b\",\"HATS-59 b\",\"HATS-59 c\",\"HATS-5 b\",\"HATS-60 b\",\"HATS-61 b\",\"HATS-62 b\",\"HATS-63 b\",\"HATS-64 b\",\"HATS-65 b\",\"HATS-66 b\",\"HATS-67 b\",\"HATS-68 b\",\"HATS-69 b\",\"HATS-6 b\",\"HATS-70 b\",\"HATS-71 b\",\"HATS-72 b\",\"HATS-74A b\",\"HATS-75 b\",\"HATS-76 b\",\"HATS-77 b\",\"HATS-7 b\",\"HATS-8 b\",\"HATS-9 b\",\"HD 100655 b\",\"HD 10180 b\",\"HD 10180 c\",\"HD 10180 i\",\"HD 10180 d\",\"HD 10180 e\",\"HD 10180 j\",\"HD 10180 f\",\"HD 10180 g\",\"HD 10180 h\",\"HD 102117 b\",\"HD 102195 b\",\"HD 102272 b\",\"HD 102272 c\",\"HD 102329 b\",\"HD 102329 c\",\"HD 102956 b\",\"HD 103720 b\",\"HD 103891 b\",\"HD 104985 b\",\"HD 105779 b\",\"HD 106252 b\",\"HD 106270 b\",\"HD 106315 b\",\"HD 106315 c\",\"HD 10647 b\",\"HD 10697 b\",\"HD 107148 c\",\"HD 107148 b\",\"HD 108147 b\",\"HD 108236 b\",\"HD 108236 c\",\"HD 108236 d\",\"HD 108236 e\",\"HD 108236 f\",\"HD 108341 b\",\"HD 108863 b\",\"HD 108874 b\",\"HD 108874 c\",\"HD 109246 b\",\"HD 109286 b\",\"HD 110014 b\",\"HD 110014 c\",\"HD 110113 b\",\"HD 110113 c\",\"HD 111591 b\",\"HD 112640 b\",\"HD 113538 b\",\"HD 113538 c\",\"HD 113996 b\",\"HD 114386 b\",\"HD 114762 b\",\"HD 114783 b\",\"HD 114783 c\",\"HD 11506 b\",\"HD 11506 c\",\"HD 115594 b\",\"HD 116029 b\",\"HD 116029 c\",\"HD 117207 b\",\"HD 11755 b\",\"HD 117618 b\",\"HD 117618.02\",\"HD 11977 b\",\"HD 120084 b\",\"HD 122430 b\",\"HD 124330 b\",\"HD 125390 b\",\"HD 125612 b\",\"HD 125612 c\",\"HD 125612 d\",\"HD 12648 b\",\"HD 126614 A b\",\"HD 12661 b\",\"HD 12661 c\",\"HD 128356 b\",\"HD 130322 b\",\"HD 131496 b\",\"HD 131664 b\",\"HD 13167 b\",\"HD 13189 b\",\"HD 134987 b\",\"HD 134987 c\",\"HD 136418 b\",\"HD 13724 b\",\"HD 137388 b\",\"HD 13908 b\",\"HD 13908 c\",\"HD 13931 b\",\"HD 139357 b\",\"HD 1397 b\",\"HD 14067 b\",\"HD 141399 b\",\"HD 141399 c\",\"HD 141399 d\",\"HD 141399 e\",\"HD 141937 b\",\"HD 142022 A b\",\"HD 142245 b\",\"HD 142415 b\",\"HD 142 A b\",\"HD 142 A c\",\"HD 145377 b\",\"HD 145457 b\",\"HD 1461 b\",\"HD 1461 c\",\"HD 1461 d\",\"HD 1461 e\",\"HD 147379 b\",\"HD 147873 b\",\"HD 147873 c\",\"HD 14787 b\",\"HD 148156 b\",\"HD 148164 b\",\"HD 148164 c\",\"HD 148284 b\",\"HD 148427 b\",\"HD 149026 b\",\"HD 1502 b\",\"HD 150706 b\",\"HD 152581 b\",\"HD 152843 b\",\"HD 15337 b\",\"HD 15337 c\",\"HD 153950 b\",\"HD 154672 b\",\"HD 154857 b\",\"HD 154857 c\",\"HD 155193 b\",\"HD 155233 b\",\"HD 156411 b\",\"HD 156668 c\",\"HD 156668 b\",\"HD 156846 b\",\"HD 158038 b\",\"HD 158996 b\",\"HD 159243 b\",\"HD 159243 c\",\"HD 1605 b\",\"HD 1605 c\",\"HD 16141 A b\",\"HD 16175 b\",\"HD 162020 b\",\"HD 163607 b\",\"HD 163607 c\",\"HD 164509 b\",\"HD 164922 e\",\"HD 164922 c\",\"HD 164922 b\",\"HD 164922 d\",\"HD 165155 b\",\"HD 1666 b\",\"HD 167042 b\",\"HD 168443 b\",\"HD 168443 c\",\"HD 168746 b\",\"HD 1690 b\",\"HD 169830 b\",\"HD 169830 c\",\"HD 170469 b\",\"HD 171028 b\",\"HD 17156 b\",\"HD 173416 b\",\"HD 175370 b\",\"HD 175541 b\",\"HD 17674 b\",\"HD 176986 b\",\"HD 176986 c\",\"HD 178911 B b\",\"HD 179079 b\",\"HD 179949 b\",\"HD 180053 b\",\"HD 18015 b\",\"HD 180314 b\",\"HD 180617 b\",\"HD 180902 b\",\"HD 181234 b\",\"HD 181342 b\",\"HD 183263 b\",\"HD 183263 c\",\"HD 183579 b\",\"HD 185269 b\",\"HD 185603 b\",\"HD 187123 b\",\"HD 187123 c\",\"HD 18742 b\",\"HD 189733 A b\",\"HD 190007 b\",\"HD 190984 b\",\"HD 191939 b\",\"HD 191939 c\",\"HD 191939 d\",\"HD 192263 b\",\"HD 192699 b\",\"HD 196050 A b\",\"HD 196067 b\",\"HD 196885 A b\",\"HD 200964 b\",\"HD 200964 c\",\"HD 202206 b\",\"HD 202206 c\",\"HD 202696 b\",\"HD 202696 c\",\"HD 202772 A b\",\"HD 203473 b\",\"HD 20367 b\",\"HD 2039 b\",\"HD 204941 b\",\"HD 205739 b\",\"HD 206610 b\",\"HD 20782 b\",\"HD 207832 b\",\"HD 207832 c\",\"HD 207897 b\",\"HD 208487 b\",\"HD 208527 b\",\"HD 20868 b\",\"HD 208897 b\",\"HD 209458 b\",\"HD 210277 b\",\"HD 210702 b\",\"HD 211403 b\",\"HD 211810 b\",\"HD 212771 b\",\"HD 213885 b\",\"HD 213885 c\",\"HD 215152 b\",\"HD 215152 c\",\"HD 215152 d\",\"HD 215152 e\",\"HD 216435 b\",\"HD 216437 b\",\"HD 216520 b\",\"HD 216520 c\",\"HD 216536 b\",\"HD 216770 b\",\"HD 217107 b\",\"HD 217107 c\",\"HD 217786 b\",\"HD 217850 b\",\"HD 218566 b\",\"HD 219077 b\",\"HD 219134 b\",\"HD 219134 c\",\"HD 219134 f\",\"HD 219134 d\",\"HD 219134 g\",\"HD 219134 e\",\"HD 219134 h\",\"HD 219415 b\",\"HD 219666 b\",\"HD 219828 b\",\"HD 219828 c\",\"HD 220074 b\",\"HD 220197 b\",\"HD 220689 b\",\"HD 221416 b\",\"HD 222076 b\",\"HD 222155 b\",\"HD 224538 b\",\"HD 224693 b\",\"HD 22496 b\",\"HD 22532 b\",\"HD 23079 b\",\"HD 231701 b\",\"HD 233604 b\",\"HD 233832 b\",\"HD 23596 b\",\"HD 238090 b\",\"HD 238914 b\",\"HD 240237 b\",\"HD 24040 b\",\"HD 24040 c\",\"HD 24064 b\",\"HD 25015 b\",\"HD 25171 b\",\"HD 260655 b\",\"HD 260655 c\",\"HD 2685 b\",\"HD 27631 b\",\"HD 27969 b\",\"HD 28109 b\",\"HD 28109 c\",\"HD 28109 d\",\"HD 28185 b\",\"HD 28254 b\",\"HD 28678 b\",\"HD 29021 b\",\"HD 290327 b\",\"HD 29399 b\",\"HD 2952 b\",\"HD 30177 b\",\"HD 30177 c\",\"HD 30562 b\",\"HD 30669 b\",\"HD 30856 b\",\"HD 31253 b\",\"HD 3167 b\",\"HD 3167 c\",\"HD 3167 d\",\"HD 32518 b\",\"HD 331093 b\",\"HD 33142 b\",\"HD 33142 c\",\"HD 332231 b\",\"HD 33283 b\",\"HD 33564 b\",\"HD 33844 b\",\"HD 33844 c\",\"HD 34445 b\",\"HD 3651 b\",\"HD 3651.02\",\"HD 37124 b\",\"HD 37124 c\",\"HD 37124 d\",\"HD 38801 b\",\"HD 39091 b\",\"\\u03c0 Mensae c\",\"HD 40956 b\",\"HD 41248 b\",\"HD 41248 c\",\"HD 42012 b\",\"HD 4203 b\",\"HD 4203 c\",\"HD 4208 b\",\"HD 42618 b\",\"HD 4308 b\",\"HD 4313 b\",\"HD 43197 b\",\"HD 44219 b\",\"HD 45350 b\",\"HD 46375 A b\",\"HD 4732 b\",\"HD 4732 c\",\"HD 47366 b\",\"HD 47366 c\",\"HD 47536 b\",\"HD 4760 b\",\"HD 4917 b\",\"HD 49674 b\",\"HD 50499 b\",\"HD 50499 c\",\"HD 50554 b\",\"HD 52265 b\",\"HD 5278 b\",\"HD 5278 c\",\"HD 5319 b\",\"HD 5319 c\",\"HD 55696 b\",\"HD 5583 b\",\"HD 5608 b\",\"HD 564 b\",\"HD 5891 b\",\"HD 59686 b\",\"HD 60292 b\",\"HD 62509 b\",\"HD 63433 b\",\"HD 63433 c\",\"HD 64121 b\",\"HD 6434 b\",\"HD 66141 b\",\"HD 67087 b\",\"HD 67087 c\",\"HD 6718 b\",\"HD 68402 b\",\"HD 68988 b\",\"HD 68988 c\",\"HD 69123 b\",\"HD 69830 b\",\"HD 69830 c\",\"HD 69830 d\",\"HD 70642 b\",\"HD 7199 b\",\"HD 72490 b\",\"HD 72659 b\",\"HD 72892 b\",\"HD 73256 b\",\"HD 73267 b\",\"HD 73526 b\",\"HD 73526 c\",\"HD 73534 b\",\"HD 73583 b\",\"HD 73583 c\",\"HD 74156 b\",\"HD 74156 c\",\"HD 7449 b\",\"HD 7449 c\",\"HD 75784 b\",\"HD 75784 c\",\"HD 75898 b\",\"HD 76700 b\",\"HD 76920 b\",\"HD 77338 b\",\"HD 7924 b\",\"HD 7924 c\",\"HD 7924 d\",\"HD 80606 b\",\"HD 80869 b\",\"HD 81040 b\",\"HD 81688 b\",\"HD 81817 b\",\"HD 82886 b\",\"HD 82943 b\",\"HD 82943 c\",\"HD 83443 b\",\"HD 8535 b\",\"HD 8574 b\",\"HD 86081 b\",\"HD 86226 b\",\"HD 86226 c\",\"HD 86264 b\",\"HD 8673 b\",\"HD 86950 b\",\"HD 87646 b\",\"HD 87883 b\",\"HD 88133 b\",\"HD 89307 b\",\"HD 89345 b\",\"HD 9174 b\",\"HD 92788 b\",\"HD 92788 c\",\"HD 92987 b\",\"HD 9446 b\",\"HD 9446 c\",\"HD 94834 b\",\"HD 95089 b\",\"HD 95089 c\",\"HD 95127 b\",\"HD 95338 b\",\"HD 95544 b\",\"HD 96063 b\",\"HD 96127 b\",\"HD 96167 b\",\"HD 96992 b\",\"HD 97048 b\",\"HD 97658 b\",\"HD 98219 b\",\"HD 98649 b\",\"HD 98736 b\",\"HD 99706 b\",\"HD 99706 c\",\"HIP 107773 b\",\"HIP 114933 b\",\"HIP 11952 b\",\"HIP 11952 c\",\"HIP 13044 b\",\"HIP 14810 b\",\"HIP 14810 c\",\"HIP 14810 d\",\"HIP 41378 g\",\"HIP 56640 b\",\"HIP 57274 b\",\"HIP 57274 c\",\"HIP 57274 d\",\"HIP 65426 b\",\"HIP 65891 b\",\"HIP 65 A b\",\"HIP 67537 b\",\"HIP 67851 b\",\"HIP 67851 c\",\"HIP 74890 b\",\"HIP 75092 b\",\"iota Draconis b\",\"HIP 8541 b\",\"HIP 90988 b\",\"HIP 91258 b\",\"HIP 97166 b\",\"HIP 97166 c\",\"HIP 97233 b\",\"HR 5183 b\",\"HR 810 b\",\"HR 858 b\",\"HR 858 c\",\"HR 858 d\",\"HR 8799 b\",\"HR 8799 c\",\"HR 8799 d\",\"HR 8799 e\",\"K2-108 b\",\"K2-111 b\",\"K2-111 c\",\"K2-114 b\",\"K2-115 b\",\"K2-116 b\",\"K2-117 c\",\"K2-117 b\",\"K2-118 b\",\"K2-119 b\",\"K2-120 b\",\"K2-122 b\",\"K2-123 b\",\"K2-124 b\",\"K2-125 b\",\"K2-127 b\",\"K2-129 b\",\"K2-133 e\",\"K2-133 b\",\"K2-133 c\",\"K2-133 d\",\"K2-138 g\",\"K2-138 b\",\"K2-138 c\",\"K2-138 d\",\"K2-138 e\",\"K2-138 f\",\"K2-147 b\",\"K2-148 b\",\"K2-148 c\",\"K2-148 d\",\"K2-149 b\",\"K2-150 b\",\"K2-151 b\",\"K2-152 b\",\"K2-153 b\",\"K2-154 b\",\"K2-154 c\",\"K2-155 b\",\"K2-155 c\",\"K2-155 d\",\"K2-158 c\",\"K2-158 b\",\"K2-224 c\",\"K2-224 b\",\"K2-232 b\",\"K2-233 c\",\"K2-233 d\",\"K2-233 b\",\"K2-237 b\",\"K2-238 b\",\"K2-239 b\",\"K2-239 c\",\"K2-239 d\",\"K2-240 c\",\"K2-240 b\",\"K2-241 b\",\"K2-242 b\",\"K2-243 b\",\"K2-243 c\",\"K2-244 b\",\"K2-245 b\",\"K2-246 b\",\"K2-247 b\",\"K2-247 c\",\"K2-248 b\",\"K2-249 b\",\"K2-250 b\",\"K2-251 b\",\"K2-252 b\",\"K2-253 b\",\"K2-254 b\",\"K2-254 c\",\"K2-255 b\",\"K2-256 b\",\"K2-257 b\",\"K2-258 b\",\"K2-259 b\",\"K2-260 b\",\"K2-261 b\",\"K2-263 b\",\"K2-264 b\",\"K2-264 c\",\"K2-265 b\",\"K2-266 b\",\"K2-266 c\",\"K2-266 d\",\"K2-266 e\",\"K2-268 b\",\"K2-268 c\",\"K2-269 b\",\"K2-26 b\",\"K2-270 b\",\"K2-270 c\",\"K2-271 b\",\"K2-272 b\",\"K2-273 b\",\"K2-274 b\",\"K2-275 b\",\"K2-275 c\",\"K2-276 b\",\"K2-277 b\",\"K2-278 b\",\"K2-279 b\",\"K2-280 b\",\"K2-281 b\",\"K2-283 b\",\"K2-284 b\",\"K2-285 b\",\"K2-285 c\",\"K2-285 d\",\"K2-285 e\",\"K2-286 b\",\"K2-287 b\",\"K2-288 B b\",\"K2-289 b\",\"K2-290 b\",\"K2-290 c\",\"K2-291 b\",\"K2-292 b\",\"K2-295 b\",\"K2-30 b\",\"K2-316 b\",\"K2-316 c\",\"K2-317 b\",\"K2-318 b\",\"K2-319 b\",\"K2-320 b\",\"K2-321 b\",\"K2-322 b\",\"K2-323 b\",\"K2-324 b\",\"K2-325 b\",\"K2-326 b\",\"K2-34 b\",\"K2-355 b\",\"K2-356 b\",\"K2-357 b\",\"K2-358 b\",\"K2-36 b\",\"K2-36 c\",\"K2-39 b\",\"K2-42 b\",\"K2-45 b\",\"K2-47 b\",\"K2-48 b\",\"K2-49 b\",\"K2-52 b\",\"K2-53 b\",\"K2-54 b\",\"K2-55 b\",\"K2-57 b\",\"K2-59 b\",\"K2-59 c\",\"K2-60 b\",\"K2-63 b\",\"K2-63 c\",\"K2-64 b\",\"K2-66 b\",\"K2-69 b\",\"K2-71 b\",\"K2-72 b\",\"K2-72 c\",\"K2-72 d\",\"K2-72 e\",\"K2-81 b\",\"K2-83 b\",\"K2-83 c\",\"K2-84 b\",\"K2-84 c\",\"K2-87 b\",\"K2-88 b\",\"K2-89 b\",\"K2-90 b\",\"K2-90 c\",\"K2-91 b\",\"kappa CrB b\",\"Kapteyn b\",\"Kapteyn c\",\"KELT-10 b\",\"KELT-11 b\",\"KELT-12 b\",\"KELT-15 b\",\"KELT-16 b\",\"KELT-17 b\",\"KELT-18 b\",\"KELT-19 A b\",\"KELT-21 b\",\"KELT-23 A b\",\"KELT-24 b\",\"KELT-2A b\",\"KELT-3 b\",\"KELT-6 b\",\"KELT-6 c\",\"KELT-7 b\",\"KELT-8 b\",\"Kepler-100 c\",\"Kepler-100 b\",\"Kepler-100 d\",\"Kepler-101 b\",\"Kepler-101 c\",\"Kepler-103 b\",\"Kepler-103 c\",\"Kepler-107 e\",\"Kepler-107 c\",\"Kepler-107 b\",\"Kepler-107 d\",\"Kepler-109 b\",\"Kepler-109 c\",\"Kepler-10 b\",\"Kepler-10 c\",\"Kepler-117 c\",\"Kepler-117 b\",\"Kepler-11 b\",\"Kepler-11 c\",\"Kepler-11 d\",\"Kepler-11 e\",\"Kepler-11 f\",\"Kepler-11 g\",\"Kepler-126 b\",\"Kepler-126 d\",\"Kepler-126 c\",\"Kepler-127 d\",\"Kepler-127 c\",\"Kepler-127 b\",\"Kepler-129 b\",\"Kepler-129 d\",\"Kepler-129 c\",\"Kepler-12 b\",\"Kepler-130 c\",\"Kepler-130 b\",\"Kepler-130 d\",\"Kepler-13 A b\",\"Kepler-1514 b\",\"Kepler-1514 c\",\"Kepler-15 b\",\"Kepler-160 b\",\"Kepler-160 c\",\"Kepler-160 d\",\"Kepler-1652 b\",\"Kepler-1653 b\",\"Kepler-1654 b\",\"Kepler-1655 b\",\"Kepler-1656 b\",\"Kepler-1658 b\",\"Kepler-1661 b\",\"Kepler-167 b\",\"Kepler-167 c\",\"Kepler-167 d\",\"Kepler-167 e\",\"Kepler-1704 b\",\"Kepler-1705 b\",\"Kepler-1705 c\",\"Kepler-1708 b\",\"Kepler-1708 b-i\",\"Kepler-17 b\",\"Kepler-186 c\",\"Kepler-186 d\",\"Kepler-186 b\",\"Kepler-186 e\",\"Kepler-186 f\",\"Kepler-18 b\",\"Kepler-18 c\",\"Kepler-18 d\",\"Kepler-197 c\",\"Kepler-197 d\",\"Kepler-197 b\",\"Kepler-197 e\",\"Kepler-20 b\",\"Kepler-20 c\",\"Kepler-20 d\",\"Kepler-20 e\",\"Kepler-20 f\",\"Kepler-210 c\",\"Kepler-210 b\",\"Kepler-21 b\",\"Kepler-22 b\",\"Kepler-25 b\",\"Kepler-25 c\",\"Kepler-278 b\",\"Kepler-278 c\",\"Kepler-27 b\",\"Kepler-27 c\",\"Kepler-289 b\",\"PH3 c\",\"Kepler-289 c\",\"Kepler-28 b\",\"Kepler-28 c\",\"Kepler-296 c\",\"Kepler-296 d\",\"Kepler-296 b\",\"Kepler-296 f\",\"Kepler-296 e\",\"Kepler-305 d\",\"KOI-1576.03\",\"Kepler-324 b\",\"Kepler-324 d\",\"Kepler-324 c\",\"Kepler-338 b\",\"Kepler-338 c\",\"Kepler-338 e\",\"Kepler-33 b\",\"Kepler-33 c\",\"Kepler-33 d\",\"Kepler-33 e\",\"Kepler-33 f\",\"Kepler-36 b\",\"Kepler-36 c\",\"Kepler-37 b\",\"Kepler-37 c\",\"Kepler-37 d\",\"Kepler-37 e\",\"Kepler-385 b\",\"Kepler-385 c\",\"Kepler-410 A b\",\"Kepler-412 b\",\"Kepler-41 b\",\"Kepler-421 b\",\"Kepler-422 b\",\"Kepler-424 b\",\"Kepler-424 c\",\"Kepler-430 b\",\"Kepler-430 c\",\"Kepler-431 b\",\"Kepler-431 c\",\"Kepler-431 d\",\"Kepler-434 b\",\"Kepler-436 b\",\"Kepler-437 b\",\"Kepler-438 b\",\"Kepler-439 b\",\"Kepler-440 b\",\"Kepler-441 b\",\"Kepler-442 b\",\"Kepler-443 b\",\"Kepler-444 b\",\"Kepler-444 c\",\"Kepler-444 d\",\"Kepler-444 e\",\"Kepler-444 f\",\"Kepler-445 b\",\"Kepler-445 c\",\"Kepler-445 d\",\"Kepler-446 b\",\"Kepler-446 c\",\"Kepler-446 d\",\"Kepler-447 b\",\"Kepler-449 b\",\"Kepler-449 c\",\"Kepler-44 b\",\"Kepler-452 b\",\"Kepler-454 b\",\"Kepler-454 c\",\"Kepler-45 b\",\"Kepler-46 b\",\"Kepler-46 c\",\"Kepler-46 d\",\"Kepler-4 b\",\"Kepler-503 b\",\"Kepler-50 b\",\"Kepler-50 c\",\"Kepler-51 b\",\"Kepler-51 c\",\"Kepler-51 d\",\"Kepler-538 b\",\"Kepler-56 b\",\"Kepler-56 c\",\"Kepler-56 d\",\"Kepler-5 b\",\"Kepler-60 b\",\"Kepler-60 c\",\"Kepler-60 d\",\"Kepler-62 b\",\"Kepler-62 c\",\"Kepler-62 d\",\"Kepler-62 e\",\"Kepler-62 f\",\"Kepler-63 b\",\"Kepler-65 b\",\"Kepler-65 c\",\"Kepler-65 d\",\"Kepler-66 b\",\"Kepler-67 b\",\"Kepler-68 b\",\"Kepler-68 c\",\"Kepler-68 d\",\"Kepler-69 b\",\"Kepler-69 c\",\"Kepler-6 b\",\"Kepler-71 b\",\"Kepler-730 b\",\"Kepler-730 c\",\"Kepler-74 b\",\"Kepler-75 b\",\"Kepler-77 b\",\"Kepler-7 b\",\"Kepler-80 b\",\"Kepler-80 c\",\"Kepler-80 d\",\"Kepler-80 e\",\"Kepler-80 f\",\"Kepler-87 b\",\"Kepler-87 c\",\"Kepler-89 b\",\"Kepler-89 c\",\"Kepler-89 d\",\"Kepler-89 e\",\"Kepler-8 b\",\"Kepler-90 h\",\"Kepler-90 g\",\"Kepler-90 f\",\"Kepler-90 e\",\"Kepler-90 d\",\"Kepler-90 c\",\"Kepler-90 b\",\"Kepler-91 b\",\"Kepler-91 b Trojan\",\"Kepler-93 b\",\"Kepler-968 c\",\"Kepler-968 b\",\"Kepler-968 d\",\"Kepler-9 b\",\"Kepler-9 c\",\"Kepler-9 d\",\"KIC 10001893 b\",\"KIC 10001893 c\",\"KIC 10001893 d\",\"KIC 6185331 b\",\"KOI-1194 b\",\"KOI-1194 c\",\"KOI-1194.02\",\"KOI-1257 b\",\"KOI-1299 b\",\"KOI-135 b\",\"KOI-142 b\",\"KOI-142 c\",\"KOI-1474 b\",\"Kepler-419 c\",\"KOI-183 b\",\"KOI-1843.03\",\"Kepler-974 b\",\"KOI-1843.02\",\"KOI-188 b\",\"Kepler-1004 b\",\"KOI-192 b\",\"KOI-195 b\",\"KOI-206 b\",\"KOI-2113 b\",\"KOI-2113 c\",\"KOI-2672.01\",\"KOI-2672.02\",\"KOI-285 b\",\"KOI-285 c\",\"KOI-285 d\",\"KOI-314 b\",\"KOI-314 c\",\"Kepler-138 b\",\"KOI-341 b\",\"KOI-341 c\",\"KOI-3503 b\",\"KOI-3503 c\",\"KOI-368.01\",\"KOI-370.02\",\"KOI-370.01\",\"KOI-372 b\",\"KOI-423 b\",\"KOI-4427.01\",\"KOI-4878 b\",\"KOI-55 b\",\"KOI-55 c\",\"KOI-680 b\",\"KOI-806.03\",\"KOI-806.02\",\"KOI-806.01\",\"KOI-830 b\",\"KOI-984 b\",\"KPS-1 b\",\"L 168-9 b\",\"L 98-59 b\",\"L 98-59 c\",\"L 98-59 d\",\"L 98-59 e\",\"LHS 1140 b\",\"LHS 1140 c\",\"LHS 1478 b\",\"LHS 1678 b\",\"LHS 1678 c\",\"LHS 1815 b\",\"LHS 3844 b\",\"LP 714-47 b\",\"LP 791-18 b\",\"LP 791-18 c\",\"LSPM J2116+0234 b\",\"LTT 1445 A b\",\"LTT 1445 A c\",\"LTT 3780 b\",\"LTT 3780 c\",\"LTT 9779 b\",\"Lupus-TR 3b\",\"MASCARA-1 b\",\"MASCARA-4 b\",\"MASCARA-5 b\",\"mu2 Sco b\",\"mu Arae b\",\"mu Arae c\",\"mu Arae d\",\"mu Arae e\",\"mu Leo b\",\"NGTS-10 b\",\"NGTS-11 b\",\"NGTS-12 b\",\"NGTS-13 b\",\"NGTS-14 A b\",\"NGTS-15 b\",\"NGTS-16 b\",\"NGTS-17 b\",\"NGTS-18 b\",\"NGTS-1 b\",\"NGTS-2 b\",\"NGTS-4 b\",\"NGTS-5 b\",\"NGTS-6 b\",\"NGTS-8 b\",\"NGTS-9 b\",\"Nu Oct A b\",\"nu Oph b\",\"nu Oph c\",\"OGLE2-TR-L9 b\",\"OGLE-TR-10 b\",\"OGLE-TR-111 b\",\"OGLE-TR-113 b\",\"OGLE-TR-132 b\",\"OGLE-TR-182 b\",\"OGLE-TR-211 b\",\"OGLE-TR-56 b\",\"Omega Serpentis b\",\"omi CrB b\",\"omi UMa b\",\"PH-2 b\",\"POTS-1 b\",\"Pr0211 b\",\"Pr0211 c\",\"PTFO 8-8695 b\",\"Qatar-10 b\",\"Qatar-1 b\",\"Qatar-2 b\",\"Qatar-3 b\",\"Qatar-4 b\",\"Qatar-5 b\",\"Qatar-6 b\",\"Qatar-7 b\",\"Qatar-8 b\",\"Qatar-9 b\",\"Rho Coronae Borealis b\",\"Rho Coronae Borealis c\",\"Ross 128 b\",\"Ross 508 b\",\"Mercury\",\"Venus\",\"Earth\",\"Mars\",\"Jupiter\",\"Saturn\",\"Uranus\",\"Neptune\",\"Pluto\",\"tau Boo A b\",\"tau Ceti b\",\"tau Ceti c\",\"tau Ceti d\",\"tau Ceti e\",\"tau Ceti f\",\"tau Ceti h\",\"tau Gem b\",\"TIC 237913194 b\",\"TOI-1062 b\",\"TOI-1064 b\",\"TOI-1064 c\",\"TOI-1075 b\",\"TOI-1098 b\",\"TOI-1107 b\",\"TOI-1130 b\",\"TOI-1130 c\",\"TOI-1201 b\",\"TOI-1227 b\",\"TOI-122 b\",\"TOI-1231 b\",\"TOI-1235 b\",\"TOI-1238 b\",\"TOI-1238 c\",\"TOI-1259 A b\",\"TOI-125 b\",\"TOI-125 c\",\"TOI-125 d\",\"TOI-1260 b\",\"TOI-1260 c\",\"TOI-1266 b\",\"TOI-1266 c\",\"TOI-1268 b\",\"TOI-1296 b\",\"TOI-1298 b\",\"TOI-132 b\",\"TOI-1333 b\",\"TOI-1411 b\",\"TOI-1442 b\",\"TOI-1478 b\",\"TOI-150 b\",\"TOI-1518 b\",\"TOI-157 b\",\"TOI-1601 b\",\"TOI-1634 b\",\"TOI-163 b\",\"TOI-1670 b\",\"TOI-1670 c\",\"TOI-1693 b\",\"TOI-1696 b\",\"TOI-169 b\",\"TOI-1710 b\",\"TOI-1728 b\",\"TOI-172 b\",\"TOI-1749 b\",\"TOI-1749 c\",\"TOI-1749 d\",\"TOI-1759 b\",\"TOI-1789 b\",\"TOI-178 b\",\"TOI-178 c\",\"TOI-178 d\",\"TOI-178 e\",\"TOI-178 f\",\"TOI-178 g\",\"TOI-1807 b\",\"TOI-1811 b\",\"TOI-1820 b\",\"TOI-1842 b\",\"TOI-1860 b\",\"TOI-1899 b\",\"TOI-201 b\",\"TOI-2025 b\",\"TOI-206 b\",\"TOI-2076 b\",\"TOI-2076 c\",\"TOI-2076 d\",\"TOI-2136 b\",\"TOI-2145 b\",\"TOI-2152 b\",\"TOI-2154 b\",\"TOI-2158 b\",\"TOI-216 b\",\"TOI-216 c\",\"TOI-2180 b\",\"TOI-2193 b\",\"TOI-2202 b\",\"TOI-2202 c\",\"TOI-2207 b\",\"TOI-220 b\",\"TOI-2236 b\",\"TOI-2257 b\",\"TOI-2260 b\",\"TOI-2285 b\",\"TOI-237 b\",\"TOI-2406 b\",\"TOI-2411 b\",\"TOI-2421 b\",\"TOI-2427 b\",\"TOI-2445 b\",\"TOI-2497 b\",\"TOI-251 b\",\"TOI-2567 b\",\"TOI-257 b\",\"TOI-269 b\",\"TOI-270 b\",\"TOI-270 c\",\"TOI-270 d\",\"TOI-3362 b\",\"TOI-3540 b\",\"TOI-3629 b\",\"TOI-3693 b\",\"TOI-3714 b\",\"TOI-3757 b\",\"TOI-4137 b\",\"TOI-421 b\",\"TOI-421 c\",\"TOI-431 b\",\"TOI-431 c\",\"TOI-431 d\",\"TOI-451 b\",\"TOI-451 c\",\"TOI-451 d\",\"TOI-481 b\",\"TOI-500 b\",\"TOI-519 b\",\"TOI-530 b\",\"TOI-532 b\",\"TOI-540 b\",\"TOI-544 b\",\"TOI-561 b\",\"TOI-561 c\",\"TOI-561 d\",\"TOI-561 e\",\"TOI-561 f\",\"TOI-564 b\",\"TOI-620 b\",\"TOI-628 b\",\"TOI-640 b\",\"TOI-674 b\",\"TOI-677 b\",\"TOI-700 b\",\"TOI-700 c\",\"TOI-700 d\",\"TOI-712 b\",\"TOI-712 c\",\"TOI-712 d\",\"TOI-763 b\",\"TOI-763 c\",\"TOI-776 b\",\"TOI-776 c\",\"TOI-813 b\",\"TOI-824 b\",\"TOI-833 b\",\"TOI-849 b\",\"TOI-892 b\",\"TOI-905 b\",\"TOI-942 b\",\"TOI-942 c\",\"TOI-954 b\",\"TRAPPIST-1 b\",\"TRAPPIST-1 c\",\"TRAPPIST-1 d\",\"TRAPPIST-1 e\",\"TRAPPIST-1 f\",\"TRAPPIST-1 g\",\"TRAPPIST-1 h\",\"TrES-1 b\",\"TrES-2\",\"TrES-3 b\",\"TrES-4 A b\",\"TrES-5 b\",\"TYC 0434-04538-1 b\",\"TYC 1422-614-1 b\",\"TYC 1422-614-1 c\",\"TYC 2187-512-1 b\",\"TYC 3318-01333-1 b\",\"TYC 3667-1280-1 b\",\"TYC 4282-00605-1 b\",\"Upsilon Andromedae A b\",\"Upsilon Andromedae A c\",\"Upsilon Andromedae A d\",\"Upsilon Andromedae A e\",\"V391 Peg b\",\"V830 Tau b\",\"WASP-100 b\",\"WASP-101 b\",\"WASP-102 b\",\"WASP-103 b\",\"WASP-104 b\",\"WASP-105 b\",\"WASP-106 b\",\"WASP-108 b\",\"WASP-109 b\",\"WASP-10 b\",\"WASP-110 b\",\"WASP-111 b\",\"WASP-112 b\",\"WASP-113 b\",\"WASP-114 b\",\"WASP-117 b\",\"WASP-118 b\",\"WASP-11 b\",\"WASP-120 b\",\"WASP-121 b\",\"WASP-122 b\",\"WASP-123 b\",\"WASP-127 b\",\"WASP-12 b\",\"WASP-130 b\",\"WASP-131 b\",\"WASP-132 b\",\"WASP-135 b\",\"WASP-136 b\",\"WASP-138 b\",\"WASP-139 b\",\"WASP-13 b\",\"WASP-140 b\",\"WASP-141 b\",\"WASP-142 b\",\"WASP-144 b\",\"WASP-145 A b\",\"WASP-147 b\",\"WASP-148 b\",\"WASP-148 c\",\"WASP-14 b\",\"WASP-150 b\",\"WASP-151 b\",\"WASP-153 b\",\"WASP-156 b\",\"WASP-158 b\",\"WASP-159 b\",\"WASP-15 b\",\"WASP-160 B b\",\"WASP-161 b\",\"WASP-162 b\",\"WASP-163 b\",\"WASP-164 b\",\"WASP-165 b\",\"WASP-166 b\",\"WASP-167 b\",\"WASP-168 b\",\"WASP-169 b\",\"WASP-16 b\",\"WASP-170 b\",\"WASP-171 b\",\"WASP-172 b\",\"WASP-173 A b\",\"WASP-174 b\",\"WASP-175 b\",\"WASP-176 b\",\"WASP-177 b\",\"WASP-178 b\",\"WASP-17 b\",\"WASP-181 b\",\"WASP-182 b\",\"WASP-183 b\",\"WASP-184 b\",\"WASP-185 b\",\"WASP-186 b\",\"WASP-187 b\",\"WASP-189 b\",\"WASP-18 b\",\"WASP-18 c\",\"WASP-190 b\",\"WASP-192 b\",\"WASP-19 b\",\"WASP-1 b\",\"WASP-20 b\",\"WASP-21 b\",\"WASP-22 b\",\"WASP-23 b\",\"WASP-24 b\",\"WASP-25 b\",\"WASP-26 b\",\"WASP-28 b\",\"WASP-29 b\",\"WASP-2 b\",\"WASP-31 b\",\"WASP-32 b\",\"WASP-33 b\",\"WASP-34 b\",\"WASP-34 c\",\"WASP-35 b\",\"WASP-36 b\",\"WASP-37 b\",\"WASP-38 b\",\"WASP-39 b\",\"WASP-3 b\",\"WASP-41 b\",\"WASP-41 c\",\"WASP-42 b\",\"WASP-43 b\",\"WASP-44 b\",\"WASP-45 b\",\"WASP-46 b\",\"WASP-47 b\",\"WASP-47 e\",\"WASP-47 d\",\"WASP-47 c\",\"WASP-48 b\",\"WASP-49 b\",\"WASP-4 b\",\"WASP-50 b\",\"WASP-53 b\",\"WASP-53 c\",\"WASP-54 b\",\"WASP-55 b\",\"WASP-56 b\",\"WASP-57 b\",\"WASP-58 b\",\"WASP-59 b\",\"WASP-5 b\",\"WASP-60 b\",\"WASP-61 b\",\"WASP-62 b\",\"WASP-63 b\",\"WASP-64 b\",\"WASP-65 b\",\"WASP-66 b\",\"WASP-67 b\",\"WASP-68 b\",\"WASP-69 b\",\"WASP-6 b\",\"WASP-70 A b\",\"WASP-71 b\",\"WASP-72 b\",\"WASP-73 b\",\"WASP-74 b\",\"WASP-75 b\",\"WASP-76 b\",\"WASP-77 A b\",\"WASP-78 b\",\"WASP-79 b\",\"WASP-7 b\",\"WASP-80 b\",\"WASP-81 b\",\"WASP-81 c\",\"WASP-82 b\",\"WASP-83 b\",\"WASP-84 b\",\"WASP-85 A b\",\"WASP-87 b\",\"WASP-88 b\",\"WASP-89 b\",\"WASP-8 b\",\"WASP-8 c\",\"WASP-90 b\",\"WASP-91 b\",\"WASP-92 b\",\"WASP-93 b\",\"WASP-94 A b\",\"WASP-94 B b\",\"WASP-95 b\",\"WASP-96 b\",\"WASP-97 b\",\"WASP-98 b\",\"WASP-99 b\",\"WD 1856+534 b\",\"Wendelstein-1 b\",\"Wendelstein-2 b\",\"Wolf 1061 b\",\"Wolf 1061 c\",\"Wolf 1061 d\",\"Wolf 503 b\",\"WTS-1 b\",\"WTS-2 b\",\"xi Aql b\",\"XO-1 b\",\"XO-2S b\",\"XO-2S c\",\"XO-2N b\",\"XO-3 b\",\"XO-4 b\",\"XO-5 b\",\"XO-6 b\",\"XO-7 b\",\"YSES 2 b\",\"YZ Cet b\",\"YZ Cet c\",\"YZ Cet d\"],\"semi_major\":[1.29,1.54,0.83,2.864,9.037,1.72,2.6,0.19,1.333,2.08,118.0,2.897,3.53,4.48,0.0678,1.01,1.82,1.19,2.1,3.6,11.6,0.87,0.052,0.1134,0.2373,5.957,0.01544,0.7708,0.050201,0.2175,0.476,2.18,0.481,2.1,1.758,2.153,2.5,0.123,5.4,0.49,0.7,1.2,1.46,0.04857,0.02885,0.04,0.066,2.47,1.3,0.0427,2.36,0.3,0.576,0.539,1.34,1.3,0.241,0.83,1.0,1.7,4.2,0.78,1662.0,2.06,1.7,1.4,200.0,6471.0,0.1055,0.04351,0.04016,0.051,0.027,0.0618,0.0461,0.0295,0.0518,0.0254,0.09,2.9,0.0417,0.092,0.0477,0.056,0.098,0.0578,0.0526,0.0476,0.059,0.0357,0.0281,0.0844,0.0586,0.057,0.09,0.04947,0.0855,0.0172,0.046,0.063,0.407,0.071,0.1462,0.0733,0.0422,0.0651,0.0664,0.0662,0.0349,0.0777,0.0818,0.0532,0.1898,0.1814,0.1408,0.0856,0.0532,0.091,0.0971,0.074,0.0344,0.055,0.031,0.0669,0.2257,0.0802,0.0586,0.2114,0.0627,0.0088,0.2205,0.091,0.0296,0.1875,0.119,0.143,0.06,1.25,0.1542,0.2471,0.0511,0.0654,0.1103,0.022,0.0506,0.0964,0.0409,0.0731,0.1026,0.0216,0.0943,0.0653,0.1493,0.098,0.28,0.159,0.048,0.1811,0.0575,0.011,0.064,0.0591,0.0916,0.0058,0.1016,0.07229,4.5,0.047,0.13,0.22,1.3,3.51,12.82,1.93,1.27,1.93,177.0,0.02279,0.0525,0.0385,0.0467,1.94,1.19,1.24,2.17,0.0252,0.0443,0.021,0.035,0.054,0.0153,0.0476,0.912,0.166,0.00916,0.026,0.1915,0.0695,0.0818,0.091101,0.036467,0.057,0.0197,0.698,0.03282,0.1264,0.141,0.01589,0.0876,0.338,0.035,0.061,0.204,0.026,0.02569,0.078,0.05402,0.0608,0.029,0.089,0.0789,3.1,0.2324,1.4,0.082,0.01734,0.06661,0.078361,0.1344,0.119,0.068,0.12,0.1139,0.0188,0.03925,0.05591,0.039435,5.2,0.0917,0.01411,0.072,5.4,0.066,2.41,0.49,0.1434,0.3644,0.1939,0.089,0.031,0.0287,0.0286,0.0905,0.04061,0.0721,0.22,0.02815,0.758,0.146,0.0505,0.0893,0.125,0.156,0.213,0.276,0.549,2.39,4.82,0.113,0.218589,0.135985,0.0218393,0.3343,0.05254,4.13,0.0384,0.0426,1.186,0.0594,0.0964,0.0413,0.0882,2.75,0.0559,0.0466,0.05535,0.0361,0.0494,0.0414,0.0232,0.0465,0.0466,0.0479,0.04,0.0434,0.0667,0.0674,0.0419,0.055,0.0344,0.0503,0.0677,0.0498,0.0241,0.0378,0.0523,0.0509,0.03866,0.0608,0.0426,0.0575,0.0443,0.0507,0.699,0.0452,0.0577,0.383,0.0615,0.0543,0.0438,0.0446,0.0453,0.05069,0.03694,0.03159,0.04117,0.04604,0.0423,0.0406,0.04994,0.05064,0.04079,0.06277,0.0301,0.03772,0.04294,0.05387,0.03951,0.04363,0.06505,0.02996,0.06555,0.05235,0.04739,0.0379,0.0439,0.05287,0.04491,0.04614,0.04795,0.04057,0.03815,0.02712,0.03744,0.1308,0.0174,0.0589,0.0444,0.04619,0.04676,0.05025,0.03397,0.0238,0.05163,0.04735,0.0611,0.04131,0.05475,0.023,0.04354,0.0478,0.04024,0.03727,0.03166,0.03199,0.0529,0.04913,0.05036,0.06007,0.0497,0.04997,0.0583,0.03689,0.04944,0.03649,0.05511,0.05367,0.04269,0.03769,0.04515,0.0362,0.05046,0.04639,0.02498,0.04753,0.03763,0.05412,0.06043,0.03493,0.05798,0.06112,2.504,0.0542,0.04708,0.07908,0.04163,0.04026,0.06562,0.04497,0.04714,0.03032,0.05071,0.03211,0.03623,0.03632,0.03946,0.066517,0.02384,0.032742,0.02658,0.03607,0.04012,0.04667,0.03048,0.76,0.0222,0.06412,0.0904,0.12859,0.2699,0.33,0.4929,1.427,3.381,0.1532,0.049,0.614,1.57,2.03,2.31,0.081,0.0498,3.27,0.95,3.38,2.7,3.27,0.0907,0.1536,2.015,2.16,0.1407,0.269,0.102,0.04527,0.062,0.1074,0.1367,0.1758,2.0,1.4,1.051,2.68,0.33,1.259,2.31,0.64,0.035,0.068,2.5,1.7,1.24,2.44,1.6,1.65,0.353,1.16,4.92,2.708,0.721,5.0,1.78,2.02,3.77,1.08,0.176,0.93,1.89,4.3,1.02,0.86,3.16,1.37,0.05,4.2,0.54,2.35,0.83,2.56,0.87,0.088,2.09,3.17,4.1,1.85,0.81,5.8,1.32,12.4,0.89,0.154,2.03,5.34,2.36,0.1097,3.4,0.415,0.689,2.09,5.0,1.52,3.03,2.77,1.05,1.02,6.8,0.45,0.76,0.0634,0.1117,1.151,5.78,0.3193,0.522,1.36,1.7,2.45,0.993,6.15,0.974,0.93,0.04288,1.31,6.7,1.48,0.1053,0.0522,0.1268,1.28,0.6,1.291,5.36,1.04,2.07,1.88,1.57,0.05,1.096,1.48,2.1,0.11,0.8,1.48,3.52,0.35,2.148,0.074,0.36,2.42,0.875,0.2292,0.341,2.16,0.103,1.13,0.94,1.32,0.2931,2.8373,0.065,1.3,0.81,3.29,2.24,1.32,0.1623,1.16,0.98,1.03,1.42,0.06296,0.11878,0.32,0.11,0.045,0.843,3.87,1.4,0.3357,1.39,7.52,1.78,1.486,5.98,0.1334,0.077,0.0542,0.04213,4.46,1.92,0.03142,0.092,5.5,0.0814,0.1762,0.215,0.15312,1.32,2.47,5.02,2.6,1.601,1.95,0.83,2.55,1.566,2.342,0.05208,2.73,1.25,2.2,2.56,0.896,1.68,1.397,0.57,2.112,0.1164,0.51,2.1,0.947,1.05,0.04747,1.1,1.2,0.768,2.656,1.22,0.02012,0.056798,0.057638,0.067393,0.08799,0.15417,2.56,2.32,0.198,0.528,0.609,0.46,0.07505,6.06,2.38,4.56,0.6873,6.22,0.03876,0.0653,0.1463,0.237,0.3753,2.56,3.064,3.2,0.06356,0.045,5.96,1.6,2.729,3.36,0.1228,1.83,5.1,2.28,0.233,0.051,1.9,1.5,0.53,0.747,2.827,2.88,0.0932,5.7,1.9,4.92,1.3,1.29,6.19,3.02,0.02933,0.04749,0.0568,3.25,1.552,0.1357,0.308,0.411,1.03,2.15,1.24,2.28,3.43,1.913,1.2,3.704,9.89,2.315,2.69,2.0,1.26,0.0186,0.1841,0.07757,0.59,1.44,1.06,2.04,0.1436,0.168,1.1,1.59,2.25,2.075,0.284,0.186,0.53364,1.71,2.807,1.623,3.1,0.06839,1.4,0.137,0.172,1.67,1.1735,7.5,1.7,0.554,0.118,1.19,0.92,1.19,1.92,0.041,1.19,4.6,1.28,1.97,1.12,1.14,1.167,0.058,3.833,9.02,2.41,0.5,0.12,0.2416,1.6697,2.071,3.18,0.53,1.9,1.2,0.76,1.086,1.5,1.69,0.0719,0.1458,1.51,0.148,1.2,1.08,3.86,3.56,2.18,0.07,13.2,2.48,0.0785,0.186,0.63,3.3,1.36,1.88,4.62,0.228,0.037,2.198,0.65,1.03,2.95,0.0601,0.1236,0.2916,3.83,2.33,4.96,1.032,8.4,1.19,0.049,1.149,0.0611,0.05664,0.1134,0.1551,0.463,2.878,1.94,0.81,3.3,1.65,1.1866,0.7423,0.0406,2.45,0.77,0.039,2.73,0.049,2.86,3.02,2.72,0.117,3.6,0.047,3.34,0.1066,2.2,0.97,10.5,9.62,0.189,0.654,2.74,1.51,3.3,1.28,0.262,3.386,0.99,1.4,1.3,1.24,130.0,0.08,1.23,5.6,1.864,2.14,2.76,0.72,2.84,0.81,0.07,0.116,0.0692,0.545,1.89,0.3227,3.73,0.07,0.178,1.01,92.0,2.81,0.01782,4.96,0.46,3.82,2.1,2.02,1.275,2.8,1.26,0.057,0.089,0.124,2.55,18.0,0.925,0.048,0.0674,0.1027,67.96,42.81,26.97,16.99,0.0573,0.057,0.1166,0.0954,0.143,0.048,0.0492,0.0189,0.245,0.0698,0.078,0.0285,0.1649,0.049,0.121,0.0411,0.057,0.1346,0.03194,0.04341,0.07487,0.2287,0.0338,0.0442,0.0575,0.0792,0.1064,0.0159,0.0454,0.0616,0.0774,0.083,0.0727,0.0373,0.1716,0.0614,0.0405,0.0677,0.0562,0.0946,0.1937,0.0622,0.0887,0.0886,0.0516,0.10356,0.06687,0.1527,0.03317,0.0353,0.046,0.0441,0.0576,0.0685,0.1159,0.0513,0.1567,0.0494,0.1087,0.1817,0.1418,0.0959,0.0602,0.0304,0.0615,0.0699,0.1151,0.0459,0.0694,0.1041,0.0506,0.0448,0.0923,0.0274,0.0578,0.0216,0.149,0.1271,0.0404,0.102,0.2573,0.05023,0.11283,0.03376,0.01306,0.0679,0.1035,0.1249,0.0308,0.0819,0.0531,0.0962,0.0247,0.0497,0.077,0.1081,0.0974,0.1064,0.04,0.075,0.1291,0.0675,0.0488,0.067,0.1488,0.0773,0.0291,0.04771,0.03817,0.0824,0.1178,0.18041,0.1768,0.1206,0.164,0.107,0.0923,0.305,0.03261,0.13,0.0451,0.04986,0.0147,0.0582,0.0542,0.0911,0.1516,0.0142,0.041,0.0594,0.1275,0.0331,0.0419,0.0198,0.04419,0.0632,0.1599,0.145,0.0863,0.0223,0.054,0.062,0.0617,0.0224,0.1779,0.1344,0.0309,0.054,0.098,0.0671,0.03486,0.0746,0.1354,0.0905,0.045,0.1627,0.189,0.0619,0.05983,0.0591,0.0559,0.04,0.078,0.05,0.106,0.059,0.03014,0.07131,0.0665,0.1768,0.094,0.0345,0.01462,0.096,0.035,0.0164,2.6,0.168,0.311,0.0525,0.06229,0.0671,0.04613,0.02044,0.04881,0.0455,0.0637,0.05224,0.03302,0.06969,0.05504,0.04126,0.08,2.39,0.04415,0.04571,0.11,0.0727,0.216,0.0474,0.0684,0.128,0.641,0.124,0.0597,0.0448,0.0825,0.069,0.152,0.01685,0.241,0.2804,0.1445,0.091,0.107,0.155,0.195,0.25,0.466,0.097,0.437,0.158,0.282,0.202,0.126,0.13,4.0,0.39,0.0556,0.176,0.08,0.381,0.03423,0.753,0.0997,0.05714,0.05511,0.1192,0.17,0.1654,0.4706,2.026,0.103,0.197,0.0544,0.633,0.0483,0.0684,0.1405,1.89,2.026,0.08,0.0416,1.64,0.05,0.02591,0.052,0.0781,0.0343,0.11,0.356,0.0447,0.0752,0.1172,0.089,0.117,0.059,0.16,0.04537,0.093,0.3453,0.06335,0.1378,0.03710232851,0.01420769609,0.042509,0.849,0.068,0.11,0.195,0.276,0.118,0.191,0.21,0.33,0.51,0.062,0.081,0.0521,0.118,0.079,0.255,0.169,0.121,0.152,0.05,0.1949,0.26,0.116,0.17,0.09,0.0677,0.1189,0.166,0.2138,0.2535,0.1151,0.1283,0.1003,0.1368,0.2076,0.2508,0.097,0.127,0.1226,0.02959,0.03101,1.219,0.082,0.044,0.73,0.2244,0.4757,0.0719,0.0847,0.1045,0.1143,0.339,0.288,0.166,0.563,0.242,0.64,0.409,0.495,0.04178,0.04881,0.06,0.0696,0.0811,0.102,0.141,0.2,0.067,0.104,0.147,0.0769,0.105,0.202,0.0446,1.046,0.0954,1.286,0.027,0.1968,0.2799,0.067,0.0456,0.0786,0.077,0.087,0.2514,0.384,0.509,0.4669,0.1028,0.1652,2.0,0.05064,0.07497,0.08701,0.10548,0.0553,0.0929,0.12,0.427,0.718,0.08,0.035,0.068,0.084,0.1352,0.1171,0.0617,0.09059,1.4,0.094,0.64,0.04567,0.0484618,0.0694,0.03997,0.0781,0.0818,0.04501,0.06246,0.0648,0.0792,0.0372,0.0491,0.0175,0.471,0.664,0.05119,0.1013,0.1684,0.3046,0.0483,1.01,0.71,0.48,0.42,0.32,0.089,0.074,0.0726,0.0726,0.053,0.052,0.0389,0.0634,0.143,0.229,0.0271,0.005,0.007,0.01,0.2672,0.0446,0.0727,0.1038,0.382,0.3034,0.0444,0.098,0.1529,0.37,1.68,0.03585,0.0048,0.039,0.052,0.0464,0.067,0.091,0.0414,0.0679,0.1006,0.1194,0.369,0.228,0.118,0.184,0.278,0.091,0.128,0.075,0.0529,0.0701,0.1462,0.1911,0.6,0.178,0.269,0.4988,0.162,0.419,1.137,0.006,0.0076,0.0948,0.18,0.3,0.5,0.0433,0.0504,0.0269,0.02091,0.02191,0.0304,0.0486,0.0717,0.0957,0.02734,0.01848,0.01251,0.0331,0.0404,0.00622,0.0417,0.00969,0.029392,0.0876,0.03813,0.0396,0.01211,0.07673,0.01679,0.0464,0.043,0.047,0.047,242.4,1.5,0.09094,0.921,5.235,1.1,0.0143,0.2,0.0757,0.0549,0.0403,0.0441,0.0523,0.0391,0.0448,0.0326,0.063,0.019,0.0382,0.01677,0.035,0.058,1.27261,1.79,5.931,0.0308,0.04516,0.047,0.02288,0.03,0.051,0.051,0.0225,1.1,0.83,3.9,0.828,0.03734,0.03176,5.5,0.008,0.0286,0.02343,0.02149,0.03783,0.02861,0.04127,0.0423,0.0352,0.0474,0.0234,0.2196,0.4123,0.0496,0.053,0.38709843,0.72332102,1.00000018,1.52371243,5.20248019,9.54149883,19.18797948,30.06952752,39.48686035,0.049,0.105,0.195,0.374,0.538,1.334,0.243,1.17,0.1207,0.052,0.06152,0.09429,0.0118,0.113,0.0561,0.04394,0.07098,0.0287,0.0886,0.0392,0.1288,0.03845,0.0139,0.037,0.0407,0.05186,0.0814,0.137,0.0366,0.0656,0.0736,0.1058,0.072,0.0497,0.059,0.026,0.0626,0.023,0.0071,0.0903,0.07037,0.039,0.03138,0.06864,0.01545,0.058,0.103,0.249,0.0226,0.0229,0.03524,0.16,0.0391,0.0914,0.0291,0.0443,0.0707,0.1176,0.04873,0.02607,0.037,0.0592,0.0783,0.1039,0.1275,0.00812,0.04393,0.069,0.1,0.0204,0.1587,0.3,0.089,0.0112,0.0631,0.0885,0.1138,0.0533,0.1108,0.05064,0.0513,0.074,0.1293,0.2069,0.828,0.03319,0.09564,0.15544,0.0854,0.0892,0.05,0.145,0.0097,0.1363,0.0341,0.0228,0.0144,0.0543,0.0202,0.0064,0.1167,0.05741,0.0672,0.1528,0.0345,0.0306,0.0472,0.0733,0.153,0.04289,0.043,0.081,0.027,0.03845,0.05222,0.056,0.1189,0.0113,0.052,0.098,0.0271,0.0823,0.1255,0.097,0.0128,0.012,0.052,0.0296,0.01223,0.0251,0.01055,0.08809,0.1569,0.3274,0.1174,0.02734,0.04825,0.0486,0.06608,0.0231,0.1038,0.0677,0.0929,0.1633,0.07928,0.2447,0.3405,0.06,0.1011,0.0652,0.1,0.423,0.02177,0.0171,0.01598,0.092,0.04666,0.04796,0.088,0.04963,0.01154775,0.01581512,0.02228038,0.02928285,0.03853361,0.04687692,0.06193488,0.0393,0.03556,0.0226,0.0516,0.02446,0.66,0.69,1.37,1.22,1.414,0.21,0.422,0.059408,0.83158,2.533539,5.2456,1.7,0.065,0.0457,0.0506,0.0401,0.01985,0.02918,0.075,0.0917,0.0397,0.0463,0.0371,0.0457,0.03914,0.0382,0.05885,0.02851,0.09459,0.05453,0.0439,0.0522,0.02544,0.03107,0.0431,0.052,0.02293,0.1012,0.0607,0.067,0.0243,0.0661,0.0494,0.062,0.05379,0.0323,0.0469,0.0347,0.0316,0.0261,0.0549,0.0845,0.2101,0.036,0.0694,0.055,0.048,0.0453,0.0517,0.0538,0.0499,0.0452,0.0673,0.0871,0.0266,0.02818,0.04823,0.0641,0.0365,0.0519,0.0681,0.0421,0.0337,0.0504,0.0694,0.0248,0.0559,0.04403,0.0535,0.03957,0.0558,0.0515,0.05427,0.0451,0.04632,0.0627,0.0904,0.06,0.0653,0.0477,0.02,0.035,0.0663,0.0408,0.01655,0.03889,0.06003,0.0499,0.04698,0.0376,0.0359,0.0474,0.03985,0.04469,0.0457,0.03144,0.04657,0.0394,0.0239,0.0524,14.96,0.04317,0.02624,0.04339,0.0758,0.0486,0.0313,0.04,1.07,0.0548,0.01526,0.03453,0.03963,0.02335,0.051,0.017,0.088,1.36,0.03444,0.0379,0.0226,0.02945,0.04101,3.73,0.04987,0.0533,0.05458,0.0386,0.0561,0.0697,0.02729,0.0531,0.0514,0.0567,0.0574,0.02648,0.0334,0.0546,0.0517,0.06206,0.04525,0.0421,0.04853,0.04631,0.03655,0.05512,0.037,0.0375,0.033,0.024,0.0415,0.0362,0.0617,0.0346,0.03908,2.426,0.0447,0.059,0.0775,0.039,0.02946,0.06431,0.0427,0.0801,5.28,0.0562,0.037,0.0348,0.04211,0.055,0.0335,0.03416,0.0453,0.03303,0.036,0.0717,0.0204,0.0282,0.0234,0.035509,0.08427,0.2039,0.0571,0.047,0.01855,0.68,0.0488,0.1344,0.4756,0.03673,0.0454,0.05485,0.0487,0.0815,0.04421,114.0,0.01557,0.0209,0.02764]},\"selected\":{\"id\":\"3793\"},\"selection_policy\":{\"id\":\"3794\"}},\"id\":\"3607\",\"type\":\"ColumnDataSource\"},{\"attributes\":{\"data_source\":{\"id\":\"3607\"},\"glyph\":{\"id\":\"3642\"},\"hover_glyph\":null,\"muted_glyph\":null,\"nonselection_glyph\":{\"id\":\"3643\"},\"view\":{\"id\":\"3645\"}},\"id\":\"3644\",\"type\":\"GlyphRenderer\"},{\"attributes\":{},\"id\":\"3792\",\"type\":\"AllLabels\"},{\"attributes\":{\"bottom_units\":\"screen\",\"fill_alpha\":0.5,\"fill_color\":\"lightgrey\",\"left_units\":\"screen\",\"level\":\"overlay\",\"line_alpha\":1.0,\"line_color\":\"black\",\"line_dash\":[4,4],\"line_width\":2,\"right_units\":\"screen\",\"syncable\":false,\"top_units\":\"screen\"},\"id\":\"3633\",\"type\":\"BoxAnnotation\"},{\"attributes\":{},\"id\":\"3617\",\"type\":\"LogScale\"},{\"attributes\":{\"axis\":{\"id\":\"3619\"},\"ticker\":null},\"id\":\"3622\",\"type\":\"Grid\"},{\"attributes\":{},\"id\":\"3793\",\"type\":\"Selection\"},{\"attributes\":{},\"id\":\"3794\",\"type\":\"UnionRenderers\"},{\"attributes\":{\"fill_color\":{\"field\":\"color\"},\"line_color\":{\"field\":\"color\"},\"size\":{\"value\":3},\"x\":{\"field\":\"semi_major\"},\"y\":{\"field\":\"mass\"}},\"id\":\"3642\",\"type\":\"Scatter\"}],\"root_ids\":[\"3608\"]},\"title\":\"Bokeh Application\",\"version\":\"2.3.2\"}};\n",
       "  var render_items = [{\"docid\":\"eff6c712-80df-458a-ae6e-ac21530cd643\",\"root_ids\":[\"3608\"],\"roots\":{\"3608\":\"8905eb14-d4ce-4fb5-9f57-d3fb756129b2\"}}];\n",
       "  root.Bokeh.embed.embed_items_notebook(docs_json, render_items);\n",
       "\n",
       "  }\n",
       "  if (root.Bokeh !== undefined) {\n",
       "    embed_document(root);\n",
       "  } else {\n",
       "    var attempts = 0;\n",
       "    var timer = setInterval(function(root) {\n",
       "      if (root.Bokeh !== undefined) {\n",
       "        clearInterval(timer);\n",
       "        embed_document(root);\n",
       "      } else {\n",
       "        attempts++;\n",
       "        if (attempts > 100) {\n",
       "          clearInterval(timer);\n",
       "          console.log(\"Bokeh: ERROR: Unable to run BokehJS code because BokehJS library is missing\");\n",
       "        }\n",
       "      }\n",
       "    }, 10, root)\n",
       "  }\n",
       "})(window);"
      ],
      "application/vnd.bokehjs_exec.v0+json": ""
     },
     "metadata": {
      "application/vnd.bokehjs_exec.v0+json": {
       "id": "3608"
      }
     },
     "output_type": "display_data"
    }
   ],
   "source": [
    "all_exo_data['hz_bool_color'] = all_exo_data['hz_bool'].map({True: 'crimson', False:'royalblue'})\n",
    "source = ColumnDataSource(data = dict(semi_major = all_exo_data['semimajoraxis'].astype(float).tolist(),\n",
    "                                             mass = all_exo_data['mass'],\n",
    "                                             name = all_exo_data['name'].tolist(),\n",
    "                                             color = all_exo_data['hz_bool_color']))\n",
    "p = figure(title = 'Exoplanets & HZs', width = 1500, height = 1000, y_axis_type = 'log', y_range = [10**-3, 10**5], x_axis_type = 'log', x_range = [10**-3, 10**4])\n",
    "p.scatter(x = 'semi_major', y = 'mass', color = 'color', source = source, size = 3)\n",
    "p.xaxis[0].axis_label = 'Semi-Major Axis (AU)'\n",
    "p.yaxis[0].axis_label = 'Mass (Earth Masses)'\n",
    "show(p)"
   ]
  },
  {
   "cell_type": "code",
   "execution_count": null,
   "id": "7e386244-a4fb-45fb-985b-c50f93a8aacb",
   "metadata": {},
   "outputs": [],
   "source": []
  }
 ],
 "metadata": {
  "kernelspec": {
   "display_name": "Python 3",
   "language": "python",
   "name": "python3"
  },
  "language_info": {
   "codemirror_mode": {
    "name": "ipython",
    "version": 3
   },
   "file_extension": ".py",
   "mimetype": "text/x-python",
   "name": "python",
   "nbconvert_exporter": "python",
   "pygments_lexer": "ipython3",
   "version": "3.8.10"
  }
 },
 "nbformat": 4,
 "nbformat_minor": 5
}
