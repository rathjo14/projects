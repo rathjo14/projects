{
 "cells": [
  {
   "cell_type": "markdown",
   "id": "86b1ef60-0f3c-4d6e-9c3c-54b7e183fb3b",
   "metadata": {},
   "source": [
    "When describing the planets of our solar system we often highlight how unique each one is. From the sunscathed surface of Mercury to the deep blue colors of Neptune, each planet has some interesting quality not seen in the others. \\\n",
    "It makes you wonder! \\\n",
    "        - If each planet in our system is charming in their own way, what sets planets of other systems apart from them? \\\n",
    "        - These exo-planets, are they all especially unique? \\\n",
    "        - Do their characteristics eventually fall into some trends? What are those characteristics? \\\n",
    "Unfortunately, some of these questions can't be answered with the technology we possess now, but we can learn some things! \\\n",
    "For years, scientists have observed exo-planets using a variety of techniques to help discern as much as they could about them. \\\n",
    "And in this workbook I'll be showcasing some analysis on the data they've collected."
   ]
  },
  {
   "cell_type": "code",
   "execution_count": 1,
   "id": "f434c466-4e0a-4681-9286-912eb9788257",
   "metadata": {},
   "outputs": [
    {
     "data": {
      "text/html": [
       "\n",
       "    <div class=\"bk-root\">\n",
       "        <a href=\"https://bokeh.org\" target=\"_blank\" class=\"bk-logo bk-logo-small bk-logo-notebook\"></a>\n",
       "        <span id=\"1002\">Loading BokehJS ...</span>\n",
       "    </div>"
      ]
     },
     "metadata": {},
     "output_type": "display_data"
    },
    {
     "data": {
      "application/javascript": [
       "\n",
       "(function(root) {\n",
       "  function now() {\n",
       "    return new Date();\n",
       "  }\n",
       "\n",
       "  var force = true;\n",
       "\n",
       "  if (typeof root._bokeh_onload_callbacks === \"undefined\" || force === true) {\n",
       "    root._bokeh_onload_callbacks = [];\n",
       "    root._bokeh_is_loading = undefined;\n",
       "  }\n",
       "\n",
       "  var JS_MIME_TYPE = 'application/javascript';\n",
       "  var HTML_MIME_TYPE = 'text/html';\n",
       "  var EXEC_MIME_TYPE = 'application/vnd.bokehjs_exec.v0+json';\n",
       "  var CLASS_NAME = 'output_bokeh rendered_html';\n",
       "\n",
       "  /**\n",
       "   * Render data to the DOM node\n",
       "   */\n",
       "  function render(props, node) {\n",
       "    var script = document.createElement(\"script\");\n",
       "    node.appendChild(script);\n",
       "  }\n",
       "\n",
       "  /**\n",
       "   * Handle when an output is cleared or removed\n",
       "   */\n",
       "  function handleClearOutput(event, handle) {\n",
       "    var cell = handle.cell;\n",
       "\n",
       "    var id = cell.output_area._bokeh_element_id;\n",
       "    var server_id = cell.output_area._bokeh_server_id;\n",
       "    // Clean up Bokeh references\n",
       "    if (id != null && id in Bokeh.index) {\n",
       "      Bokeh.index[id].model.document.clear();\n",
       "      delete Bokeh.index[id];\n",
       "    }\n",
       "\n",
       "    if (server_id !== undefined) {\n",
       "      // Clean up Bokeh references\n",
       "      var cmd = \"from bokeh.io.state import curstate; print(curstate().uuid_to_server['\" + server_id + \"'].get_sessions()[0].document.roots[0]._id)\";\n",
       "      cell.notebook.kernel.execute(cmd, {\n",
       "        iopub: {\n",
       "          output: function(msg) {\n",
       "            var id = msg.content.text.trim();\n",
       "            if (id in Bokeh.index) {\n",
       "              Bokeh.index[id].model.document.clear();\n",
       "              delete Bokeh.index[id];\n",
       "            }\n",
       "          }\n",
       "        }\n",
       "      });\n",
       "      // Destroy server and session\n",
       "      var cmd = \"import bokeh.io.notebook as ion; ion.destroy_server('\" + server_id + \"')\";\n",
       "      cell.notebook.kernel.execute(cmd);\n",
       "    }\n",
       "  }\n",
       "\n",
       "  /**\n",
       "   * Handle when a new output is added\n",
       "   */\n",
       "  function handleAddOutput(event, handle) {\n",
       "    var output_area = handle.output_area;\n",
       "    var output = handle.output;\n",
       "\n",
       "    // limit handleAddOutput to display_data with EXEC_MIME_TYPE content only\n",
       "    if ((output.output_type != \"display_data\") || (!Object.prototype.hasOwnProperty.call(output.data, EXEC_MIME_TYPE))) {\n",
       "      return\n",
       "    }\n",
       "\n",
       "    var toinsert = output_area.element.find(\".\" + CLASS_NAME.split(' ')[0]);\n",
       "\n",
       "    if (output.metadata[EXEC_MIME_TYPE][\"id\"] !== undefined) {\n",
       "      toinsert[toinsert.length - 1].firstChild.textContent = output.data[JS_MIME_TYPE];\n",
       "      // store reference to embed id on output_area\n",
       "      output_area._bokeh_element_id = output.metadata[EXEC_MIME_TYPE][\"id\"];\n",
       "    }\n",
       "    if (output.metadata[EXEC_MIME_TYPE][\"server_id\"] !== undefined) {\n",
       "      var bk_div = document.createElement(\"div\");\n",
       "      bk_div.innerHTML = output.data[HTML_MIME_TYPE];\n",
       "      var script_attrs = bk_div.children[0].attributes;\n",
       "      for (var i = 0; i < script_attrs.length; i++) {\n",
       "        toinsert[toinsert.length - 1].firstChild.setAttribute(script_attrs[i].name, script_attrs[i].value);\n",
       "        toinsert[toinsert.length - 1].firstChild.textContent = bk_div.children[0].textContent\n",
       "      }\n",
       "      // store reference to server id on output_area\n",
       "      output_area._bokeh_server_id = output.metadata[EXEC_MIME_TYPE][\"server_id\"];\n",
       "    }\n",
       "  }\n",
       "\n",
       "  function register_renderer(events, OutputArea) {\n",
       "\n",
       "    function append_mime(data, metadata, element) {\n",
       "      // create a DOM node to render to\n",
       "      var toinsert = this.create_output_subarea(\n",
       "        metadata,\n",
       "        CLASS_NAME,\n",
       "        EXEC_MIME_TYPE\n",
       "      );\n",
       "      this.keyboard_manager.register_events(toinsert);\n",
       "      // Render to node\n",
       "      var props = {data: data, metadata: metadata[EXEC_MIME_TYPE]};\n",
       "      render(props, toinsert[toinsert.length - 1]);\n",
       "      element.append(toinsert);\n",
       "      return toinsert\n",
       "    }\n",
       "\n",
       "    /* Handle when an output is cleared or removed */\n",
       "    events.on('clear_output.CodeCell', handleClearOutput);\n",
       "    events.on('delete.Cell', handleClearOutput);\n",
       "\n",
       "    /* Handle when a new output is added */\n",
       "    events.on('output_added.OutputArea', handleAddOutput);\n",
       "\n",
       "    /**\n",
       "     * Register the mime type and append_mime function with output_area\n",
       "     */\n",
       "    OutputArea.prototype.register_mime_type(EXEC_MIME_TYPE, append_mime, {\n",
       "      /* Is output safe? */\n",
       "      safe: true,\n",
       "      /* Index of renderer in `output_area.display_order` */\n",
       "      index: 0\n",
       "    });\n",
       "  }\n",
       "\n",
       "  // register the mime type if in Jupyter Notebook environment and previously unregistered\n",
       "  if (root.Jupyter !== undefined) {\n",
       "    var events = require('base/js/events');\n",
       "    var OutputArea = require('notebook/js/outputarea').OutputArea;\n",
       "\n",
       "    if (OutputArea.prototype.mime_types().indexOf(EXEC_MIME_TYPE) == -1) {\n",
       "      register_renderer(events, OutputArea);\n",
       "    }\n",
       "  }\n",
       "\n",
       "  \n",
       "  if (typeof (root._bokeh_timeout) === \"undefined\" || force === true) {\n",
       "    root._bokeh_timeout = Date.now() + 5000;\n",
       "    root._bokeh_failed_load = false;\n",
       "  }\n",
       "\n",
       "  var NB_LOAD_WARNING = {'data': {'text/html':\n",
       "     \"<div style='background-color: #fdd'>\\n\"+\n",
       "     \"<p>\\n\"+\n",
       "     \"BokehJS does not appear to have successfully loaded. If loading BokehJS from CDN, this \\n\"+\n",
       "     \"may be due to a slow or bad network connection. Possible fixes:\\n\"+\n",
       "     \"</p>\\n\"+\n",
       "     \"<ul>\\n\"+\n",
       "     \"<li>re-rerun `output_notebook()` to attempt to load from CDN again, or</li>\\n\"+\n",
       "     \"<li>use INLINE resources instead, as so:</li>\\n\"+\n",
       "     \"</ul>\\n\"+\n",
       "     \"<code>\\n\"+\n",
       "     \"from bokeh.resources import INLINE\\n\"+\n",
       "     \"output_notebook(resources=INLINE)\\n\"+\n",
       "     \"</code>\\n\"+\n",
       "     \"</div>\"}};\n",
       "\n",
       "  function display_loaded() {\n",
       "    var el = document.getElementById(\"1002\");\n",
       "    if (el != null) {\n",
       "      el.textContent = \"BokehJS is loading...\";\n",
       "    }\n",
       "    if (root.Bokeh !== undefined) {\n",
       "      if (el != null) {\n",
       "        el.textContent = \"BokehJS \" + root.Bokeh.version + \" successfully loaded.\";\n",
       "      }\n",
       "    } else if (Date.now() < root._bokeh_timeout) {\n",
       "      setTimeout(display_loaded, 100)\n",
       "    }\n",
       "  }\n",
       "\n",
       "\n",
       "  function run_callbacks() {\n",
       "    try {\n",
       "      root._bokeh_onload_callbacks.forEach(function(callback) {\n",
       "        if (callback != null)\n",
       "          callback();\n",
       "      });\n",
       "    } finally {\n",
       "      delete root._bokeh_onload_callbacks\n",
       "    }\n",
       "    console.debug(\"Bokeh: all callbacks have finished\");\n",
       "  }\n",
       "\n",
       "  function load_libs(css_urls, js_urls, callback) {\n",
       "    if (css_urls == null) css_urls = [];\n",
       "    if (js_urls == null) js_urls = [];\n",
       "\n",
       "    root._bokeh_onload_callbacks.push(callback);\n",
       "    if (root._bokeh_is_loading > 0) {\n",
       "      console.debug(\"Bokeh: BokehJS is being loaded, scheduling callback at\", now());\n",
       "      return null;\n",
       "    }\n",
       "    if (js_urls == null || js_urls.length === 0) {\n",
       "      run_callbacks();\n",
       "      return null;\n",
       "    }\n",
       "    console.debug(\"Bokeh: BokehJS not loaded, scheduling load and callback at\", now());\n",
       "    root._bokeh_is_loading = css_urls.length + js_urls.length;\n",
       "\n",
       "    function on_load() {\n",
       "      root._bokeh_is_loading--;\n",
       "      if (root._bokeh_is_loading === 0) {\n",
       "        console.debug(\"Bokeh: all BokehJS libraries/stylesheets loaded\");\n",
       "        run_callbacks()\n",
       "      }\n",
       "    }\n",
       "\n",
       "    function on_error(url) {\n",
       "      console.error(\"failed to load \" + url);\n",
       "    }\n",
       "\n",
       "    for (let i = 0; i < css_urls.length; i++) {\n",
       "      const url = css_urls[i];\n",
       "      const element = document.createElement(\"link\");\n",
       "      element.onload = on_load;\n",
       "      element.onerror = on_error.bind(null, url);\n",
       "      element.rel = \"stylesheet\";\n",
       "      element.type = \"text/css\";\n",
       "      element.href = url;\n",
       "      console.debug(\"Bokeh: injecting link tag for BokehJS stylesheet: \", url);\n",
       "      document.body.appendChild(element);\n",
       "    }\n",
       "\n",
       "    const hashes = {\"https://cdn.bokeh.org/bokeh/release/bokeh-2.3.2.min.js\": \"XypntL49z55iwGVUW4qsEu83zKL3XEcz0MjuGOQ9SlaaQ68X/g+k1FcioZi7oQAc\", \"https://cdn.bokeh.org/bokeh/release/bokeh-tables-2.3.2.min.js\": \"bEsM86IHGDTLCS0Zod8a8WM6Y4+lafAL/eSiyQcuPzinmWNgNO2/olUF0Z2Dkn5i\", \"https://cdn.bokeh.org/bokeh/release/bokeh-widgets-2.3.2.min.js\": \"TX0gSQTdXTTeScqxj6PVQxTiRW8DOoGVwinyi1D3kxv7wuxQ02XkOxv0xwiypcAH\"};\n",
       "\n",
       "    for (let i = 0; i < js_urls.length; i++) {\n",
       "      const url = js_urls[i];\n",
       "      const element = document.createElement('script');\n",
       "      element.onload = on_load;\n",
       "      element.onerror = on_error.bind(null, url);\n",
       "      element.async = false;\n",
       "      element.src = url;\n",
       "      if (url in hashes) {\n",
       "        element.crossOrigin = \"anonymous\";\n",
       "        element.integrity = \"sha384-\" + hashes[url];\n",
       "      }\n",
       "      console.debug(\"Bokeh: injecting script tag for BokehJS library: \", url);\n",
       "      document.head.appendChild(element);\n",
       "    }\n",
       "  };\n",
       "\n",
       "  function inject_raw_css(css) {\n",
       "    const element = document.createElement(\"style\");\n",
       "    element.appendChild(document.createTextNode(css));\n",
       "    document.body.appendChild(element);\n",
       "  }\n",
       "\n",
       "  \n",
       "  var js_urls = [\"https://cdn.bokeh.org/bokeh/release/bokeh-2.3.2.min.js\", \"https://cdn.bokeh.org/bokeh/release/bokeh-widgets-2.3.2.min.js\", \"https://cdn.bokeh.org/bokeh/release/bokeh-tables-2.3.2.min.js\"];\n",
       "  var css_urls = [];\n",
       "  \n",
       "\n",
       "  var inline_js = [\n",
       "    function(Bokeh) {\n",
       "      Bokeh.set_log_level(\"info\");\n",
       "    },\n",
       "    function(Bokeh) {\n",
       "    \n",
       "    \n",
       "    }\n",
       "  ];\n",
       "\n",
       "  function run_inline_js() {\n",
       "    \n",
       "    if (root.Bokeh !== undefined || force === true) {\n",
       "      \n",
       "    for (var i = 0; i < inline_js.length; i++) {\n",
       "      inline_js[i].call(root, root.Bokeh);\n",
       "    }\n",
       "    if (force === true) {\n",
       "        display_loaded();\n",
       "      }} else if (Date.now() < root._bokeh_timeout) {\n",
       "      setTimeout(run_inline_js, 100);\n",
       "    } else if (!root._bokeh_failed_load) {\n",
       "      console.log(\"Bokeh: BokehJS failed to load within specified timeout.\");\n",
       "      root._bokeh_failed_load = true;\n",
       "    } else if (force !== true) {\n",
       "      var cell = $(document.getElementById(\"1002\")).parents('.cell').data().cell;\n",
       "      cell.output_area.append_execute_result(NB_LOAD_WARNING)\n",
       "    }\n",
       "\n",
       "  }\n",
       "\n",
       "  if (root._bokeh_is_loading === 0) {\n",
       "    console.debug(\"Bokeh: BokehJS loaded, going straight to plotting\");\n",
       "    run_inline_js();\n",
       "  } else {\n",
       "    load_libs(css_urls, js_urls, function() {\n",
       "      console.debug(\"Bokeh: BokehJS plotting callback run at\", now());\n",
       "      run_inline_js();\n",
       "    });\n",
       "  }\n",
       "}(window));"
      ],
      "application/vnd.bokehjs_load.v0+json": "\n(function(root) {\n  function now() {\n    return new Date();\n  }\n\n  var force = true;\n\n  if (typeof root._bokeh_onload_callbacks === \"undefined\" || force === true) {\n    root._bokeh_onload_callbacks = [];\n    root._bokeh_is_loading = undefined;\n  }\n\n  \n\n  \n  if (typeof (root._bokeh_timeout) === \"undefined\" || force === true) {\n    root._bokeh_timeout = Date.now() + 5000;\n    root._bokeh_failed_load = false;\n  }\n\n  var NB_LOAD_WARNING = {'data': {'text/html':\n     \"<div style='background-color: #fdd'>\\n\"+\n     \"<p>\\n\"+\n     \"BokehJS does not appear to have successfully loaded. If loading BokehJS from CDN, this \\n\"+\n     \"may be due to a slow or bad network connection. Possible fixes:\\n\"+\n     \"</p>\\n\"+\n     \"<ul>\\n\"+\n     \"<li>re-rerun `output_notebook()` to attempt to load from CDN again, or</li>\\n\"+\n     \"<li>use INLINE resources instead, as so:</li>\\n\"+\n     \"</ul>\\n\"+\n     \"<code>\\n\"+\n     \"from bokeh.resources import INLINE\\n\"+\n     \"output_notebook(resources=INLINE)\\n\"+\n     \"</code>\\n\"+\n     \"</div>\"}};\n\n  function display_loaded() {\n    var el = document.getElementById(\"1002\");\n    if (el != null) {\n      el.textContent = \"BokehJS is loading...\";\n    }\n    if (root.Bokeh !== undefined) {\n      if (el != null) {\n        el.textContent = \"BokehJS \" + root.Bokeh.version + \" successfully loaded.\";\n      }\n    } else if (Date.now() < root._bokeh_timeout) {\n      setTimeout(display_loaded, 100)\n    }\n  }\n\n\n  function run_callbacks() {\n    try {\n      root._bokeh_onload_callbacks.forEach(function(callback) {\n        if (callback != null)\n          callback();\n      });\n    } finally {\n      delete root._bokeh_onload_callbacks\n    }\n    console.debug(\"Bokeh: all callbacks have finished\");\n  }\n\n  function load_libs(css_urls, js_urls, callback) {\n    if (css_urls == null) css_urls = [];\n    if (js_urls == null) js_urls = [];\n\n    root._bokeh_onload_callbacks.push(callback);\n    if (root._bokeh_is_loading > 0) {\n      console.debug(\"Bokeh: BokehJS is being loaded, scheduling callback at\", now());\n      return null;\n    }\n    if (js_urls == null || js_urls.length === 0) {\n      run_callbacks();\n      return null;\n    }\n    console.debug(\"Bokeh: BokehJS not loaded, scheduling load and callback at\", now());\n    root._bokeh_is_loading = css_urls.length + js_urls.length;\n\n    function on_load() {\n      root._bokeh_is_loading--;\n      if (root._bokeh_is_loading === 0) {\n        console.debug(\"Bokeh: all BokehJS libraries/stylesheets loaded\");\n        run_callbacks()\n      }\n    }\n\n    function on_error(url) {\n      console.error(\"failed to load \" + url);\n    }\n\n    for (let i = 0; i < css_urls.length; i++) {\n      const url = css_urls[i];\n      const element = document.createElement(\"link\");\n      element.onload = on_load;\n      element.onerror = on_error.bind(null, url);\n      element.rel = \"stylesheet\";\n      element.type = \"text/css\";\n      element.href = url;\n      console.debug(\"Bokeh: injecting link tag for BokehJS stylesheet: \", url);\n      document.body.appendChild(element);\n    }\n\n    const hashes = {\"https://cdn.bokeh.org/bokeh/release/bokeh-2.3.2.min.js\": \"XypntL49z55iwGVUW4qsEu83zKL3XEcz0MjuGOQ9SlaaQ68X/g+k1FcioZi7oQAc\", \"https://cdn.bokeh.org/bokeh/release/bokeh-tables-2.3.2.min.js\": \"bEsM86IHGDTLCS0Zod8a8WM6Y4+lafAL/eSiyQcuPzinmWNgNO2/olUF0Z2Dkn5i\", \"https://cdn.bokeh.org/bokeh/release/bokeh-widgets-2.3.2.min.js\": \"TX0gSQTdXTTeScqxj6PVQxTiRW8DOoGVwinyi1D3kxv7wuxQ02XkOxv0xwiypcAH\"};\n\n    for (let i = 0; i < js_urls.length; i++) {\n      const url = js_urls[i];\n      const element = document.createElement('script');\n      element.onload = on_load;\n      element.onerror = on_error.bind(null, url);\n      element.async = false;\n      element.src = url;\n      if (url in hashes) {\n        element.crossOrigin = \"anonymous\";\n        element.integrity = \"sha384-\" + hashes[url];\n      }\n      console.debug(\"Bokeh: injecting script tag for BokehJS library: \", url);\n      document.head.appendChild(element);\n    }\n  };\n\n  function inject_raw_css(css) {\n    const element = document.createElement(\"style\");\n    element.appendChild(document.createTextNode(css));\n    document.body.appendChild(element);\n  }\n\n  \n  var js_urls = [\"https://cdn.bokeh.org/bokeh/release/bokeh-2.3.2.min.js\", \"https://cdn.bokeh.org/bokeh/release/bokeh-widgets-2.3.2.min.js\", \"https://cdn.bokeh.org/bokeh/release/bokeh-tables-2.3.2.min.js\"];\n  var css_urls = [];\n  \n\n  var inline_js = [\n    function(Bokeh) {\n      Bokeh.set_log_level(\"info\");\n    },\n    function(Bokeh) {\n    \n    \n    }\n  ];\n\n  function run_inline_js() {\n    \n    if (root.Bokeh !== undefined || force === true) {\n      \n    for (var i = 0; i < inline_js.length; i++) {\n      inline_js[i].call(root, root.Bokeh);\n    }\n    if (force === true) {\n        display_loaded();\n      }} else if (Date.now() < root._bokeh_timeout) {\n      setTimeout(run_inline_js, 100);\n    } else if (!root._bokeh_failed_load) {\n      console.log(\"Bokeh: BokehJS failed to load within specified timeout.\");\n      root._bokeh_failed_load = true;\n    } else if (force !== true) {\n      var cell = $(document.getElementById(\"1002\")).parents('.cell').data().cell;\n      cell.output_area.append_execute_result(NB_LOAD_WARNING)\n    }\n\n  }\n\n  if (root._bokeh_is_loading === 0) {\n    console.debug(\"Bokeh: BokehJS loaded, going straight to plotting\");\n    run_inline_js();\n  } else {\n    load_libs(css_urls, js_urls, function() {\n      console.debug(\"Bokeh: BokehJS plotting callback run at\", now());\n      run_inline_js();\n    });\n  }\n}(window));"
     },
     "metadata": {},
     "output_type": "display_data"
    }
   ],
   "source": [
    "import astroquery\n",
    "from astroquery.mast import Catalogs, Observations\n",
    "from astropy import units as u\n",
    "from astropy.coordinates import SkyCoord\n",
    "from astroquery import open_exoplanet_catalogue as oec\n",
    "from astroquery.open_exoplanet_catalogue import findvalue\n",
    "import numpy as np\n",
    "import pandas as pd\n",
    "from astroquery.exoplanet_orbit_database import ExoplanetOrbitDatabase\n",
    "from astroquery.ipac.nexsci.nasa_exoplanet_archive import NasaExoplanetArchive\n",
    "\n",
    "from bokeh.plotting import figure, output_file, show\n",
    "from bokeh.models import ColumnDataSource, Label, LabelSet, Range1d, Span\n",
    "from bokeh.io import output_notebook\n",
    "output_notebook()"
   ]
  },
  {
   "cell_type": "markdown",
   "id": "d2d171ea-0707-456b-adf8-0b316771805c",
   "metadata": {},
   "source": [
    "To do analysis I'll be using Python. \\\n",
    "The main portion of the data will come from the Open Exoplanet Catalogue. \\\n",
    "And I'll extract the data using the Astropy/Astroquery Python libraries"
   ]
  },
  {
   "cell_type": "code",
   "execution_count": 5,
   "id": "2e077303-66b4-431d-bce8-34ddb0550fe4",
   "metadata": {},
   "outputs": [],
   "source": [
    "data = oec.get_catalogue()"
   ]
  },
  {
   "cell_type": "markdown",
   "id": "5fb8ffe5-bdff-413b-b432-c2560a6b917c",
   "metadata": {},
   "source": [
    "We're all familiar with our solar system, so let's take a look at another one. \\\n",
    "One of the most notable and interesting systems discovered to data: TRAPPIST-1"
   ]
  },
  {
   "cell_type": "code",
   "execution_count": 29,
   "id": "3a031452-b47f-4c25-9187-e36a3801dd2b",
   "metadata": {},
   "outputs": [
    {
     "name": "stdout",
     "output_type": "stream",
     "text": [
      "STAR:\n",
      "\tname:TRAPPIST-1\n",
      "\tname:2MASS J23062928-0502285\n",
      "\tname:K2-112\n",
      "\tname:EPIC 246199087\n",
      "\tname:Gaia DR2 2635476908753563008\n",
      "\tmagV:18.798\n",
      "\tmagR:16.401\n",
      "\tmagI:13.966\n",
      "\tmagJ:11.35\n",
      "\tmagH:10.72\n",
      "\tmagK:10.30\n",
      "\tspectraltype:M8 V\n",
      "\ttemperature:2516\n",
      "\tmetallicity:0.04\n",
      "\tradius:0.121\n",
      "\tmass:0.089\n",
      "\tage:7.6\n",
      "\t# of planets: 7\n"
     ]
    }
   ],
   "source": [
    "exo_planet_count = 0\n",
    "print('STAR:')\n",
    "for properties in data.findall(\".//star[name='TRAPPIST-1']/*\"):\n",
    "    if properties.tag == 'planet':\n",
    "        exo_planet_count += 1\n",
    "    else:\n",
    "        print('\\t{}:{}'.format(properties.tag, properties.text))\n",
    "print('\\t' + '# of planets: {}'.format(exo_planet_count))"
   ]
  },
  {
   "cell_type": "markdown",
   "id": "1b826658-b4a8-4ce3-b4cf-4db4cbc90af3",
   "metadata": {},
   "source": [
    "This is information about the system's star: TRAPPIST-1!"
   ]
  },
  {
   "cell_type": "code",
   "execution_count": 31,
   "id": "3fd5be1f-b08b-4f15-a4e8-0585aa820449",
   "metadata": {},
   "outputs": [
    {
     "name": "stdout",
     "output_type": "stream",
     "text": [
      "name:TRAPPIST-1\n",
      "name:2MASS J23062928-0502285\n",
      "name:K2-112\n",
      "name:EPIC 246199087\n",
      "name:Gaia DR2 2635476908753563008\n",
      "magV:18.798\n",
      "magR:16.401\n",
      "magI:13.966\n",
      "magJ:11.35\n",
      "magH:10.72\n",
      "magK:10.30\n",
      "spectraltype:M8 V\n",
      "temperature:2516\n",
      "metallicity:0.04\n",
      "radius:0.121\n",
      "mass:0.089\n",
      "age:7.6\n",
      "PLANETS:\n",
      "\tNAME:  TRAPPIST-1 b\n",
      "\tMASS MEASURES:  0.0032\t0.000485\t4.5e-05\tNone\tNone\n",
      "\tRADIUS MESASURES:  0.121\t0.003\t0.003\tNone\tNone\n",
      "\tNAME:  TRAPPIST-1 c\n",
      "\tMASS MEASURES:  0.003637\t0.000447\t0.000412\tNone\tNone\n",
      "\tRADIUS MESASURES:  0.121\t0.003\t0.003\tNone\tNone\n",
      "\tNAME:  TRAPPIST-1 d\n",
      "\tMASS MEASURES:  0.000934\t0.000122\t0.00011\tNone\tNone\n",
      "\tRADIUS MESASURES:  0.121\t0.003\t0.003\tNone\tNone\n",
      "\tNAME:  TRAPPIST-1 e\n",
      "\tMASS MEASURES:  0.002429\t0.000249\t0.000236\tNone\tNone\n",
      "\tRADIUS MESASURES:  0.121\t0.003\t0.003\tNone\tNone\n",
      "\tNAME:  TRAPPIST-1 f\n",
      "\tMASS MEASURES:  0.002939\t0.000252\t0.000245\tNone\tNone\n",
      "\tRADIUS MESASURES:  0.121\t0.003\t0.003\tNone\tNone\n",
      "\tNAME:  TRAPPIST-1 g\n",
      "\tMASS MEASURES:  0.003612\t0.000308\t0.000299\tNone\tNone\n",
      "\tRADIUS MESASURES:  0.121\t0.003\t0.003\tNone\tNone\n",
      "\tNAME:  TRAPPIST-1 h\n",
      "\tMASS MEASURES:  0.001041\t0.000176\t0.000154\tNone\tNone\n",
      "\tRADIUS MESASURES:  0.121\t0.003\t0.003\tNone\tNone\n"
     ]
    }
   ],
   "source": [
    "#Let's get the trappist-1 system's data!\n",
    "for star in data.findall(\".//star[name='TRAPPIST-1']\"):\n",
    "    for properties in star.findall('*'):\n",
    "        if properties.tag != 'planet':\n",
    "            print('{}:{}'.format(properties.tag, properties.text))\n",
    "    print('PLANETS:')\n",
    "    for planet in star.findall(\".//planet\"):\n",
    "        for properties in planet.findall('*'):\n",
    "            #print('{}:{}'.format(properties.tag, properties.text))\n",
    "            pass\n",
    "        if findvalue(planet, 'mass') != None and findvalue(star, 'mass') != None:\n",
    "            print('\\tNAME: ', findvalue(planet, 'name'))\n",
    "            print('\\tMASS MEASURES: ', findvalue(planet, 'mass').machine_readable())\n",
    "            print('\\tRADIUS MESASURES: ', findvalue(star, 'radius').machine_readable())\n",
    "            pass\n",
    "        else:\n",
    "            #print('Null')\n",
    "            pass"
   ]
  },
  {
   "cell_type": "markdown",
   "id": "0e132946-acb4-438f-91d4-435374e0a056",
   "metadata": {},
   "source": [
    "This is information on each planet: name, mass, equitorial radius"
   ]
  },
  {
   "cell_type": "code",
   "execution_count": 73,
   "id": "596e2c22-f9bc-4b8b-bb62-ad56ce11e921",
   "metadata": {},
   "outputs": [
    {
     "data": {
      "text/html": [
       "<div>\n",
       "<style scoped>\n",
       "    .dataframe tbody tr th:only-of-type {\n",
       "        vertical-align: middle;\n",
       "    }\n",
       "\n",
       "    .dataframe tbody tr th {\n",
       "        vertical-align: top;\n",
       "    }\n",
       "\n",
       "    .dataframe thead th {\n",
       "        text-align: right;\n",
       "    }\n",
       "</style>\n",
       "<table border=\"1\" class=\"dataframe\">\n",
       "  <thead>\n",
       "    <tr style=\"text-align: right;\">\n",
       "      <th></th>\n",
       "      <th>name</th>\n",
       "      <th>transittime</th>\n",
       "      <th>radius</th>\n",
       "      <th>semimajoraxis</th>\n",
       "      <th>temperature</th>\n",
       "      <th>mass</th>\n",
       "      <th>lastupdate</th>\n",
       "    </tr>\n",
       "  </thead>\n",
       "  <tbody>\n",
       "    <tr>\n",
       "      <th>0</th>\n",
       "      <td>TRAPPIST-1 b</td>\n",
       "      <td>2457606.56117</td>\n",
       "      <td>0.10001</td>\n",
       "      <td>0.01154775</td>\n",
       "      <td>400.1</td>\n",
       "      <td>0.003200</td>\n",
       "      <td>18/09/18</td>\n",
       "    </tr>\n",
       "    <tr>\n",
       "      <th>1</th>\n",
       "      <td>TRAPPIST-1 c</td>\n",
       "      <td>2457568.58230</td>\n",
       "      <td>0.09769</td>\n",
       "      <td>0.01581512</td>\n",
       "      <td>341.9</td>\n",
       "      <td>0.003637</td>\n",
       "      <td>18/09/18</td>\n",
       "    </tr>\n",
       "    <tr>\n",
       "      <th>2</th>\n",
       "      <td>TRAPPIST-1 d</td>\n",
       "      <td>2457682.2921</td>\n",
       "      <td>0.06994</td>\n",
       "      <td>0.02228038</td>\n",
       "      <td>288.0</td>\n",
       "      <td>0.000934</td>\n",
       "      <td>18/09/18</td>\n",
       "    </tr>\n",
       "    <tr>\n",
       "      <th>3</th>\n",
       "      <td>TRAPPIST-1 e</td>\n",
       "      <td>2457574.9829</td>\n",
       "      <td>0.08118</td>\n",
       "      <td>0.02928285</td>\n",
       "      <td>251.3</td>\n",
       "      <td>0.002429</td>\n",
       "      <td>18/09/18</td>\n",
       "    </tr>\n",
       "    <tr>\n",
       "      <th>4</th>\n",
       "      <td>TRAPPIST-1 f</td>\n",
       "      <td>2457616.1548</td>\n",
       "      <td>0.09332</td>\n",
       "      <td>0.03853361</td>\n",
       "      <td>219.0</td>\n",
       "      <td>0.002939</td>\n",
       "      <td>18/09/18</td>\n",
       "    </tr>\n",
       "    <tr>\n",
       "      <th>5</th>\n",
       "      <td>TRAPPIST-1 g</td>\n",
       "      <td>2457529.4724</td>\n",
       "      <td>0.10242</td>\n",
       "      <td>0.04687692</td>\n",
       "      <td>198.6</td>\n",
       "      <td>0.003612</td>\n",
       "      <td>18/09/18</td>\n",
       "    </tr>\n",
       "    <tr>\n",
       "      <th>6</th>\n",
       "      <td>TRAPPIST-1 h</td>\n",
       "      <td>2457700.0875</td>\n",
       "      <td>0.06896</td>\n",
       "      <td>0.06193488</td>\n",
       "      <td>167</td>\n",
       "      <td>0.001041</td>\n",
       "      <td>18/09/18</td>\n",
       "    </tr>\n",
       "  </tbody>\n",
       "</table>\n",
       "</div>"
      ],
      "text/plain": [
       "           name    transittime   radius semimajoraxis temperature      mass  \\\n",
       "0  TRAPPIST-1 b  2457606.56117  0.10001    0.01154775       400.1  0.003200   \n",
       "1  TRAPPIST-1 c  2457568.58230  0.09769    0.01581512       341.9  0.003637   \n",
       "2  TRAPPIST-1 d   2457682.2921  0.06994    0.02228038       288.0  0.000934   \n",
       "3  TRAPPIST-1 e   2457574.9829  0.08118    0.02928285       251.3  0.002429   \n",
       "4  TRAPPIST-1 f   2457616.1548  0.09332    0.03853361       219.0  0.002939   \n",
       "5  TRAPPIST-1 g   2457529.4724  0.10242    0.04687692       198.6  0.003612   \n",
       "6  TRAPPIST-1 h   2457700.0875  0.06896    0.06193488         167  0.001041   \n",
       "\n",
       "  lastupdate  \n",
       "0   18/09/18  \n",
       "1   18/09/18  \n",
       "2   18/09/18  \n",
       "3   18/09/18  \n",
       "4   18/09/18  \n",
       "5   18/09/18  \n",
       "6   18/09/18  "
      ]
     },
     "execution_count": 73,
     "metadata": {},
     "output_type": "execute_result"
    }
   ],
   "source": [
    "trappist_data = []\n",
    "cols =  ['name', 'transittime', 'radius', 'semimajoraxis', 'temperature', 'mass', 'lastupdate']\n",
    "for star in data.findall(\".//star[name='TRAPPIST-1']\"):\n",
    "    for planet in star.findall(\".//planet\"):\n",
    "        temp = []\n",
    "        for column in cols:\n",
    "            temp.append(planet.find(column).text)\n",
    "        trappist_data.append(temp)\n",
    "trappist_data = pd.DataFrame(trappist_data, columns = cols)\n",
    "trappist_data"
   ]
  },
  {
   "cell_type": "code",
   "execution_count": 74,
   "id": "d9704e7b-6a9c-4742-be73-ff6970104db4",
   "metadata": {},
   "outputs": [
    {
     "name": "stdout",
     "output_type": "stream",
     "text": [
      "317.82760121898133 11.209\n"
     ]
    }
   ],
   "source": [
    "#Let's convert jupiter mass to earth!\n",
    "j_to_e_ratio_mass = (1.89813*10**27) / (5.9722*10**24)\n",
    "j_to_e_ratio_radi = 11.209\n",
    "print(j_to_e_ratio_mass, j_to_e_ratio_radi)\n",
    "trappist_data['mass'] = trappist_data['mass'].astype(float).multiply(other = j_to_e_ratio_mass)\n",
    "trappist_data['radius'] = trappist_data['radius'].astype(float).multiply(other = j_to_e_ratio_radi)"
   ]
  },
  {
   "cell_type": "code",
   "execution_count": 75,
   "id": "0d3910b0-2a6e-40de-aecc-da5f9249bba1",
   "metadata": {},
   "outputs": [
    {
     "data": {
      "text/html": [
       "<div>\n",
       "<style scoped>\n",
       "    .dataframe tbody tr th:only-of-type {\n",
       "        vertical-align: middle;\n",
       "    }\n",
       "\n",
       "    .dataframe tbody tr th {\n",
       "        vertical-align: top;\n",
       "    }\n",
       "\n",
       "    .dataframe thead th {\n",
       "        text-align: right;\n",
       "    }\n",
       "</style>\n",
       "<table border=\"1\" class=\"dataframe\">\n",
       "  <thead>\n",
       "    <tr style=\"text-align: right;\">\n",
       "      <th></th>\n",
       "      <th>name</th>\n",
       "      <th>transittime</th>\n",
       "      <th>radius</th>\n",
       "      <th>semimajoraxis</th>\n",
       "      <th>temperature</th>\n",
       "      <th>mass</th>\n",
       "      <th>lastupdate</th>\n",
       "    </tr>\n",
       "  </thead>\n",
       "  <tbody>\n",
       "    <tr>\n",
       "      <th>0</th>\n",
       "      <td>TRAPPIST-1 b</td>\n",
       "      <td>2457606.56117</td>\n",
       "      <td>1.121012</td>\n",
       "      <td>0.01154775</td>\n",
       "      <td>400.1</td>\n",
       "      <td>1.017048</td>\n",
       "      <td>18/09/18</td>\n",
       "    </tr>\n",
       "    <tr>\n",
       "      <th>1</th>\n",
       "      <td>TRAPPIST-1 c</td>\n",
       "      <td>2457568.58230</td>\n",
       "      <td>1.095007</td>\n",
       "      <td>0.01581512</td>\n",
       "      <td>341.9</td>\n",
       "      <td>1.155939</td>\n",
       "      <td>18/09/18</td>\n",
       "    </tr>\n",
       "    <tr>\n",
       "      <th>2</th>\n",
       "      <td>TRAPPIST-1 d</td>\n",
       "      <td>2457682.2921</td>\n",
       "      <td>0.783957</td>\n",
       "      <td>0.02228038</td>\n",
       "      <td>288.0</td>\n",
       "      <td>0.296851</td>\n",
       "      <td>18/09/18</td>\n",
       "    </tr>\n",
       "    <tr>\n",
       "      <th>3</th>\n",
       "      <td>TRAPPIST-1 e</td>\n",
       "      <td>2457574.9829</td>\n",
       "      <td>0.909947</td>\n",
       "      <td>0.02928285</td>\n",
       "      <td>251.3</td>\n",
       "      <td>0.772003</td>\n",
       "      <td>18/09/18</td>\n",
       "    </tr>\n",
       "    <tr>\n",
       "      <th>4</th>\n",
       "      <td>TRAPPIST-1 f</td>\n",
       "      <td>2457616.1548</td>\n",
       "      <td>1.046024</td>\n",
       "      <td>0.03853361</td>\n",
       "      <td>219.0</td>\n",
       "      <td>0.934095</td>\n",
       "      <td>18/09/18</td>\n",
       "    </tr>\n",
       "    <tr>\n",
       "      <th>5</th>\n",
       "      <td>TRAPPIST-1 g</td>\n",
       "      <td>2457529.4724</td>\n",
       "      <td>1.148026</td>\n",
       "      <td>0.04687692</td>\n",
       "      <td>198.6</td>\n",
       "      <td>1.147993</td>\n",
       "      <td>18/09/18</td>\n",
       "    </tr>\n",
       "    <tr>\n",
       "      <th>6</th>\n",
       "      <td>TRAPPIST-1 h</td>\n",
       "      <td>2457700.0875</td>\n",
       "      <td>0.772973</td>\n",
       "      <td>0.06193488</td>\n",
       "      <td>167</td>\n",
       "      <td>0.330859</td>\n",
       "      <td>18/09/18</td>\n",
       "    </tr>\n",
       "  </tbody>\n",
       "</table>\n",
       "</div>"
      ],
      "text/plain": [
       "           name    transittime    radius semimajoraxis temperature      mass  \\\n",
       "0  TRAPPIST-1 b  2457606.56117  1.121012    0.01154775       400.1  1.017048   \n",
       "1  TRAPPIST-1 c  2457568.58230  1.095007    0.01581512       341.9  1.155939   \n",
       "2  TRAPPIST-1 d   2457682.2921  0.783957    0.02228038       288.0  0.296851   \n",
       "3  TRAPPIST-1 e   2457574.9829  0.909947    0.02928285       251.3  0.772003   \n",
       "4  TRAPPIST-1 f   2457616.1548  1.046024    0.03853361       219.0  0.934095   \n",
       "5  TRAPPIST-1 g   2457529.4724  1.148026    0.04687692       198.6  1.147993   \n",
       "6  TRAPPIST-1 h   2457700.0875  0.772973    0.06193488         167  0.330859   \n",
       "\n",
       "  lastupdate  \n",
       "0   18/09/18  \n",
       "1   18/09/18  \n",
       "2   18/09/18  \n",
       "3   18/09/18  \n",
       "4   18/09/18  \n",
       "5   18/09/18  \n",
       "6   18/09/18  "
      ]
     },
     "execution_count": 75,
     "metadata": {},
     "output_type": "execute_result"
    }
   ],
   "source": [
    "trappist_data"
   ]
  },
  {
   "cell_type": "code",
   "execution_count": 76,
   "id": "2aa159b3-53c3-4d2a-93de-ca5d33f4f09a",
   "metadata": {},
   "outputs": [
    {
     "data": {
      "text/html": [
       "\n",
       "\n",
       "\n",
       "\n",
       "\n",
       "\n",
       "  <div class=\"bk-root\" id=\"76fb9e49-aefb-4d1a-980d-4afb176f00c4\" data-root-id=\"4197\"></div>\n"
      ]
     },
     "metadata": {},
     "output_type": "display_data"
    },
    {
     "data": {
      "application/javascript": [
       "(function(root) {\n",
       "  function embed_document(root) {\n",
       "    \n",
       "  var docs_json = {\"28e287d7-b9f0-4eba-86fc-9db3f19b8b18\":{\"defs\":[],\"roots\":{\"references\":[{\"attributes\":{\"below\":[{\"id\":\"4207\"}],\"center\":[{\"id\":\"4210\"},{\"id\":\"4214\"},{\"id\":\"4234\"}],\"height\":500,\"left\":[{\"id\":\"4211\"}],\"renderers\":[{\"id\":\"4232\"}],\"title\":{\"id\":\"4198\"},\"toolbar\":{\"id\":\"4222\"},\"width\":1000,\"x_range\":{\"id\":\"4196\"},\"x_scale\":{\"id\":\"4203\"},\"y_range\":{\"id\":\"4201\"},\"y_scale\":{\"id\":\"4205\"}},\"id\":\"4197\",\"subtype\":\"Figure\",\"type\":\"Plot\"},{\"attributes\":{},\"id\":\"4219\",\"type\":\"ResetTool\"},{\"attributes\":{},\"id\":\"4216\",\"type\":\"WheelZoomTool\"},{\"attributes\":{\"end\":0.08},\"id\":\"4196\",\"type\":\"Range1d\"},{\"attributes\":{\"data_source\":{\"id\":\"4195\"},\"glyph\":{\"id\":\"4230\"},\"hover_glyph\":null,\"muted_glyph\":null,\"nonselection_glyph\":{\"id\":\"4231\"},\"view\":{\"id\":\"4233\"}},\"id\":\"4232\",\"type\":\"GlyphRenderer\"},{\"attributes\":{\"fill_alpha\":{\"value\":0.1},\"fill_color\":{\"value\":\"#1f77b4\"},\"line_alpha\":{\"value\":0.1},\"line_color\":{\"value\":\"#1f77b4\"},\"size\":{\"value\":10},\"x\":{\"field\":\"semi_major\"},\"y\":{\"field\":\"mass\"}},\"id\":\"4231\",\"type\":\"Scatter\"},{\"attributes\":{\"source\":{\"id\":\"4195\"},\"text\":{\"field\":\"name\"},\"x\":{\"field\":\"semi_major\"},\"x_offset\":{\"value\":10},\"y\":{\"field\":\"mass\"}},\"id\":\"4234\",\"type\":\"LabelSet\"},{\"attributes\":{},\"id\":\"4389\",\"type\":\"AllLabels\"},{\"attributes\":{\"data\":{\"mass\":{\"__ndarray__\":\"Sq+ZdtRF8D/neLfguX7yP7DTOUCb/9I/O4NUJUC06D/nf1XeG+TtP4lFyjcuXvI/DZWRRMks1T8=\",\"dtype\":\"float64\",\"order\":\"little\",\"shape\":[7]},\"name\":[\"TRAPPIST-1 b\",\"TRAPPIST-1 c\",\"TRAPPIST-1 d\",\"TRAPPIST-1 e\",\"TRAPPIST-1 f\",\"TRAPPIST-1 g\",\"TRAPPIST-1 h\"],\"semi_major\":[0.01154775,0.01581512,0.02228038,0.02928285,0.03853361,0.04687692,0.06193488]},\"selected\":{\"id\":\"4393\"},\"selection_policy\":{\"id\":\"4394\"}},\"id\":\"4195\",\"type\":\"ColumnDataSource\"},{\"attributes\":{},\"id\":\"4390\",\"type\":\"BasicTickFormatter\"},{\"attributes\":{},\"id\":\"4392\",\"type\":\"AllLabels\"},{\"attributes\":{},\"id\":\"4220\",\"type\":\"HelpTool\"},{\"attributes\":{\"axis_label\":\"Semi-Major Axis (AU)\",\"formatter\":{\"id\":\"4387\"},\"major_label_policy\":{\"id\":\"4389\"},\"ticker\":{\"id\":\"4208\"}},\"id\":\"4207\",\"type\":\"LinearAxis\"},{\"attributes\":{},\"id\":\"4208\",\"type\":\"BasicTicker\"},{\"attributes\":{\"text\":\"TRAPPIST-1 System\"},\"id\":\"4198\",\"type\":\"Title\"},{\"attributes\":{},\"id\":\"4393\",\"type\":\"Selection\"},{\"attributes\":{\"fill_color\":{\"value\":\"#1f77b4\"},\"line_color\":{\"value\":\"#1f77b4\"},\"size\":{\"value\":10},\"x\":{\"field\":\"semi_major\"},\"y\":{\"field\":\"mass\"}},\"id\":\"4230\",\"type\":\"Scatter\"},{\"attributes\":{\"axis\":{\"id\":\"4211\"},\"dimension\":1,\"ticker\":null},\"id\":\"4214\",\"type\":\"Grid\"},{\"attributes\":{},\"id\":\"4215\",\"type\":\"PanTool\"},{\"attributes\":{\"bottom_units\":\"screen\",\"fill_alpha\":0.5,\"fill_color\":\"lightgrey\",\"left_units\":\"screen\",\"level\":\"overlay\",\"line_alpha\":1.0,\"line_color\":\"black\",\"line_dash\":[4,4],\"line_width\":2,\"right_units\":\"screen\",\"syncable\":false,\"top_units\":\"screen\"},\"id\":\"4221\",\"type\":\"BoxAnnotation\"},{\"attributes\":{\"active_multi\":null,\"tools\":[{\"id\":\"4215\"},{\"id\":\"4216\"},{\"id\":\"4217\"},{\"id\":\"4218\"},{\"id\":\"4219\"},{\"id\":\"4220\"}]},\"id\":\"4222\",\"type\":\"Toolbar\"},{\"attributes\":{\"axis_label\":\"Mass (Earth Masses)\",\"formatter\":{\"id\":\"4390\"},\"major_label_policy\":{\"id\":\"4392\"},\"ticker\":{\"id\":\"4212\"}},\"id\":\"4211\",\"type\":\"LinearAxis\"},{\"attributes\":{},\"id\":\"4201\",\"type\":\"DataRange1d\"},{\"attributes\":{\"source\":{\"id\":\"4195\"}},\"id\":\"4233\",\"type\":\"CDSView\"},{\"attributes\":{},\"id\":\"4394\",\"type\":\"UnionRenderers\"},{\"attributes\":{},\"id\":\"4218\",\"type\":\"SaveTool\"},{\"attributes\":{},\"id\":\"4205\",\"type\":\"LinearScale\"},{\"attributes\":{},\"id\":\"4203\",\"type\":\"LinearScale\"},{\"attributes\":{\"axis\":{\"id\":\"4207\"},\"ticker\":null},\"id\":\"4210\",\"type\":\"Grid\"},{\"attributes\":{},\"id\":\"4387\",\"type\":\"BasicTickFormatter\"},{\"attributes\":{\"overlay\":{\"id\":\"4221\"}},\"id\":\"4217\",\"type\":\"BoxZoomTool\"},{\"attributes\":{},\"id\":\"4212\",\"type\":\"BasicTicker\"}],\"root_ids\":[\"4197\"]},\"title\":\"Bokeh Application\",\"version\":\"2.3.2\"}};\n",
       "  var render_items = [{\"docid\":\"28e287d7-b9f0-4eba-86fc-9db3f19b8b18\",\"root_ids\":[\"4197\"],\"roots\":{\"4197\":\"76fb9e49-aefb-4d1a-980d-4afb176f00c4\"}}];\n",
       "  root.Bokeh.embed.embed_items_notebook(docs_json, render_items);\n",
       "\n",
       "  }\n",
       "  if (root.Bokeh !== undefined) {\n",
       "    embed_document(root);\n",
       "  } else {\n",
       "    var attempts = 0;\n",
       "    var timer = setInterval(function(root) {\n",
       "      if (root.Bokeh !== undefined) {\n",
       "        clearInterval(timer);\n",
       "        embed_document(root);\n",
       "      } else {\n",
       "        attempts++;\n",
       "        if (attempts > 100) {\n",
       "          clearInterval(timer);\n",
       "          console.log(\"Bokeh: ERROR: Unable to run BokehJS code because BokehJS library is missing\");\n",
       "        }\n",
       "      }\n",
       "    }, 10, root)\n",
       "  }\n",
       "})(window);"
      ],
      "application/vnd.bokehjs_exec.v0+json": ""
     },
     "metadata": {
      "application/vnd.bokehjs_exec.v0+json": {
       "id": "4197"
      }
     },
     "output_type": "display_data"
    }
   ],
   "source": [
    "source = ColumnDataSource(data = dict(semi_major = trappist_data['semimajoraxis'].astype(float).tolist(),\n",
    "                                             mass = trappist_data['mass'],\n",
    "                                             name = trappist_data['name'].tolist()))\n",
    "\n",
    "p = figure(title = 'TRAPPIST-1 System', width = 1000, height = 500, x_range=Range1d(0, 0.08))\n",
    "p.scatter(x = 'semi_major', y = 'mass', source = source, size = 10)\n",
    "p.xaxis[0].axis_label = 'Semi-Major Axis (AU)'\n",
    "p.yaxis[0].axis_label = 'Mass (Earth Masses)'\n",
    "labels = LabelSet(x = 'semi_major', y = 'mass', text = 'name', x_offset=10, y_offset=0, source = source, render_mode = 'canvas')\n",
    "p.add_layout(labels)\n",
    "\n",
    "\n",
    "show(p)"
   ]
  },
  {
   "cell_type": "code",
   "execution_count": 77,
   "id": "cd95d3ba-b4f0-4f60-bd59-3f06379a4b3c",
   "metadata": {},
   "outputs": [],
   "source": [
    "#~~~~~~~~~~~~~~~~~~\n",
    "#~~~~Old method~~~~\n",
    "#~~~~~~~~~~~~~~~~~~\n",
    "\n",
    "# c = SkyCoord('23 06 29.383 -05 02 28.59', unit = (u.hourangle, u.deg))\n",
    "# trappist_data = Catalogs.query_region(c, catalog = 'TIC')\n",
    "# trappist_data[np.where(trappist_data['TWOMASS'].astype(str) == '23062928-0502285')[0]]\n",
    "\n",
    "# #Get data off of wikipedia because not all the info is on catalog:\n",
    "# trappist_lum = trappist_data['lum'][0]\n",
    "# print(trappist_lum)\n",
    "\n",
    "# #0.0 will not fly when we try to calculate habitable zones...\n",
    "# trappist_lum = trappist_lum + .001\n",
    "\n",
    "# R_inner = 0.75*np.sqrt(trappist_lum)\n",
    "# R_outer = 1.00*np.sqrt(trappist_lum)\n",
    "# print(R_inner, R_outer)"
   ]
  },
  {
   "cell_type": "code",
   "execution_count": 78,
   "id": "2c645e45-f197-4364-b369-31b1e7845aef",
   "metadata": {},
   "outputs": [
    {
     "name": "stdout",
     "output_type": "stream",
     "text": [
      "name:TRAPPIST-1\n",
      "name:2MASS J23062928-0502285\n",
      "name:K2-112\n",
      "name:EPIC 246199087\n",
      "name:Gaia DR2 2635476908753563008\n",
      "magV:18.798\n",
      "magR:16.401\n",
      "magI:13.966\n",
      "magJ:11.35\n",
      "magH:10.72\n",
      "magK:10.30\n",
      "spectraltype:M8 V\n",
      "temperature:2516\n",
      "metallicity:0.04\n",
      "radius:0.121\n",
      "mass:0.089\n",
      "age:7.6\n"
     ]
    }
   ],
   "source": [
    "#Let's take a look at the habitable zone of the trappist system!\n",
    "for star in data.findall(\".//star[name='TRAPPIST-1']\"):\n",
    "    for properties in star.findall('*'):\n",
    "        if properties.tag != 'planet':\n",
    "            print('{}:{}'.format(properties.tag, properties.text))"
   ]
  },
  {
   "cell_type": "code",
   "execution_count": 79,
   "id": "3217dd50-e032-4e61-a309-79ab86967628",
   "metadata": {},
   "outputs": [
    {
     "name": "stdout",
     "output_type": "stream",
     "text": [
      "TRAPPIST-1:\n",
      "\tAbsolute visual luminosity: 0.0005285766790681068\n",
      "\tInner habitable zone: 0.0172430966469428\n",
      "\tOuter habitable zone: 0.04069370808678501\n"
     ]
    }
   ],
   "source": [
    "#https://en.wikipedia.org/wiki/Sun\n",
    "#https://en.wikipedia.org/wiki/Luminosity\n",
    "#https://en.wikipedia.org/wiki/TRAPPIST-1#cite_note-6\n",
    "#https://exoplanetarchive.ipac.caltech.edu/docs/poet_calculations.html\n",
    "for star in data.findall(\".//star[name='TRAPPIST-1']\"):\n",
    "    trap_temp = float(star.find('temperature').text)\n",
    "    trap_rad = float(star.find('radius').text)\n",
    "trap_lum = ((trap_temp / 5772) **4) * trap_rad**2\n",
    "R_inner = 0.75*np.sqrt(trap_lum)\n",
    "R_outer = 1.77*np.sqrt(trap_lum)\n",
    "print('TRAPPIST-1:\\n\\tAbsolute visual luminosity: {}\\n\\tInner habitable zone: {}\\n\\tOuter habitable zone: {}'.format(trap_lum, R_inner, R_outer))"
   ]
  },
  {
   "cell_type": "code",
   "execution_count": 80,
   "id": "5cdadd65-d38f-4053-8431-e0582a2811b7",
   "metadata": {},
   "outputs": [
    {
     "data": {
      "text/html": [
       "\n",
       "\n",
       "\n",
       "\n",
       "\n",
       "\n",
       "  <div class=\"bk-root\" id=\"f78c092d-828d-4bca-bc70-d47ebff6c837\" data-root-id=\"4197\"></div>\n"
      ]
     },
     "metadata": {},
     "output_type": "display_data"
    },
    {
     "data": {
      "application/javascript": [
       "(function(root) {\n",
       "  function embed_document(root) {\n",
       "    \n",
       "  var docs_json = {\"a1d7c876-f29e-4876-abf8-3832f58fff98\":{\"defs\":[],\"roots\":{\"references\":[{\"attributes\":{\"below\":[{\"id\":\"4207\"}],\"center\":[{\"id\":\"4210\"},{\"id\":\"4214\"},{\"id\":\"4234\"}],\"height\":500,\"left\":[{\"id\":\"4211\"}],\"renderers\":[{\"id\":\"4232\"},{\"id\":\"4446\"},{\"id\":\"4447\"}],\"title\":{\"id\":\"4198\"},\"toolbar\":{\"id\":\"4222\"},\"width\":1000,\"x_range\":{\"id\":\"4196\"},\"x_scale\":{\"id\":\"4203\"},\"y_range\":{\"id\":\"4201\"},\"y_scale\":{\"id\":\"4205\"}},\"id\":\"4197\",\"subtype\":\"Figure\",\"type\":\"Plot\"},{\"attributes\":{},\"id\":\"4219\",\"type\":\"ResetTool\"},{\"attributes\":{\"dimension\":\"height\",\"line_color\":\"green\",\"line_dash\":[6],\"line_width\":3,\"location\":0.04069370808678501},\"id\":\"4447\",\"type\":\"Span\"},{\"attributes\":{},\"id\":\"4216\",\"type\":\"WheelZoomTool\"},{\"attributes\":{\"end\":0.08},\"id\":\"4196\",\"type\":\"Range1d\"},{\"attributes\":{\"data_source\":{\"id\":\"4195\"},\"glyph\":{\"id\":\"4230\"},\"hover_glyph\":null,\"muted_glyph\":null,\"nonselection_glyph\":{\"id\":\"4231\"},\"view\":{\"id\":\"4233\"}},\"id\":\"4232\",\"type\":\"GlyphRenderer\"},{\"attributes\":{\"fill_alpha\":{\"value\":0.1},\"fill_color\":{\"value\":\"#1f77b4\"},\"line_alpha\":{\"value\":0.1},\"line_color\":{\"value\":\"#1f77b4\"},\"size\":{\"value\":10},\"x\":{\"field\":\"semi_major\"},\"y\":{\"field\":\"mass\"}},\"id\":\"4231\",\"type\":\"Scatter\"},{\"attributes\":{\"source\":{\"id\":\"4195\"},\"text\":{\"field\":\"name\"},\"x\":{\"field\":\"semi_major\"},\"x_offset\":{\"value\":10},\"y\":{\"field\":\"mass\"}},\"id\":\"4234\",\"type\":\"LabelSet\"},{\"attributes\":{\"dimension\":\"height\",\"line_color\":\"green\",\"line_dash\":[6],\"line_width\":3,\"location\":0.0172430966469428},\"id\":\"4446\",\"type\":\"Span\"},{\"attributes\":{},\"id\":\"4389\",\"type\":\"AllLabels\"},{\"attributes\":{\"data\":{\"mass\":{\"__ndarray__\":\"Sq+ZdtRF8D/neLfguX7yP7DTOUCb/9I/O4NUJUC06D/nf1XeG+TtP4lFyjcuXvI/DZWRRMks1T8=\",\"dtype\":\"float64\",\"order\":\"little\",\"shape\":[7]},\"name\":[\"TRAPPIST-1 b\",\"TRAPPIST-1 c\",\"TRAPPIST-1 d\",\"TRAPPIST-1 e\",\"TRAPPIST-1 f\",\"TRAPPIST-1 g\",\"TRAPPIST-1 h\"],\"semi_major\":[0.01154775,0.01581512,0.02228038,0.02928285,0.03853361,0.04687692,0.06193488]},\"selected\":{\"id\":\"4393\"},\"selection_policy\":{\"id\":\"4394\"}},\"id\":\"4195\",\"type\":\"ColumnDataSource\"},{\"attributes\":{},\"id\":\"4390\",\"type\":\"BasicTickFormatter\"},{\"attributes\":{},\"id\":\"4392\",\"type\":\"AllLabels\"},{\"attributes\":{},\"id\":\"4220\",\"type\":\"HelpTool\"},{\"attributes\":{\"axis_label\":\"Semi-Major Axis (AU)\",\"formatter\":{\"id\":\"4387\"},\"major_label_policy\":{\"id\":\"4389\"},\"ticker\":{\"id\":\"4208\"}},\"id\":\"4207\",\"type\":\"LinearAxis\"},{\"attributes\":{},\"id\":\"4208\",\"type\":\"BasicTicker\"},{\"attributes\":{\"text\":\"TRAPPIST-1 System\"},\"id\":\"4198\",\"type\":\"Title\"},{\"attributes\":{},\"id\":\"4393\",\"type\":\"Selection\"},{\"attributes\":{\"fill_color\":{\"value\":\"#1f77b4\"},\"line_color\":{\"value\":\"#1f77b4\"},\"size\":{\"value\":10},\"x\":{\"field\":\"semi_major\"},\"y\":{\"field\":\"mass\"}},\"id\":\"4230\",\"type\":\"Scatter\"},{\"attributes\":{\"axis\":{\"id\":\"4211\"},\"dimension\":1,\"ticker\":null},\"id\":\"4214\",\"type\":\"Grid\"},{\"attributes\":{},\"id\":\"4215\",\"type\":\"PanTool\"},{\"attributes\":{\"bottom_units\":\"screen\",\"fill_alpha\":0.5,\"fill_color\":\"lightgrey\",\"left_units\":\"screen\",\"level\":\"overlay\",\"line_alpha\":1.0,\"line_color\":\"black\",\"line_dash\":[4,4],\"line_width\":2,\"right_units\":\"screen\",\"syncable\":false,\"top_units\":\"screen\"},\"id\":\"4221\",\"type\":\"BoxAnnotation\"},{\"attributes\":{\"active_multi\":null,\"tools\":[{\"id\":\"4215\"},{\"id\":\"4216\"},{\"id\":\"4217\"},{\"id\":\"4218\"},{\"id\":\"4219\"},{\"id\":\"4220\"}]},\"id\":\"4222\",\"type\":\"Toolbar\"},{\"attributes\":{\"axis_label\":\"Mass (Earth Masses)\",\"formatter\":{\"id\":\"4390\"},\"major_label_policy\":{\"id\":\"4392\"},\"ticker\":{\"id\":\"4212\"}},\"id\":\"4211\",\"type\":\"LinearAxis\"},{\"attributes\":{},\"id\":\"4201\",\"type\":\"DataRange1d\"},{\"attributes\":{\"source\":{\"id\":\"4195\"}},\"id\":\"4233\",\"type\":\"CDSView\"},{\"attributes\":{},\"id\":\"4394\",\"type\":\"UnionRenderers\"},{\"attributes\":{},\"id\":\"4218\",\"type\":\"SaveTool\"},{\"attributes\":{},\"id\":\"4205\",\"type\":\"LinearScale\"},{\"attributes\":{},\"id\":\"4203\",\"type\":\"LinearScale\"},{\"attributes\":{\"axis\":{\"id\":\"4207\"},\"ticker\":null},\"id\":\"4210\",\"type\":\"Grid\"},{\"attributes\":{},\"id\":\"4387\",\"type\":\"BasicTickFormatter\"},{\"attributes\":{\"overlay\":{\"id\":\"4221\"}},\"id\":\"4217\",\"type\":\"BoxZoomTool\"},{\"attributes\":{},\"id\":\"4212\",\"type\":\"BasicTicker\"}],\"root_ids\":[\"4197\"]},\"title\":\"Bokeh Application\",\"version\":\"2.3.2\"}};\n",
       "  var render_items = [{\"docid\":\"a1d7c876-f29e-4876-abf8-3832f58fff98\",\"root_ids\":[\"4197\"],\"roots\":{\"4197\":\"f78c092d-828d-4bca-bc70-d47ebff6c837\"}}];\n",
       "  root.Bokeh.embed.embed_items_notebook(docs_json, render_items);\n",
       "\n",
       "  }\n",
       "  if (root.Bokeh !== undefined) {\n",
       "    embed_document(root);\n",
       "  } else {\n",
       "    var attempts = 0;\n",
       "    var timer = setInterval(function(root) {\n",
       "      if (root.Bokeh !== undefined) {\n",
       "        clearInterval(timer);\n",
       "        embed_document(root);\n",
       "      } else {\n",
       "        attempts++;\n",
       "        if (attempts > 100) {\n",
       "          clearInterval(timer);\n",
       "          console.log(\"Bokeh: ERROR: Unable to run BokehJS code because BokehJS library is missing\");\n",
       "        }\n",
       "      }\n",
       "    }, 10, root)\n",
       "  }\n",
       "})(window);"
      ],
      "application/vnd.bokehjs_exec.v0+json": ""
     },
     "metadata": {
      "application/vnd.bokehjs_exec.v0+json": {
       "id": "4197"
      }
     },
     "output_type": "display_data"
    }
   ],
   "source": [
    "p2 = p\n",
    "r_in_plot  = Span(location = R_inner, dimension = 'height', line_color = 'green', line_width = 3, line_dash = 'dashed')\n",
    "r_out_plot = Span(location = R_outer, dimension = 'height', line_color = 'green', line_width = 3, line_dash = 'dashed')\n",
    "\n",
    "p2.renderers.extend([r_in_plot, r_out_plot])\n",
    "show(p2)"
   ]
  },
  {
   "cell_type": "code",
   "execution_count": 100,
   "id": "5d8726f2-105e-4698-ae52-09e641e9aaff",
   "metadata": {},
   "outputs": [
    {
     "data": {
      "text/html": [
       "<div>\n",
       "<style scoped>\n",
       "    .dataframe tbody tr th:only-of-type {\n",
       "        vertical-align: middle;\n",
       "    }\n",
       "\n",
       "    .dataframe tbody tr th {\n",
       "        vertical-align: top;\n",
       "    }\n",
       "\n",
       "    .dataframe thead th {\n",
       "        text-align: right;\n",
       "    }\n",
       "</style>\n",
       "<table border=\"1\" class=\"dataframe\">\n",
       "  <thead>\n",
       "    <tr style=\"text-align: right;\">\n",
       "      <th></th>\n",
       "      <th>name</th>\n",
       "      <th>transittime</th>\n",
       "      <th>radius</th>\n",
       "      <th>semimajoraxis</th>\n",
       "      <th>temperature</th>\n",
       "      <th>mass</th>\n",
       "      <th>lastupdate</th>\n",
       "    </tr>\n",
       "  </thead>\n",
       "  <tbody>\n",
       "    <tr>\n",
       "      <th>0</th>\n",
       "      <td>TRAPPIST-1 b</td>\n",
       "      <td>2457606.56117</td>\n",
       "      <td>1.121012</td>\n",
       "      <td>0.01154775</td>\n",
       "      <td>400.1</td>\n",
       "      <td>1.017048</td>\n",
       "      <td>18/09/18</td>\n",
       "    </tr>\n",
       "    <tr>\n",
       "      <th>1</th>\n",
       "      <td>TRAPPIST-1 c</td>\n",
       "      <td>2457568.58230</td>\n",
       "      <td>1.095007</td>\n",
       "      <td>0.01581512</td>\n",
       "      <td>341.9</td>\n",
       "      <td>1.155939</td>\n",
       "      <td>18/09/18</td>\n",
       "    </tr>\n",
       "    <tr>\n",
       "      <th>2</th>\n",
       "      <td>TRAPPIST-1 d</td>\n",
       "      <td>2457682.2921</td>\n",
       "      <td>0.783957</td>\n",
       "      <td>0.02228038</td>\n",
       "      <td>288.0</td>\n",
       "      <td>0.296851</td>\n",
       "      <td>18/09/18</td>\n",
       "    </tr>\n",
       "    <tr>\n",
       "      <th>3</th>\n",
       "      <td>TRAPPIST-1 e</td>\n",
       "      <td>2457574.9829</td>\n",
       "      <td>0.909947</td>\n",
       "      <td>0.02928285</td>\n",
       "      <td>251.3</td>\n",
       "      <td>0.772003</td>\n",
       "      <td>18/09/18</td>\n",
       "    </tr>\n",
       "    <tr>\n",
       "      <th>4</th>\n",
       "      <td>TRAPPIST-1 f</td>\n",
       "      <td>2457616.1548</td>\n",
       "      <td>1.046024</td>\n",
       "      <td>0.03853361</td>\n",
       "      <td>219.0</td>\n",
       "      <td>0.934095</td>\n",
       "      <td>18/09/18</td>\n",
       "    </tr>\n",
       "    <tr>\n",
       "      <th>5</th>\n",
       "      <td>TRAPPIST-1 g</td>\n",
       "      <td>2457529.4724</td>\n",
       "      <td>1.148026</td>\n",
       "      <td>0.04687692</td>\n",
       "      <td>198.6</td>\n",
       "      <td>1.147993</td>\n",
       "      <td>18/09/18</td>\n",
       "    </tr>\n",
       "    <tr>\n",
       "      <th>6</th>\n",
       "      <td>TRAPPIST-1 h</td>\n",
       "      <td>2457700.0875</td>\n",
       "      <td>0.772973</td>\n",
       "      <td>0.06193488</td>\n",
       "      <td>167</td>\n",
       "      <td>0.330859</td>\n",
       "      <td>18/09/18</td>\n",
       "    </tr>\n",
       "  </tbody>\n",
       "</table>\n",
       "</div>"
      ],
      "text/plain": [
       "           name    transittime    radius semimajoraxis temperature      mass  \\\n",
       "0  TRAPPIST-1 b  2457606.56117  1.121012    0.01154775       400.1  1.017048   \n",
       "1  TRAPPIST-1 c  2457568.58230  1.095007    0.01581512       341.9  1.155939   \n",
       "2  TRAPPIST-1 d   2457682.2921  0.783957    0.02228038       288.0  0.296851   \n",
       "3  TRAPPIST-1 e   2457574.9829  0.909947    0.02928285       251.3  0.772003   \n",
       "4  TRAPPIST-1 f   2457616.1548  1.046024    0.03853361       219.0  0.934095   \n",
       "5  TRAPPIST-1 g   2457529.4724  1.148026    0.04687692       198.6  1.147993   \n",
       "6  TRAPPIST-1 h   2457700.0875  0.772973    0.06193488         167  0.330859   \n",
       "\n",
       "  lastupdate  \n",
       "0   18/09/18  \n",
       "1   18/09/18  \n",
       "2   18/09/18  \n",
       "3   18/09/18  \n",
       "4   18/09/18  \n",
       "5   18/09/18  \n",
       "6   18/09/18  "
      ]
     },
     "execution_count": 100,
     "metadata": {},
     "output_type": "execute_result"
    }
   ],
   "source": [
    "trappist_data"
   ]
  },
  {
   "cell_type": "code",
   "execution_count": 126,
   "id": "f1e3057e-5273-4ba0-95ea-b7dee474d957",
   "metadata": {},
   "outputs": [
    {
     "data": {
      "text/html": [
       "\n",
       "\n",
       "\n",
       "\n",
       "\n",
       "\n",
       "  <div class=\"bk-root\" id=\"9c1fb675-73ea-4040-a23f-7d8edf040b9a\" data-root-id=\"15821\"></div>\n"
      ]
     },
     "metadata": {},
     "output_type": "display_data"
    },
    {
     "data": {
      "application/javascript": [
       "(function(root) {\n",
       "  function embed_document(root) {\n",
       "    \n",
       "  var docs_json = {\"c875d842-e16f-4bf8-8fd3-1ff0c93b7e6b\":{\"defs\":[],\"roots\":{\"references\":[{\"attributes\":{\"below\":[{\"id\":\"15831\"}],\"center\":[{\"id\":\"15834\"},{\"id\":\"15838\"},{\"id\":\"15858\"}],\"height\":500,\"left\":[{\"id\":\"15835\"}],\"renderers\":[{\"id\":\"15856\"},{\"id\":\"15860\"},{\"id\":\"15861\"}],\"title\":{\"id\":\"15822\"},\"toolbar\":{\"id\":\"15846\"},\"width\":2500,\"x_range\":{\"id\":\"15820\"},\"x_scale\":{\"id\":\"15827\"},\"y_range\":{\"id\":\"15825\"},\"y_scale\":{\"id\":\"15829\"}},\"id\":\"15821\",\"subtype\":\"Figure\",\"type\":\"Plot\"},{\"attributes\":{\"bottom_units\":\"screen\",\"fill_alpha\":0.5,\"fill_color\":\"lightgrey\",\"left_units\":\"screen\",\"level\":\"overlay\",\"line_alpha\":1.0,\"line_color\":\"black\",\"line_dash\":[4,4],\"line_width\":2,\"right_units\":\"screen\",\"syncable\":false,\"top_units\":\"screen\"},\"id\":\"15845\",\"type\":\"BoxAnnotation\"},{\"attributes\":{},\"id\":\"15832\",\"type\":\"BasicTicker\"},{\"attributes\":{\"data_source\":{\"id\":\"15819\"},\"glyph\":{\"id\":\"15854\"},\"hover_glyph\":null,\"muted_glyph\":null,\"nonselection_glyph\":{\"id\":\"15855\"},\"view\":{\"id\":\"15857\"}},\"id\":\"15856\",\"type\":\"GlyphRenderer\"},{\"attributes\":{\"axis_label\":\"Mass (Earth Masses)\",\"formatter\":{\"id\":\"16306\"},\"major_label_policy\":{\"id\":\"16308\"},\"ticker\":{\"id\":\"15836\"}},\"id\":\"15835\",\"type\":\"LinearAxis\"},{\"attributes\":{\"fill_alpha\":{\"value\":0.1},\"fill_color\":{\"value\":\"#1f77b4\"},\"line_alpha\":{\"value\":0.1},\"line_color\":{\"value\":\"#1f77b4\"},\"radius\":{\"field\":\"radius\"},\"x\":{\"field\":\"semi_major\"},\"y\":{\"field\":\"mass\"}},\"id\":\"15855\",\"type\":\"Circle\"},{\"attributes\":{},\"id\":\"15825\",\"type\":\"DataRange1d\"},{\"attributes\":{\"source\":{\"id\":\"15819\"}},\"id\":\"15857\",\"type\":\"CDSView\"},{\"attributes\":{\"axis_label\":\"Semi-Major Axis (AU)\",\"formatter\":{\"id\":\"16303\"},\"major_label_policy\":{\"id\":\"16305\"},\"ticker\":{\"id\":\"15832\"}},\"id\":\"15831\",\"type\":\"LinearAxis\"},{\"attributes\":{},\"id\":\"15827\",\"type\":\"LinearScale\"},{\"attributes\":{\"active_multi\":null,\"tools\":[{\"id\":\"15839\"},{\"id\":\"15840\"},{\"id\":\"15841\"},{\"id\":\"15842\"},{\"id\":\"15843\"},{\"id\":\"15844\"}]},\"id\":\"15846\",\"type\":\"Toolbar\"},{\"attributes\":{\"dimension\":\"height\",\"line_color\":\"green\",\"line_dash\":[6],\"line_width\":3,\"location\":0.04069370808678501},\"id\":\"15861\",\"type\":\"Span\"},{\"attributes\":{},\"id\":\"15844\",\"type\":\"HelpTool\"},{\"attributes\":{\"dimension\":\"height\",\"line_color\":\"green\",\"line_dash\":[6],\"line_width\":3,\"location\":0.0172430966469428},\"id\":\"15860\",\"type\":\"Span\"},{\"attributes\":{},\"id\":\"15829\",\"type\":\"LinearScale\"},{\"attributes\":{\"axis\":{\"id\":\"15831\"},\"ticker\":null},\"id\":\"15834\",\"type\":\"Grid\"},{\"attributes\":{\"axis\":{\"id\":\"15835\"},\"dimension\":1,\"ticker\":null},\"id\":\"15838\",\"type\":\"Grid\"},{\"attributes\":{},\"id\":\"15836\",\"type\":\"BasicTicker\"},{\"attributes\":{},\"id\":\"15839\",\"type\":\"PanTool\"},{\"attributes\":{\"overlay\":{\"id\":\"15845\"}},\"id\":\"15841\",\"type\":\"BoxZoomTool\"},{\"attributes\":{},\"id\":\"15842\",\"type\":\"SaveTool\"},{\"attributes\":{},\"id\":\"16306\",\"type\":\"BasicTickFormatter\"},{\"attributes\":{},\"id\":\"15843\",\"type\":\"ResetTool\"},{\"attributes\":{},\"id\":\"16308\",\"type\":\"AllLabels\"},{\"attributes\":{\"text\":\"TRAPPIST-1 System & Earth\"},\"id\":\"15822\",\"type\":\"Title\"},{\"attributes\":{\"data\":{\"mass\":[1.0170483239007404,1.155938985633435,0.29685097953852857,0.7720032433609058,0.9340953199825862,1.1479932956029606,0.33085853286895955,1],\"name\":[\"b\",\"c\",\"d\",\"e\",\"f\",\"g\",\"h\",\"Earth\"],\"radius\":[0.007473413933333333,0.007300048066666666,0.005226383066666666,0.0060663108,0.006973492533333333,0.0076535052,0.005153150933333333,0.006666666666666667],\"semi_major\":[0.01154775,0.01581512,0.02228038,0.02928285,0.03853361,0.04687692,0.06193488,1]},\"selected\":{\"id\":\"16309\"},\"selection_policy\":{\"id\":\"16310\"}},\"id\":\"15819\",\"type\":\"ColumnDataSource\"},{\"attributes\":{\"fill_color\":{\"value\":\"#1f77b4\"},\"line_color\":{\"value\":\"#1f77b4\"},\"radius\":{\"field\":\"radius\"},\"x\":{\"field\":\"semi_major\"},\"y\":{\"field\":\"mass\"}},\"id\":\"15854\",\"type\":\"Circle\"},{\"attributes\":{},\"id\":\"15840\",\"type\":\"WheelZoomTool\"},{\"attributes\":{\"end\":1.2},\"id\":\"15820\",\"type\":\"Range1d\"},{\"attributes\":{},\"id\":\"16303\",\"type\":\"BasicTickFormatter\"},{\"attributes\":{\"source\":{\"id\":\"15819\"},\"text\":{\"field\":\"name\"},\"x\":{\"field\":\"semi_major\"},\"x_offset\":{\"value\":20},\"y\":{\"field\":\"mass\"}},\"id\":\"15858\",\"type\":\"LabelSet\"},{\"attributes\":{},\"id\":\"16305\",\"type\":\"AllLabels\"},{\"attributes\":{},\"id\":\"16309\",\"type\":\"Selection\"},{\"attributes\":{},\"id\":\"16310\",\"type\":\"UnionRenderers\"}],\"root_ids\":[\"15821\"]},\"title\":\"Bokeh Application\",\"version\":\"2.3.2\"}};\n",
       "  var render_items = [{\"docid\":\"c875d842-e16f-4bf8-8fd3-1ff0c93b7e6b\",\"root_ids\":[\"15821\"],\"roots\":{\"15821\":\"9c1fb675-73ea-4040-a23f-7d8edf040b9a\"}}];\n",
       "  root.Bokeh.embed.embed_items_notebook(docs_json, render_items);\n",
       "\n",
       "  }\n",
       "  if (root.Bokeh !== undefined) {\n",
       "    embed_document(root);\n",
       "  } else {\n",
       "    var attempts = 0;\n",
       "    var timer = setInterval(function(root) {\n",
       "      if (root.Bokeh !== undefined) {\n",
       "        clearInterval(timer);\n",
       "        embed_document(root);\n",
       "      } else {\n",
       "        attempts++;\n",
       "        if (attempts > 100) {\n",
       "          clearInterval(timer);\n",
       "          console.log(\"Bokeh: ERROR: Unable to run BokehJS code because BokehJS library is missing\");\n",
       "        }\n",
       "      }\n",
       "    }, 10, root)\n",
       "  }\n",
       "})(window);"
      ],
      "application/vnd.bokehjs_exec.v0+json": ""
     },
     "metadata": {
      "application/vnd.bokehjs_exec.v0+json": {
       "id": "15821"
      }
     },
     "output_type": "display_data"
    }
   ],
   "source": [
    "#Adding in Earth for reference. We know Earth is habitable, but we're so far away from TRAPPIST-1's. Why is that?\n",
    "source = ColumnDataSource(data = dict(semi_major = trappist_data['semimajoraxis'].astype(float).tolist() + [1],\n",
    "                                             mass = trappist_data['mass'].tolist() + [1],\n",
    "                                             name = [planet[-1] for planet in trappist_data['name'].tolist()] + ['Earth'],\n",
    "                                             radius = [i/150 for i in trappist_data['radius'].tolist() + [1]]))\n",
    "p3 = figure(title = 'TRAPPIST-1 System & Earth', width = 2500, height = 500, x_range=Range1d(0, 1.2))\n",
    "p3.circle(x = 'semi_major', y = 'mass', radius = 'radius', source = source)\n",
    "p3.xaxis[0].axis_label = 'Semi-Major Axis (AU)'\n",
    "p3.yaxis[0].axis_label = 'Mass (Earth Masses)'\n",
    "labels = LabelSet(x = 'semi_major', y = 'mass', text = 'name', x_offset=20, y_offset=0, source = source, render_mode = 'canvas')\n",
    "p3.add_layout(labels)\n",
    "\n",
    "r_in_plot  = Span(location = R_inner, dimension = 'height', line_color = 'green', line_width = 3, line_dash = 'dashed')\n",
    "r_out_plot = Span(location = R_outer, dimension = 'height', line_color = 'green', line_width = 3, line_dash = 'dashed')\n",
    "\n",
    "p3.renderers.extend([r_in_plot, r_out_plot])\n",
    "\n",
    "show(p3)"
   ]
  },
  {
   "cell_type": "code",
   "execution_count": 129,
   "id": "6fc45226-5b50-44d8-8a99-a8fcc8fc1c07",
   "metadata": {},
   "outputs": [
    {
     "data": {
      "text/plain": [
       "2516.0"
      ]
     },
     "execution_count": 129,
     "metadata": {},
     "output_type": "execute_result"
    }
   ],
   "source": [
    "trap_temp"
   ]
  },
  {
   "cell_type": "code",
   "execution_count": 133,
   "id": "ab29533e-6f99-4d58-a060-ea16cf751647",
   "metadata": {},
   "outputs": [
    {
     "name": "stdout",
     "output_type": "stream",
     "text": [
      "Sol:\n",
      "\tAbsolute visual luminosity: 1\n",
      "\tInner habitable zone: 0.75\n",
      "\tOuter habitable zone: 1.77\n"
     ]
    }
   ],
   "source": [
    "#https://en.wikipedia.org/wiki/Sun\n",
    "#https://en.wikipedia.org/wiki/Luminosity\n",
    "#https://en.wikipedia.org/wiki/TRAPPIST-1#cite_note-6\n",
    "#https://exoplanetarchive.ipac.caltech.edu/docs/poet_calculations.html\n",
    "sun_lum = 1 # Unit of Sol Luminosity\n",
    "R_inner = 0.75*np.sqrt(sun_lum)\n",
    "R_outer = 1.77*np.sqrt(sun_lum)\n",
    "print('Sol:\\n\\tAbsolute visual luminosity: {}\\n\\tInner habitable zone: {}\\n\\tOuter habitable zone: {}'.format(sun_lum, R_inner, R_outer))"
   ]
  },
  {
   "cell_type": "code",
   "execution_count": 137,
   "id": "93a49d3c-5577-49ca-a097-6bc8b3bda4cb",
   "metadata": {},
   "outputs": [
    {
     "data": {
      "text/html": [
       "\n",
       "\n",
       "\n",
       "\n",
       "\n",
       "\n",
       "  <div class=\"bk-root\" id=\"8c4efbb8-5c34-43d3-8322-f7b0b8b9e878\" data-root-id=\"15821\"></div>\n"
      ]
     },
     "metadata": {},
     "output_type": "display_data"
    },
    {
     "data": {
      "application/javascript": [
       "(function(root) {\n",
       "  function embed_document(root) {\n",
       "    \n",
       "  var docs_json = {\"31cd9a9d-15d6-4c94-96f8-2a86a421c67b\":{\"defs\":[],\"roots\":{\"references\":[{\"attributes\":{\"below\":[{\"id\":\"15831\"}],\"center\":[{\"id\":\"15834\"},{\"id\":\"15838\"},{\"id\":\"15858\"}],\"height\":500,\"left\":[{\"id\":\"15835\"}],\"renderers\":[{\"id\":\"15856\"},{\"id\":\"15860\"},{\"id\":\"15861\"},{\"id\":\"16362\"},{\"id\":\"16363\"},{\"id\":\"16814\"},{\"id\":\"16815\"},{\"id\":\"17316\"},{\"id\":\"17317\"},{\"id\":\"18269\"},{\"id\":\"18270\"}],\"title\":{\"id\":\"15822\"},\"toolbar\":{\"id\":\"15846\"},\"width\":2500,\"x_range\":{\"id\":\"18721\"},\"x_scale\":{\"id\":\"15827\"},\"y_range\":{\"id\":\"15825\"},\"y_scale\":{\"id\":\"15829\"}},\"id\":\"15821\",\"subtype\":\"Figure\",\"type\":\"Plot\"},{\"attributes\":{\"dimension\":\"height\",\"line_color\":\"green\",\"line_dash\":[6],\"line_width\":3,\"location\":1.77},\"id\":\"16815\",\"type\":\"Span\"},{\"attributes\":{\"bottom_units\":\"screen\",\"fill_alpha\":0.5,\"fill_color\":\"lightgrey\",\"left_units\":\"screen\",\"level\":\"overlay\",\"line_alpha\":1.0,\"line_color\":\"black\",\"line_dash\":[4,4],\"line_width\":2,\"right_units\":\"screen\",\"syncable\":false,\"top_units\":\"screen\"},\"id\":\"15845\",\"type\":\"BoxAnnotation\"},{\"attributes\":{\"end\":2},\"id\":\"18721\",\"type\":\"Range1d\"},{\"attributes\":{},\"id\":\"15832\",\"type\":\"BasicTicker\"},{\"attributes\":{\"data_source\":{\"id\":\"15819\"},\"glyph\":{\"id\":\"15854\"},\"hover_glyph\":null,\"muted_glyph\":null,\"nonselection_glyph\":{\"id\":\"15855\"},\"view\":{\"id\":\"15857\"}},\"id\":\"15856\",\"type\":\"GlyphRenderer\"},{\"attributes\":{\"axis_label\":\"Mass (Earth Masses)\",\"formatter\":{\"id\":\"16306\"},\"major_label_policy\":{\"id\":\"16308\"},\"ticker\":{\"id\":\"15836\"}},\"id\":\"15835\",\"type\":\"LinearAxis\"},{\"attributes\":{\"dimension\":\"height\",\"line_color\":\"green\",\"line_dash\":[6],\"line_width\":3,\"location\":1.77},\"id\":\"17317\",\"type\":\"Span\"},{\"attributes\":{},\"id\":\"15825\",\"type\":\"DataRange1d\"},{\"attributes\":{\"fill_alpha\":{\"value\":0.1},\"fill_color\":{\"value\":\"#1f77b4\"},\"line_alpha\":{\"value\":0.1},\"line_color\":{\"value\":\"#1f77b4\"},\"radius\":{\"field\":\"radius\"},\"x\":{\"field\":\"semi_major\"},\"y\":{\"field\":\"mass\"}},\"id\":\"15855\",\"type\":\"Circle\"},{\"attributes\":{\"source\":{\"id\":\"15819\"}},\"id\":\"15857\",\"type\":\"CDSView\"},{\"attributes\":{\"axis_label\":\"Semi-Major Axis (AU)\",\"formatter\":{\"id\":\"16303\"},\"major_label_policy\":{\"id\":\"16305\"},\"ticker\":{\"id\":\"15832\"}},\"id\":\"15831\",\"type\":\"LinearAxis\"},{\"attributes\":{\"dimension\":\"height\",\"line_color\":\"green\",\"line_dash\":[6],\"line_width\":3,\"location\":0.75},\"id\":\"17316\",\"type\":\"Span\"},{\"attributes\":{},\"id\":\"15827\",\"type\":\"LinearScale\"},{\"attributes\":{\"active_multi\":null,\"tools\":[{\"id\":\"15839\"},{\"id\":\"15840\"},{\"id\":\"15841\"},{\"id\":\"15842\"},{\"id\":\"15843\"},{\"id\":\"15844\"}]},\"id\":\"15846\",\"type\":\"Toolbar\"},{\"attributes\":{\"dimension\":\"height\",\"line_color\":\"green\",\"line_dash\":[6],\"line_width\":3,\"location\":0.04069370808678501},\"id\":\"15861\",\"type\":\"Span\"},{\"attributes\":{},\"id\":\"15844\",\"type\":\"HelpTool\"},{\"attributes\":{\"dimension\":\"height\",\"line_color\":\"green\",\"line_dash\":[6],\"line_width\":3,\"location\":0.0172430966469428},\"id\":\"15860\",\"type\":\"Span\"},{\"attributes\":{},\"id\":\"15829\",\"type\":\"LinearScale\"},{\"attributes\":{\"axis\":{\"id\":\"15831\"},\"ticker\":null},\"id\":\"15834\",\"type\":\"Grid\"},{\"attributes\":{\"axis\":{\"id\":\"15835\"},\"dimension\":1,\"ticker\":null},\"id\":\"15838\",\"type\":\"Grid\"},{\"attributes\":{},\"id\":\"15836\",\"type\":\"BasicTicker\"},{\"attributes\":{},\"id\":\"15839\",\"type\":\"PanTool\"},{\"attributes\":{\"overlay\":{\"id\":\"15845\"}},\"id\":\"15841\",\"type\":\"BoxZoomTool\"},{\"attributes\":{\"dimension\":\"height\",\"line_color\":\"green\",\"line_dash\":[6],\"line_width\":3,\"location\":0.75},\"id\":\"16362\",\"type\":\"Span\"},{\"attributes\":{},\"id\":\"15842\",\"type\":\"SaveTool\"},{\"attributes\":{},\"id\":\"16306\",\"type\":\"BasicTickFormatter\"},{\"attributes\":{},\"id\":\"15843\",\"type\":\"ResetTool\"},{\"attributes\":{},\"id\":\"16308\",\"type\":\"AllLabels\"},{\"attributes\":{\"dimension\":\"height\",\"line_color\":\"green\",\"line_dash\":[6],\"line_width\":3,\"location\":0.75},\"id\":\"18269\",\"type\":\"Span\"},{\"attributes\":{\"text\":\"TRAPPIST-1 System & Earth\"},\"id\":\"15822\",\"type\":\"Title\"},{\"attributes\":{\"dimension\":\"height\",\"line_color\":\"green\",\"line_dash\":[6],\"line_width\":3,\"location\":1.77},\"id\":\"16363\",\"type\":\"Span\"},{\"attributes\":{\"data\":{\"mass\":[1.0170483239007404,1.155938985633435,0.29685097953852857,0.7720032433609058,0.9340953199825862,1.1479932956029606,0.33085853286895955,1],\"name\":[\"b\",\"c\",\"d\",\"e\",\"f\",\"g\",\"h\",\"Earth\"],\"radius\":[0.007473413933333333,0.007300048066666666,0.005226383066666666,0.0060663108,0.006973492533333333,0.0076535052,0.005153150933333333,0.006666666666666667],\"semi_major\":[0.01154775,0.01581512,0.02228038,0.02928285,0.03853361,0.04687692,0.06193488,1]},\"selected\":{\"id\":\"16309\"},\"selection_policy\":{\"id\":\"16310\"}},\"id\":\"15819\",\"type\":\"ColumnDataSource\"},{\"attributes\":{\"dimension\":\"height\",\"line_color\":\"green\",\"line_dash\":[6],\"line_width\":3,\"location\":0.75},\"id\":\"16814\",\"type\":\"Span\"},{\"attributes\":{\"fill_color\":{\"value\":\"#1f77b4\"},\"line_color\":{\"value\":\"#1f77b4\"},\"radius\":{\"field\":\"radius\"},\"x\":{\"field\":\"semi_major\"},\"y\":{\"field\":\"mass\"}},\"id\":\"15854\",\"type\":\"Circle\"},{\"attributes\":{},\"id\":\"15840\",\"type\":\"WheelZoomTool\"},{\"attributes\":{},\"id\":\"16303\",\"type\":\"BasicTickFormatter\"},{\"attributes\":{\"source\":{\"id\":\"15819\"},\"text\":{\"field\":\"name\"},\"x\":{\"field\":\"semi_major\"},\"x_offset\":{\"value\":20},\"y\":{\"field\":\"mass\"}},\"id\":\"15858\",\"type\":\"LabelSet\"},{\"attributes\":{},\"id\":\"16305\",\"type\":\"AllLabels\"},{\"attributes\":{\"dimension\":\"height\",\"line_color\":\"green\",\"line_dash\":[6],\"line_width\":3,\"location\":1.77},\"id\":\"18270\",\"type\":\"Span\"},{\"attributes\":{},\"id\":\"16309\",\"type\":\"Selection\"},{\"attributes\":{},\"id\":\"16310\",\"type\":\"UnionRenderers\"}],\"root_ids\":[\"15821\"]},\"title\":\"Bokeh Application\",\"version\":\"2.3.2\"}};\n",
       "  var render_items = [{\"docid\":\"31cd9a9d-15d6-4c94-96f8-2a86a421c67b\",\"root_ids\":[\"15821\"],\"roots\":{\"15821\":\"8c4efbb8-5c34-43d3-8322-f7b0b8b9e878\"}}];\n",
       "  root.Bokeh.embed.embed_items_notebook(docs_json, render_items);\n",
       "\n",
       "  }\n",
       "  if (root.Bokeh !== undefined) {\n",
       "    embed_document(root);\n",
       "  } else {\n",
       "    var attempts = 0;\n",
       "    var timer = setInterval(function(root) {\n",
       "      if (root.Bokeh !== undefined) {\n",
       "        clearInterval(timer);\n",
       "        embed_document(root);\n",
       "      } else {\n",
       "        attempts++;\n",
       "        if (attempts > 100) {\n",
       "          clearInterval(timer);\n",
       "          console.log(\"Bokeh: ERROR: Unable to run BokehJS code because BokehJS library is missing\");\n",
       "        }\n",
       "      }\n",
       "    }, 10, root)\n",
       "  }\n",
       "})(window);"
      ],
      "application/vnd.bokehjs_exec.v0+json": ""
     },
     "metadata": {
      "application/vnd.bokehjs_exec.v0+json": {
       "id": "15821"
      }
     },
     "output_type": "display_data"
    }
   ],
   "source": [
    "r_in_plot  = Span(location = R_inner, dimension = 'height', line_color = 'green', line_width = 3, line_dash = 'dashed')\n",
    "r_out_plot = Span(location = R_outer, dimension = 'height', line_color = 'green', line_width = 3, line_dash = 'dashed')\n",
    "\n",
    "p3.renderers.extend([r_in_plot, r_out_plot])\n",
    "p3.x_range = Range1d(0, 2)\n",
    "\n",
    "show(p3)"
   ]
  },
  {
   "cell_type": "code",
   "execution_count": null,
   "id": "0fddb246-9d47-47ae-87e0-db54a0fd15e1",
   "metadata": {},
   "outputs": [],
   "source": [
    "#Section on luminosity and the calculations that give us the habitable zone!"
   ]
  },
  {
   "cell_type": "code",
   "execution_count": null,
   "id": "1f346e3a-bb4e-457f-9ab7-1c45a8a5e1ca",
   "metadata": {},
   "outputs": [],
   "source": [
    "for star in data.findall(\".//star\"):\n",
    "    for planet in star.findall(\".//planet[name='HD 156846 b']\"):\n",
    "        print(planet)"
   ]
  },
  {
   "cell_type": "code",
   "execution_count": null,
   "id": "5d7c50c1-ef96-42fe-bcdb-c8e4ffaf18e9",
   "metadata": {},
   "outputs": [],
   "source": [
    "exo_data = []\n",
    "cols =  ['name', 'transittime', 'radius', 'semimajoraxis', 'temperature', 'mass', 'lastupdate']\n",
    "for star in data.findall(\".//star\"):\n",
    "    for planet in star.findall(\".//planet\"):\n",
    "        temp = []\n",
    "        for column in cols:\n",
    "            try:\n",
    "                temp.append(planet.find(column).text)\n",
    "            except:\n",
    "                temp.append(None)\n",
    "        exo_data.append(temp)\n",
    "exo_data = pd.DataFrame(exo_data, columns = cols)\n",
    "exo_data"
   ]
  },
  {
   "cell_type": "code",
   "execution_count": 3,
   "id": "740c9c14-6e6f-459f-a7bb-15f65c793a2d",
   "metadata": {},
   "outputs": [
    {
     "ename": "NameError",
     "evalue": "name 'data' is not defined",
     "output_type": "error",
     "traceback": [
      "\u001b[1;31m---------------------------------------------------------------------------\u001b[0m",
      "\u001b[1;31mNameError\u001b[0m                                 Traceback (most recent call last)",
      "\u001b[1;32m<ipython-input-3-06d91b7260bd>\u001b[0m in \u001b[0;36m<module>\u001b[1;34m\u001b[0m\n\u001b[0;32m      1\u001b[0m \u001b[1;31m#Let's get the trappist-1 system's data!\u001b[0m\u001b[1;33m\u001b[0m\u001b[1;33m\u001b[0m\u001b[1;33m\u001b[0m\u001b[0m\n\u001b[1;32m----> 2\u001b[1;33m \u001b[1;32mfor\u001b[0m \u001b[0mstar\u001b[0m \u001b[1;32min\u001b[0m \u001b[0mdata\u001b[0m\u001b[1;33m.\u001b[0m\u001b[0mfindall\u001b[0m\u001b[1;33m(\u001b[0m\u001b[1;34m\".//star\"\u001b[0m\u001b[1;33m)\u001b[0m\u001b[1;33m:\u001b[0m\u001b[1;33m\u001b[0m\u001b[1;33m\u001b[0m\u001b[0m\n\u001b[0m\u001b[0;32m      3\u001b[0m     \u001b[1;32mfor\u001b[0m \u001b[0mplanet\u001b[0m \u001b[1;32min\u001b[0m \u001b[0mstar\u001b[0m\u001b[1;33m.\u001b[0m\u001b[0mfindall\u001b[0m\u001b[1;33m(\u001b[0m\u001b[1;34m\".//planet[name='HD 156846 b']\"\u001b[0m\u001b[1;33m)\u001b[0m\u001b[1;33m:\u001b[0m\u001b[1;33m\u001b[0m\u001b[1;33m\u001b[0m\u001b[0m\n\u001b[0;32m      4\u001b[0m         \u001b[1;32mfor\u001b[0m \u001b[0mproperties\u001b[0m \u001b[1;32min\u001b[0m \u001b[0mplanet\u001b[0m\u001b[1;33m.\u001b[0m\u001b[0mfindall\u001b[0m\u001b[1;33m(\u001b[0m\u001b[1;34m'*'\u001b[0m\u001b[1;33m)\u001b[0m\u001b[1;33m:\u001b[0m\u001b[1;33m\u001b[0m\u001b[1;33m\u001b[0m\u001b[0m\n\u001b[0;32m      5\u001b[0m             \u001b[0mprint\u001b[0m\u001b[1;33m(\u001b[0m\u001b[1;34m'{}:{}'\u001b[0m\u001b[1;33m.\u001b[0m\u001b[0mformat\u001b[0m\u001b[1;33m(\u001b[0m\u001b[0mproperties\u001b[0m\u001b[1;33m.\u001b[0m\u001b[0mtag\u001b[0m\u001b[1;33m,\u001b[0m \u001b[0mproperties\u001b[0m\u001b[1;33m.\u001b[0m\u001b[0mtext\u001b[0m\u001b[1;33m)\u001b[0m\u001b[1;33m)\u001b[0m\u001b[1;33m\u001b[0m\u001b[1;33m\u001b[0m\u001b[0m\n",
      "\u001b[1;31mNameError\u001b[0m: name 'data' is not defined"
     ]
    }
   ],
   "source": [
    "#Let's get the trappist-1 system's data!\n",
    "for star in data.findall(\".//star\"):\n",
    "    for planet in star.findall(\".//planet[name='HD 156846 b']\"):\n",
    "        for properties in planet.findall('*'):\n",
    "            print('{}:{}'.format(properties.tag, properties.text))\n",
    "        if findvalue(planet, 'mass') != None and findvalue(star, 'mass') != None:\n",
    "            print('\\t', findvalue(planet, 'name'), findvalue(planet, 'mass').machine_readable(), findvalue(star, 'mass').machine_readable())\n",
    "        else:\n",
    "            print('Null')"
   ]
  },
  {
   "cell_type": "code",
   "execution_count": 4,
   "id": "7741906e-5f95-49b7-ae57-6f0992106945",
   "metadata": {},
   "outputs": [
    {
     "ename": "NameError",
     "evalue": "name 'exo_data' is not defined",
     "output_type": "error",
     "traceback": [
      "\u001b[1;31m---------------------------------------------------------------------------\u001b[0m",
      "\u001b[1;31mNameError\u001b[0m                                 Traceback (most recent call last)",
      "\u001b[1;32m<ipython-input-4-490cd67c4338>\u001b[0m in \u001b[0;36m<module>\u001b[1;34m\u001b[0m\n\u001b[1;32m----> 1\u001b[1;33m \u001b[0mexo_data\u001b[0m\u001b[1;33m[\u001b[0m\u001b[0mexo_data\u001b[0m\u001b[1;33m[\u001b[0m\u001b[1;34m'name'\u001b[0m\u001b[1;33m]\u001b[0m \u001b[1;33m==\u001b[0m \u001b[1;34m'HD 156846 b'\u001b[0m\u001b[1;33m]\u001b[0m\u001b[1;33m\u001b[0m\u001b[1;33m\u001b[0m\u001b[0m\n\u001b[0m",
      "\u001b[1;31mNameError\u001b[0m: name 'exo_data' is not defined"
     ]
    }
   ],
   "source": [
    "exo_data[exo_data['name'] == 'HD 156846 b']"
   ]
  },
  {
   "cell_type": "code",
   "execution_count": 5,
   "id": "ad25d1d8-f2e7-4aad-b89d-af48048be696",
   "metadata": {},
   "outputs": [
    {
     "ename": "NameError",
     "evalue": "name 'exo_data' is not defined",
     "output_type": "error",
     "traceback": [
      "\u001b[1;31m---------------------------------------------------------------------------\u001b[0m",
      "\u001b[1;31mNameError\u001b[0m                                 Traceback (most recent call last)",
      "\u001b[1;32m<ipython-input-5-19e23ed929bc>\u001b[0m in \u001b[0;36m<module>\u001b[1;34m\u001b[0m\n\u001b[0;32m      1\u001b[0m \u001b[1;31m#This is why many exoplanets can be varying distances from their host star and be \"habitable\"\u001b[0m\u001b[1;33m\u001b[0m\u001b[1;33m\u001b[0m\u001b[1;33m\u001b[0m\u001b[0m\n\u001b[1;32m----> 2\u001b[1;33m source = ColumnDataSource(data = dict(semi_major = exo_data['semimajoraxis'].astype(float).tolist(),\n\u001b[0m\u001b[0;32m      3\u001b[0m                                              \u001b[0mmass\u001b[0m \u001b[1;33m=\u001b[0m \u001b[0mexo_data\u001b[0m\u001b[1;33m[\u001b[0m\u001b[1;34m'mass'\u001b[0m\u001b[1;33m]\u001b[0m\u001b[1;33m.\u001b[0m\u001b[0mastype\u001b[0m\u001b[1;33m(\u001b[0m\u001b[0mfloat\u001b[0m\u001b[1;33m)\u001b[0m\u001b[1;33m.\u001b[0m\u001b[0mmultiply\u001b[0m\u001b[1;33m(\u001b[0m\u001b[0mother\u001b[0m \u001b[1;33m=\u001b[0m \u001b[0mj_to_e_ratio\u001b[0m\u001b[1;33m)\u001b[0m\u001b[1;33m.\u001b[0m\u001b[0mtolist\u001b[0m\u001b[1;33m(\u001b[0m\u001b[1;33m)\u001b[0m\u001b[1;33m,\u001b[0m\u001b[1;33m\u001b[0m\u001b[1;33m\u001b[0m\u001b[0m\n\u001b[0;32m      4\u001b[0m                                              name = exo_data['name'].tolist()))\n\u001b[0;32m      5\u001b[0m \u001b[1;33m\u001b[0m\u001b[0m\n",
      "\u001b[1;31mNameError\u001b[0m: name 'exo_data' is not defined"
     ]
    }
   ],
   "source": [
    "#This is why many exoplanets can be varying distances from their host star and be \"habitable\"\n",
    "source = ColumnDataSource(data = dict(semi_major = exo_data['semimajoraxis'].astype(float).tolist(),\n",
    "                                             mass = exo_data['mass'].astype(float).multiply(other = j_to_e_ratio).tolist(),\n",
    "                                             name = exo_data['name'].tolist()))\n",
    "\n",
    "p4 = figure(title = 'TRAPPIST-1 System & Earth', width = 1000, height = 500, x_axis_type=\"log\")\n",
    "p4.scatter(x = 'semi_major', y = 'mass', source = source, size = 10)\n",
    "p4.xaxis[0].axis_label = 'Semi-Major Axis (AU)'\n",
    "p4.yaxis[0].axis_label = 'Mass (Earth Masses)'\n",
    "labels = LabelSet(x = 'semi_major', y = 'mass', text = 'name', x_offset=10, y_offset=0, source = source, render_mode = 'canvas')\n",
    "p4.add_layout(labels)\n",
    "show(p4)"
   ]
  },
  {
   "cell_type": "code",
   "execution_count": 6,
   "id": "c7e4141b-70e7-4dcb-be27-a8511873f4be",
   "metadata": {},
   "outputs": [
    {
     "ename": "NameError",
     "evalue": "name 'exo_table' is not defined",
     "output_type": "error",
     "traceback": [
      "\u001b[1;31m---------------------------------------------------------------------------\u001b[0m",
      "\u001b[1;31mNameError\u001b[0m                                 Traceback (most recent call last)",
      "\u001b[1;32m<ipython-input-6-488d8a1f78ce>\u001b[0m in \u001b[0;36m<module>\u001b[1;34m\u001b[0m\n\u001b[1;32m----> 1\u001b[1;33m \u001b[0mlen\u001b[0m\u001b[1;33m(\u001b[0m\u001b[0mexo_table\u001b[0m\u001b[1;33m)\u001b[0m\u001b[1;33m\u001b[0m\u001b[1;33m\u001b[0m\u001b[0m\n\u001b[0m",
      "\u001b[1;31mNameError\u001b[0m: name 'exo_table' is not defined"
     ]
    }
   ],
   "source": [
    "len(exo_table)"
   ]
  },
  {
   "cell_type": "code",
   "execution_count": 7,
   "id": "73b2bb88-b525-4c50-a407-ac7deea6072a",
   "metadata": {},
   "outputs": [
    {
     "ename": "NameError",
     "evalue": "name 'exo_table' is not defined",
     "output_type": "error",
     "traceback": [
      "\u001b[1;31m---------------------------------------------------------------------------\u001b[0m",
      "\u001b[1;31mNameError\u001b[0m                                 Traceback (most recent call last)",
      "\u001b[1;32m<ipython-input-7-ed271a12f297>\u001b[0m in \u001b[0;36m<module>\u001b[1;34m\u001b[0m\n\u001b[1;32m----> 1\u001b[1;33m \u001b[0mexo_table\u001b[0m\u001b[1;33m[\u001b[0m\u001b[1;36m5\u001b[0m\u001b[1;33m]\u001b[0m\u001b[1;33m\u001b[0m\u001b[1;33m\u001b[0m\u001b[0m\n\u001b[0m",
      "\u001b[1;31mNameError\u001b[0m: name 'exo_table' is not defined"
     ]
    }
   ],
   "source": [
    "exo_table[5]"
   ]
  },
  {
   "cell_type": "code",
   "execution_count": null,
   "id": "700b4cbd-dcde-4d7d-aca4-00287014d5c3",
   "metadata": {},
   "outputs": [],
   "source": []
  },
  {
   "cell_type": "code",
   "execution_count": null,
   "id": "79600bdd-774d-464f-9f16-7d4fe5351db2",
   "metadata": {},
   "outputs": [],
   "source": []
  }
 ],
 "metadata": {
  "kernelspec": {
   "display_name": "Python 3",
   "language": "python",
   "name": "python3"
  },
  "language_info": {
   "codemirror_mode": {
    "name": "ipython",
    "version": 3
   },
   "file_extension": ".py",
   "mimetype": "text/x-python",
   "name": "python",
   "nbconvert_exporter": "python",
   "pygments_lexer": "ipython3",
   "version": "3.8.10"
  }
 },
 "nbformat": 4,
 "nbformat_minor": 5
}
