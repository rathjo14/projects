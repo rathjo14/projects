{
 "cells": [
  {
   "cell_type": "code",
   "execution_count": 1,
   "id": "e117a2da-b327-4d60-8330-bfbc56e634e4",
   "metadata": {},
   "outputs": [],
   "source": [
    "#https://astroquery.readthedocs.io/en/latest/index.html\n",
    "import astroquery\n",
    "from astroquery.mast import Catalogs\n",
    "import numpy as np"
   ]
  },
  {
   "cell_type": "code",
   "execution_count": 3,
   "id": "27b9db14-b35c-488e-9606-fd8d75a7e8fe",
   "metadata": {},
   "outputs": [],
   "source": [
    "#Using astroquery to query the Mikulski Archive for Space Telescopes (MAST) for TESS data.\n",
    "#https://astroquery.readthedocs.io/en/latest/mast/mast.html#catalog-queries < Catalogs to choose from\n",
    "#We will look at the TIC & CTL:\n",
    "    #1. The TIC is used to help identify two-minute cadence target selection for the TESS mission, and to calculate physical and observational properties of planet candidates. \n",
    "    #   It is for use by both the TESS science team and the public, and it is periodically updated – the current version is TIC-8.\n",
    "    #2. A subset of the TIC is the Candidate Target List (CTL).  The CTL consists of a set of targets selected as likely good targets for TESS transit detection.  It includes two main components:\n",
    "    #   All TIC stars brighter than T=13, and estimated stellar radii smaller than 5 RSun\n",
    "    #   All stars included in the curated Cool Dwarf Catalog (CDC)"
   ]
  },
  {
   "cell_type": "code",
   "execution_count": 4,
   "id": "2dc162fc-82db-4881-b765-aa5ec5e85fe4",
   "metadata": {},
   "outputs": [
    {
     "name": "stdout",
     "output_type": "stream",
     "text": [
      "Number of TIC objects within 0.500000 deg of HD 172167: 19173\n"
     ]
    }
   ],
   "source": [
    "#target_name is the position we are setting to look around in Gemini DB.\n",
    "    #https://archive.gemini.edu/searchform/object=HD%20209458/NotFail/cols=CTOWEQ/not_site_monitoring/notengineering\n",
    "#search_radius_deg is how far around that position we are looking.\n",
    "target_name = \"HD 172167\" #Let's look around Vega!\n",
    "search_radius_deg = .5 # Cone search around target; default is 0.3\n",
    "\n",
    "catalogTIC = Catalogs.query_object(target_name, radius=search_radius_deg, catalog=\"TIC\") # returns a numpy structured array\n",
    "print(\"Number of TIC objects within %f deg of %s: %u\" % (search_radius_deg, target_name, len(catalogTIC))) # number of objects within our search"
   ]
  },
  {
   "cell_type": "code",
   "execution_count": 5,
   "id": "5905d570-bad0-4137-91dd-e77671728a5c",
   "metadata": {},
   "outputs": [
    {
     "name": "stdout",
     "output_type": "stream",
     "text": [
      "<class 'astropy.table.table.Table'>\n",
      "<TableColumns names=('ID','ra','dec','pmRA','pmDEC','Tmag','objType','typeSrc','version','HIP','TYC','UCAC','TWOMASS','SDSS','ALLWISE','GAIA','APASS','KIC','POSflag','e_pmRA','e_pmDEC','PMflag','plx','e_plx','PARflag','gallong','gallat','eclong','eclat','Bmag','e_Bmag','Vmag','e_Vmag','umag','e_umag','gmag','e_gmag','rmag','e_rmag','imag','e_imag','zmag','e_zmag','Jmag','e_Jmag','Hmag','e_Hmag','Kmag','e_Kmag','TWOMflag','prox','w1mag','e_w1mag','w2mag','e_w2mag','w3mag','e_w3mag','w4mag','e_w4mag','GAIAmag','e_GAIAmag','e_Tmag','TESSflag','SPFlag','Teff','e_Teff','logg','e_logg','MH','e_MH','rad','e_rad','mass','e_mass','rho','e_rho','lumclass','lum','e_lum','d','e_d','ebv','e_ebv','numcont','contratio','disposition','duplicate_id','priority','eneg_EBV','epos_EBV','EBVflag','eneg_Mass','epos_Mass','eneg_Rad','epos_Rad','eneg_rho','epos_rho','eneg_logg','epos_logg','eneg_lum','epos_lum','eneg_dist','epos_dist','distflag','eneg_Teff','epos_Teff','TeffFlag','gaiabp','e_gaiabp','gaiarp','e_gaiarp','gaiaqflag','starchareFlag','VmagFlag','BmagFlag','splists','e_RA','e_Dec','RA_orig','Dec_orig','e_RA_orig','e_Dec_orig','raddflag','wdflag','dstArcSec')>\n"
     ]
    }
   ],
   "source": [
    "# What type of objects is the returned result?\n",
    "print(type(catalogTIC))\n",
    "# What columns are available from the TIC?\n",
    "print(catalogTIC.columns)"
   ]
  },
  {
   "cell_type": "code",
   "execution_count": 6,
   "id": "af25dae4-dfcc-474d-a80b-cfa95320d9c0",
   "metadata": {},
   "outputs": [
    {
     "name": "stdout",
     "output_type": "stream",
     "text": [
      "{None, 'DWARF', 'GIANT', 'SUBGIANT'}\n",
      "Number of objects classified as 'DWARF' within 0.500000 deg of HD 172167: 6834\n",
      "    ID            ra              dec        ... wdflag     dstArcSec     \n",
      "---------- ---------------- ---------------- ... ------ ------------------\n",
      "1550275965 279.209320885151 38.7790334615556 ...      0   65.0124589323169\n",
      " 157587133 279.278641034325  38.807283052361 ...      0  158.5204486041849\n",
      " 157587156 279.287428388278 38.7612819763054 ...      0 172.77607694459817\n",
      " 157587111 279.228392843752 38.8410097535368 ...      0 211.53887623061422\n",
      " 157587183 279.208254785721 38.7235791539114 ...      0  221.8105056422015\n"
     ]
    }
   ],
   "source": [
    "#What kind of luminosity designations are there?\n",
    "lumclass_objs = catalogTIC['lumclass']\n",
    "print(set(lumclass_objs.tolist()))\n",
    "\n",
    "#Let's look at objects with luminosity Class DWARF\n",
    "dwarf_obj_data = catalogTIC[np.where(catalogTIC['lumclass'] == 'DWARF')[0]]\n",
    "dwarf_objs_idx = np.where(catalogTIC['lumclass'] == 'DWARF')[0]\n",
    "print(\"Number of objects classified as 'DWARF' within %f deg of %s: %u\" % (search_radius_deg, target_name, len(dwarf_objs_idx)))\n",
    "print(dwarf_obj_data[:5])\n",
    "\n",
    "#What's the closest star by arcsec to Vega?\n",
    "where_closest = np.argmin(catalogTIC['dstArcSec'])\n",
    "print(\"Closest TIC ID to %s: TIC %s, separation of %f arcsec. and a TESS mag. of %f\"%\n",
    "      (target_name, catalogTIC['ID'][where_closest], catalogTIC['dstArcSec'][where_closest],\n",
    "      catalogTIC['Tmag'][where_closest]))"
   ]
  },
  {
   "cell_type": "code",
   "execution_count": 113,
   "id": "0a9c4476-b273-44a2-852e-803060046140",
   "metadata": {},
   "outputs": [
    {
     "name": "stdout",
     "output_type": "stream",
     "text": [
      "<SkyCoord (ICRS): (ra, dec) in deg\n",
      "    (346.62242917, -5.041275)> 346d37m20.745s -5d02m28.59s\n",
      "{'23063523-0455319', '23062928-0502285', '23063445-0507511', '23063989-0511569', '23061404-0513046', '23063582-0505180', '23065706-0511124', '23063714-0450597', '23070787-0457562', '23060502-0501285', '23065433-0512401', '23064487-0454110'}\n"
     ]
    },
    {
     "data": {
      "text/html": [
       "<i>Table masked=True length=1</i>\n",
       "<table id=\"table1775613610640\" class=\"table-striped table-bordered table-condensed\">\n",
       "<thead><tr><th>ID</th><th>version</th><th>HIP</th><th>TYC</th><th>UCAC</th><th>TWOMASS</th><th>SDSS</th><th>ALLWISE</th><th>GAIA</th><th>APASS</th><th>KIC</th><th>objType</th><th>typeSrc</th><th>ra</th><th>dec</th><th>POSflag</th><th>pmRA</th><th>e_pmRA</th><th>pmDEC</th><th>e_pmDEC</th><th>PMflag</th><th>plx</th><th>e_plx</th><th>PARflag</th><th>gallong</th><th>gallat</th><th>eclong</th><th>eclat</th><th>Bmag</th><th>e_Bmag</th><th>Vmag</th><th>e_Vmag</th><th>umag</th><th>e_umag</th><th>gmag</th><th>e_gmag</th><th>rmag</th><th>e_rmag</th><th>imag</th><th>e_imag</th><th>zmag</th><th>e_zmag</th><th>Jmag</th><th>e_Jmag</th><th>Hmag</th><th>e_Hmag</th><th>Kmag</th><th>e_Kmag</th><th>TWOMflag</th><th>prox</th><th>w1mag</th><th>e_w1mag</th><th>w2mag</th><th>e_w2mag</th><th>w3mag</th><th>e_w3mag</th><th>w4mag</th><th>e_w4mag</th><th>GAIAmag</th><th>e_GAIAmag</th><th>Tmag</th><th>e_Tmag</th><th>TESSflag</th><th>SPFlag</th><th>Teff</th><th>e_Teff</th><th>logg</th><th>e_logg</th><th>MH</th><th>e_MH</th><th>rad</th><th>e_rad</th><th>mass</th><th>e_mass</th><th>rho</th><th>e_rho</th><th>lumclass</th><th>lum</th><th>e_lum</th><th>d</th><th>e_d</th><th>ebv</th><th>e_ebv</th><th>numcont</th><th>contratio</th><th>disposition</th><th>duplicate_id</th><th>priority</th><th>eneg_EBV</th><th>epos_EBV</th><th>EBVflag</th><th>eneg_Mass</th><th>epos_Mass</th><th>eneg_Rad</th><th>epos_Rad</th><th>eneg_rho</th><th>epos_rho</th><th>eneg_logg</th><th>epos_logg</th><th>eneg_lum</th><th>epos_lum</th><th>eneg_dist</th><th>epos_dist</th><th>distflag</th><th>eneg_Teff</th><th>epos_Teff</th><th>TeffFlag</th><th>gaiabp</th><th>e_gaiabp</th><th>gaiarp</th><th>e_gaiarp</th><th>gaiaqflag</th><th>starchareFlag</th><th>VmagFlag</th><th>BmagFlag</th><th>splists</th><th>e_RA</th><th>e_Dec</th><th>RA_orig</th><th>Dec_orig</th><th>e_RA_orig</th><th>e_Dec_orig</th><th>raddflag</th><th>wdflag</th><th>dstArcSec</th></tr></thead>\n",
       "<thead><tr><th>str9</th><th>str8</th><th>int64</th><th>str12</th><th>str10</th><th>str16</th><th>str19</th><th>str19</th><th>str19</th><th>str7</th><th>int64</th><th>str4</th><th>str7</th><th>float64</th><th>float64</th><th>str7</th><th>float64</th><th>float64</th><th>float64</th><th>float64</th><th>str6</th><th>float64</th><th>float64</th><th>str5</th><th>float64</th><th>float64</th><th>float64</th><th>float64</th><th>float64</th><th>float64</th><th>float64</th><th>float64</th><th>float64</th><th>float64</th><th>float64</th><th>float64</th><th>float64</th><th>float64</th><th>float64</th><th>float64</th><th>float64</th><th>float64</th><th>float64</th><th>float64</th><th>float64</th><th>float64</th><th>float64</th><th>float64</th><th>str19</th><th>float64</th><th>float64</th><th>float64</th><th>float64</th><th>float64</th><th>float64</th><th>float64</th><th>float64</th><th>float64</th><th>float64</th><th>float64</th><th>float64</th><th>float64</th><th>str5</th><th>str5</th><th>float64</th><th>float64</th><th>float64</th><th>float64</th><th>float64</th><th>float64</th><th>float64</th><th>float64</th><th>float64</th><th>float64</th><th>float64</th><th>float64</th><th>str5</th><th>float64</th><th>float64</th><th>float64</th><th>float64</th><th>float64</th><th>float64</th><th>int64</th><th>float64</th><th>str1</th><th>str1</th><th>float64</th><th>float64</th><th>float64</th><th>str9</th><th>float64</th><th>float64</th><th>float64</th><th>float64</th><th>float64</th><th>float64</th><th>float64</th><th>float64</th><th>float64</th><th>float64</th><th>float64</th><th>float64</th><th>str6</th><th>float64</th><th>float64</th><th>str5</th><th>float64</th><th>float64</th><th>float64</th><th>float64</th><th>int64</th><th>str1</th><th>str8</th><th>str8</th><th>str15</th><th>float64</th><th>float64</th><th>float64</th><th>float64</th><th>float64</th><th>float64</th><th>int64</th><th>int64</th><th>float64</th></tr></thead>\n",
       "<tr><td>278892590</td><td>20190415</td><td>--</td><td>--</td><td>--</td><td>23062928-0502285</td><td>1237680117417115723</td><td>--</td><td>2635476908753563008</td><td>--</td><td>--</td><td>STAR</td><td>tmgaia2</td><td>346.622497498953</td><td>-5.04134345727205</td><td>tmgaia2</td><td>901.0</td><td>8.0</td><td>-492.0</td><td>8.0</td><td>sblink</td><td>nan</td><td>nan</td><td>--</td><td>69.7130164121953</td><td>-56.6446581859244</td><td>345.734090032779</td><td>0.633279562502145</td><td>nan</td><td>nan</td><td>17.02</td><td>0.2</td><td>23.3056</td><td>0.803622</td><td>19.6235</td><td>0.0155229</td><td>17.9963</td><td>0.00735197</td><td>15.0923</td><td>0.00433896</td><td>13.4342</td><td>0.00406333</td><td>11.354</td><td>0.022</td><td>10.718</td><td>0.021</td><td>10.296</td><td>0.023</td><td>AAA-222-111-000-0-0</td><td>nan</td><td>nan</td><td>nan</td><td>nan</td><td>nan</td><td>nan</td><td>nan</td><td>nan</td><td>nan</td><td>15.6451</td><td>0.001448</td><td>13.8529</td><td>0.0112926</td><td>cdwrf</td><td>cdwrf</td><td>nan</td><td>nan</td><td>5.27596</td><td>0.0719093</td><td>nan</td><td>nan</td><td>0.114827</td><td>0.00335728</td><td>0.0907782</td><td>0.0200069</td><td>59.9583</td><td>8.00818</td><td>DWARF</td><td>0.0</td><td>0.0</td><td>nan</td><td>nan</td><td>nan</td><td>nan</td><td>36</td><td>0.00293153641</td><td>--</td><td>--</td><td>0.0</td><td>nan</td><td>nan</td><td>--</td><td>nan</td><td>nan</td><td>nan</td><td>nan</td><td>nan</td><td>nan</td><td>nan</td><td>nan</td><td>nan</td><td>nan</td><td>nan</td><td>nan</td><td>--</td><td>nan</td><td>nan</td><td>--</td><td>18.9982</td><td>0.047621</td><td>14.0967</td><td>0.008631</td><td>0</td><td>--</td><td>cdwrf</td><td>--</td><td>cooldwarfs_v8</td><td>124.120831759303</td><td>124.000034729391</td><td>346.626391869714</td><td>-5.04346180220689</td><td>0.10895496230121</td><td>0.0928056581084852</td><td>1</td><td>0</td><td>0.3475378887504463</td></tr>\n",
       "</table>"
      ],
      "text/plain": [
       "<Table masked=True length=1>\n",
       "    ID    version   HIP   TYC  ... raddflag wdflag     dstArcSec     \n",
       "   str9     str8   int64 str12 ...  int64   int64       float64      \n",
       "--------- -------- ----- ----- ... -------- ------ ------------------\n",
       "278892590 20190415    --    -- ...        1      0 0.3475378887504463"
      ]
     },
     "execution_count": 113,
     "metadata": {},
     "output_type": "execute_result"
    }
   ],
   "source": [
    "#Unit conversions from arctime astro-coords to degrees\n",
    "from astropy import units as u\n",
    "from astropy.coordinates import SkyCoord\n",
    "\n",
    "#Let's try looking for TRAPPIST-1\n",
    "#I think these were the coords of trappist 1?\n",
    "# 23h 06m 29.383s, −05° 02′ 28.59″\n",
    "c = SkyCoord('23 06 29.383 -05 02 28.59', unit = (u.hourangle, u.deg))\n",
    "print(c, c.ra, c.dec)\n",
    "data = Catalogs.query_region(c, catalog = 'CTL')\n",
    "print(set(data['TWOMASS'].tolist()))\n",
    "\n",
    "#TRAPPIST-1's 2MASS ID (minus the J prefix)\n",
    "trappist  = '23062928-0502285' #Careful copying from internet! - on wikipedia was not the same as - in data...\n",
    "data[np.where(data['TWOMASS'].astype(str) == trappist)[0]] # Fount it! Only 0.3475378887504463 dstArcSec from where wikipedia told us it was!"
   ]
  }
 ],
 "metadata": {
  "kernelspec": {
   "display_name": "Python 3",
   "language": "python",
   "name": "python3"
  },
  "language_info": {
   "codemirror_mode": {
    "name": "ipython",
    "version": 3
   },
   "file_extension": ".py",
   "mimetype": "text/x-python",
   "name": "python",
   "nbconvert_exporter": "python",
   "pygments_lexer": "ipython3",
   "version": "3.8.10"
  }
 },
 "nbformat": 4,
 "nbformat_minor": 5
}
