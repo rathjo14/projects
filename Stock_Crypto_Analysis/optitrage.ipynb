{
 "cells": [
  {
   "cell_type": "code",
   "execution_count": 5,
   "metadata": {},
   "outputs": [],
   "source": [
    "import threading\n",
    "import pyotp\n",
    "import datetime\n",
    "import pandas as pd\n",
    "import robin_stocks as r\n",
    "\n",
    "totp  = pyotp.TOTP(\"My2factorAppHere\").now()"
   ]
  },
  {
   "cell_type": "code",
   "execution_count": 8,
   "metadata": {},
   "outputs": [
    {
     "name": "stdout",
     "output_type": "stream",
     "text": [
      "ERROR: There was an issue loading pickle file. Authentication may be expired - logging in normally.\n",
      "Enter Robinhood code for validation: "
     ]
    },
    {
     "name": "stderr",
     "output_type": "stream",
     "text": [
      "Exception in thread Thread-8:\n",
      "Traceback (most recent call last):\n",
      "  File \"C:\\Users\\rathj\\anaconda3\\lib\\threading.py\", line 932, in _bootstrap_inner\n",
      "    self.run()\n",
      "  File \"<ipython-input-8-56bc5eb0f0ba>\", line 8, in run\n",
      "  File \"C:\\Users\\rathj\\anaconda3\\lib\\site-packages\\robin_stocks\\authentication.py\", line 166, in login\n",
      "    sms_code = input('Enter Robinhood code for validation: ')\n",
      "EOFError: EOF when reading a line\n"
     ]
    }
   ],
   "source": [
    "class TickerThread(threading.Thread):\n",
    "    def __init__(self, email, pword):\n",
    "        threading.Thread.__init__(self)\n",
    "        self.email = email\n",
    "        self.pword = pword\n",
    "    def run(self):\n",
    "        totp = pyotp.TOTP('My2factorAppHere').now()\n",
    "        login = r.login(self.email, self.pword, mfa_code = totp)\n",
    "        print(login)\n",
    "        \n",
    "t1 = TickerThread('rathjo14@gmail.com', 'Lcasquad1!')\n",
    "t1.start()\n",
    "        \n",
    "        "
   ]
  },
  {
   "cell_type": "code",
   "execution_count": 6,
   "metadata": {},
   "outputs": [
    {
     "data": {
      "text/plain": [
       "'444387'"
      ]
     },
     "execution_count": 6,
     "metadata": {},
     "output_type": "execute_result"
    }
   ],
   "source": [
    "totp"
   ]
  },
  {
   "cell_type": "code",
   "execution_count": 10,
   "metadata": {},
   "outputs": [
    {
     "name": "stdout",
     "output_type": "stream",
     "text": [
      "Collecting yahoo_fin\n",
      "  Downloading yahoo_fin-0.8.9.1-py3-none-any.whl (10 kB)\n",
      "Requirement already satisfied: pandas in c:\\users\\rathj\\anaconda3\\lib\\site-packages (from yahoo_fin) (1.2.4)\n",
      "Collecting feedparser\n",
      "  Downloading feedparser-6.0.8-py3-none-any.whl (81 kB)\n",
      "Collecting requests-html\n",
      "  Downloading requests_html-0.10.0-py3-none-any.whl (13 kB)\n",
      "Requirement already satisfied: requests in c:\\users\\rathj\\anaconda3\\lib\\site-packages (from yahoo_fin) (2.25.1)\n",
      "Collecting sgmllib3k\n",
      "  Downloading sgmllib3k-1.0.0.tar.gz (5.8 kB)\n",
      "Requirement already satisfied: numpy>=1.16.5 in c:\\users\\rathj\\anaconda3\\lib\\site-packages (from pandas->yahoo_fin) (1.20.2)\n",
      "Requirement already satisfied: pytz>=2017.3 in c:\\users\\rathj\\anaconda3\\lib\\site-packages (from pandas->yahoo_fin) (2021.1)\n",
      "Requirement already satisfied: python-dateutil>=2.7.3 in c:\\users\\rathj\\anaconda3\\lib\\site-packages (from pandas->yahoo_fin) (2.8.1)\n",
      "Requirement already satisfied: six>=1.5 in c:\\users\\rathj\\anaconda3\\lib\\site-packages (from python-dateutil>=2.7.3->pandas->yahoo_fin) (1.15.0)\n",
      "Requirement already satisfied: idna<3,>=2.5 in c:\\users\\rathj\\anaconda3\\lib\\site-packages (from requests->yahoo_fin) (2.10)\n",
      "Requirement already satisfied: urllib3<1.27,>=1.21.1 in c:\\users\\rathj\\anaconda3\\lib\\site-packages (from requests->yahoo_fin) (1.26.4)\n",
      "Requirement already satisfied: chardet<5,>=3.0.2 in c:\\users\\rathj\\anaconda3\\lib\\site-packages (from requests->yahoo_fin) (4.0.0)\n",
      "Requirement already satisfied: certifi>=2017.4.17 in c:\\users\\rathj\\anaconda3\\lib\\site-packages (from requests->yahoo_fin) (2020.12.5)\n",
      "Collecting pyquery\n",
      "  Downloading pyquery-1.4.3-py3-none-any.whl (22 kB)\n",
      "Collecting fake-useragent\n",
      "  Downloading fake-useragent-0.1.11.tar.gz (13 kB)\n",
      "Collecting w3lib\n",
      "  Downloading w3lib-1.22.0-py2.py3-none-any.whl (20 kB)\n",
      "Collecting bs4\n",
      "  Downloading bs4-0.0.1.tar.gz (1.1 kB)\n",
      "Collecting pyppeteer>=0.0.14\n",
      "  Downloading pyppeteer-1.0.2-py3-none-any.whl (83 kB)\n",
      "Collecting parse\n",
      "  Downloading parse-1.19.0.tar.gz (30 kB)\n",
      "Requirement already satisfied: importlib-metadata>=1.4 in c:\\users\\rathj\\anaconda3\\lib\\site-packages (from pyppeteer>=0.0.14->requests-html->yahoo_fin) (3.10.0)\n",
      "Requirement already satisfied: websockets<11.0,>=10.0 in c:\\users\\rathj\\anaconda3\\lib\\site-packages (from pyppeteer>=0.0.14->requests-html->yahoo_fin) (10.1)\n",
      "Collecting certifi>=2017.4.17\n",
      "  Downloading certifi-2021.10.8-py2.py3-none-any.whl (149 kB)\n",
      "Requirement already satisfied: appdirs<2.0.0,>=1.4.3 in c:\\users\\rathj\\anaconda3\\lib\\site-packages (from pyppeteer>=0.0.14->requests-html->yahoo_fin) (1.4.4)\n",
      "Collecting pyee<9.0.0,>=8.1.0\n",
      "  Downloading pyee-8.2.2-py2.py3-none-any.whl (12 kB)\n",
      "Requirement already satisfied: tqdm<5.0.0,>=4.42.1 in c:\\users\\rathj\\anaconda3\\lib\\site-packages (from pyppeteer>=0.0.14->requests-html->yahoo_fin) (4.59.0)\n",
      "Requirement already satisfied: zipp>=0.5 in c:\\users\\rathj\\anaconda3\\lib\\site-packages (from importlib-metadata>=1.4->pyppeteer>=0.0.14->requests-html->yahoo_fin) (3.4.1)\n",
      "Requirement already satisfied: beautifulsoup4 in c:\\users\\rathj\\anaconda3\\lib\\site-packages (from bs4->requests-html->yahoo_fin) (4.9.3)\n",
      "Requirement already satisfied: soupsieve>1.2 in c:\\users\\rathj\\anaconda3\\lib\\site-packages (from beautifulsoup4->bs4->requests-html->yahoo_fin) (2.2.1)\n",
      "Requirement already satisfied: lxml>=2.1 in c:\\users\\rathj\\anaconda3\\lib\\site-packages (from pyquery->requests-html->yahoo_fin) (4.6.3)\n",
      "Collecting cssselect>0.7.9\n",
      "  Downloading cssselect-1.1.0-py2.py3-none-any.whl (16 kB)\n",
      "Building wheels for collected packages: bs4, fake-useragent, parse, sgmllib3k\n",
      "  Building wheel for bs4 (setup.py): started\n",
      "  Building wheel for bs4 (setup.py): finished with status 'done'\n",
      "  Created wheel for bs4: filename=bs4-0.0.1-py3-none-any.whl size=1273 sha256=843d522115181ee78b0133ab786c8b976a5e08ce7cebe89ec2571a9dea5413cd\n",
      "  Stored in directory: c:\\users\\rathj\\appdata\\local\\pip\\cache\\wheels\\75\\78\\21\\68b124549c9bdc94f822c02fb9aa3578a669843f9767776bca\n",
      "  Building wheel for fake-useragent (setup.py): started\n",
      "  Building wheel for fake-useragent (setup.py): finished with status 'done'\n",
      "  Created wheel for fake-useragent: filename=fake_useragent-0.1.11-py3-none-any.whl size=13486 sha256=4aec9378dacf3c231517b53ef80b941ee48ea8e6e1715de4e8a27a35d35a5ea7\n",
      "  Stored in directory: c:\\users\\rathj\\appdata\\local\\pip\\cache\\wheels\\a0\\b8\\b7\\8c942b2c5be5158b874a88195116b05ad124bac795f6665e65\n",
      "  Building wheel for parse (setup.py): started\n",
      "  Building wheel for parse (setup.py): finished with status 'done'\n",
      "  Created wheel for parse: filename=parse-1.19.0-py3-none-any.whl size=24581 sha256=4384335ab152091e021868ce7380f07e1a8334eab4a0083d461ab368df8c434e\n",
      "  Stored in directory: c:\\users\\rathj\\appdata\\local\\pip\\cache\\wheels\\e5\\33\\1f\\68392720485b3ecf125a69e700baaab7624616deedea2fa6e2\n",
      "  Building wheel for sgmllib3k (setup.py): started\n",
      "  Building wheel for sgmllib3k (setup.py): finished with status 'done'\n",
      "  Created wheel for sgmllib3k: filename=sgmllib3k-1.0.0-py3-none-any.whl size=6065 sha256=5fa9e6e4eb62e7b8eeabd510c6f26babb5672107deb8b1ef1184232dee7bed7a\n",
      "  Stored in directory: c:\\users\\rathj\\appdata\\local\\pip\\cache\\wheels\\83\\63\\2f\\117884c3b19d46b64d3d61690333aa80c88dc14050e269c546\n",
      "Successfully built bs4 fake-useragent parse sgmllib3k\n",
      "Installing collected packages: pyee, cssselect, certifi, w3lib, sgmllib3k, pyquery, pyppeteer, parse, fake-useragent, bs4, requests-html, feedparser, yahoo-fin\n",
      "  Attempting uninstall: certifi\n",
      "    Found existing installation: certifi 2020.12.5\n",
      "    Uninstalling certifi-2020.12.5:\n",
      "      Successfully uninstalled certifi-2020.12.5\n",
      "Successfully installed bs4-0.0.1 certifi-2021.10.8 cssselect-1.1.0 fake-useragent-0.1.11 feedparser-6.0.8 parse-1.19.0 pyee-8.2.2 pyppeteer-1.0.2 pyquery-1.4.3 requests-html-0.10.0 sgmllib3k-1.0.0 w3lib-1.22.0 yahoo-fin-0.8.9.1\n"
     ]
    },
    {
     "name": "stderr",
     "output_type": "stream",
     "text": [
      "ERROR: pip's dependency resolver does not currently take into account all the packages that are installed. This behaviour is the source of the following dependency conflicts.\n",
      "conda-repo-cli 1.0.4 requires pathlib, which is not installed.\n",
      "anaconda-project 0.10.0 requires ruamel-yaml, which is not installed.\n"
     ]
    }
   ],
   "source": [
    "!pip install yahoo_fin"
   ]
  },
  {
   "cell_type": "code",
   "execution_count": null,
   "metadata": {},
   "outputs": [],
   "source": []
  }
 ],
 "metadata": {
  "kernelspec": {
   "display_name": "Python 3",
   "language": "python",
   "name": "python3"
  },
  "language_info": {
   "codemirror_mode": {
    "name": "ipython",
    "version": 3
   },
   "file_extension": ".py",
   "mimetype": "text/x-python",
   "name": "python",
   "nbconvert_exporter": "python",
   "pygments_lexer": "ipython3",
   "version": "3.8.10"
  }
 },
 "nbformat": 4,
 "nbformat_minor": 4
}
